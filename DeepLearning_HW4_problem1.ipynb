{
  "nbformat": 4,
  "nbformat_minor": 0,
  "metadata": {
    "colab": {
      "provenance": []
    },
    "kernelspec": {
      "name": "python3",
      "display_name": "Python 3"
    },
    "language_info": {
      "name": "python"
    }
  },
  "cells": [
    {
      "cell_type": "code",
      "execution_count": null,
      "metadata": {
        "colab": {
          "base_uri": "https://localhost:8080/"
        },
        "id": "zHN8Sdn33OnD",
        "outputId": "8e43fba7-a00e-4605-95d0-56b044059721"
      },
      "outputs": [
        {
          "output_type": "stream",
          "name": "stdout",
          "text": [
            "torch.Size([60000, 28, 28]) 60000\n"
          ]
        }
      ],
      "source": [
        "import torch\n",
        "import numpy as np\n",
        "import random\n",
        "import matplotlib.pyplot as plt\n",
        "import torchvision as thv\n",
        "import cv2\n",
        "train = thv.datasets.MNIST('./', download=True , train=True)\n",
        "val = thv.datasets.MNIST('./', download=True , train=False)\n",
        "print(train.data.shape , len(train.targets))"
      ]
    },
    {
      "cell_type": "code",
      "source": [
        "X_temp = np.concatenate((train.data[np.where(train.targets==0)],train.data[np.where(train.targets==1)]))/255.0\n",
        "X_train = np.zeros((X_temp.shape[0],14*14))\n",
        "X_temp = X_temp.reshape(X_temp.shape[0], -1).astype(np.float32)\n",
        "for i in range(X_temp.shape[0]):\n",
        "  X_train[i] = cv2.resize(X_temp[i].reshape((28,28)),(14,14)).flatten()\n",
        "X_train = np.concatenate((X_train, np.ones([X_train.shape[0],1])),axis=1)\n",
        "y_train = np.concatenate((train.targets[np.where(train.targets==0)],train.targets[np.where(train.targets==1)]))\n",
        "y_train[y_train==1] = -1\n",
        "y_train[y_train==0] = 1\n",
        "\n",
        "\n",
        "X_temp_val = np.concatenate((val.data[np.where(val.targets==0)],val.data[np.where(val.targets==1)]))/255.0\n",
        "X_val = np.zeros((X_temp_val.shape[0],14*14))\n",
        "X_temp_val = X_temp_val.reshape(X_temp_val.shape[0], -1).astype(np.float32)\n",
        "for i in range(X_temp_val.shape[0]):\n",
        "  X_val[i] = cv2.resize(X_temp_val[i].reshape((28,28)),(14,14)).flatten()\n",
        "X_val = np.concatenate((X_val, np.ones([X_val.shape[0],1])),axis=1)\n",
        "y_val = np.concatenate((val.targets[np.where(val.targets==0)],val.targets[np.where(val.targets==1)]))\n",
        "y_val[y_val==1] = -1\n",
        "y_val[y_val==0] = 1"
      ],
      "metadata": {
        "id": "t6Pwu3N_8v0n"
      },
      "execution_count": null,
      "outputs": []
    },
    {
      "cell_type": "code",
      "source": [
        "X_train.shape, y_train.shape, X_val.shape, y_val.shape"
      ],
      "metadata": {
        "colab": {
          "base_uri": "https://localhost:8080/"
        },
        "id": "iq_5zbJHQBw7",
        "outputId": "fed9f080-b589-49bb-b017-74ebaae3c7ec"
      },
      "execution_count": null,
      "outputs": [
        {
          "output_type": "execute_result",
          "data": {
            "text/plain": [
              "((12665, 197), (12665,), (2115, 197), (2115,))"
            ]
          },
          "metadata": {},
          "execution_count": 19
        }
      ]
    },
    {
      "cell_type": "markdown",
      "source": [
        "Gradient Descent"
      ],
      "metadata": {
        "id": "tfz2zhvjbdz-"
      }
    },
    {
      "cell_type": "code",
      "source": [
        "lam_list = [0.00005,0.0001,0.001,0.01,0.1,0.5,1,3,4,5,7]\n",
        "val_loss_list = []\n",
        "lr = 0.001\n",
        "\n",
        "for lam in lam_list:\n",
        "  np.random.seed(1)\n",
        "  W = np.random.rand(X_train.shape[1]).reshape(-1,1)\n",
        "\n",
        "  for i in range(1000):\n",
        "    loss = (np.sum(np.log(1+np.exp(-y_train.reshape(-1,1)*(X_train@W))))/len(y_train)+(lam*(W.T@W))/2)[0,0]\n",
        "    grad_w = -(X_train.T@(y_train.reshape(-1,1)*np.exp(-y_train.reshape(-1,1)*(X_train@W))/(1+np.exp(-y_train.reshape(-1,1)*(X_train@W)))))/len(y_train)+ lam*W\n",
        "    val_loss = (np.sum(np.log(1+np.exp(-y_val.reshape(-1,1)*(X_val@W))))/len(y_val)+(lam*(W.T@W))/2)[0,0]\n",
        "    \n",
        "    W = W - lr*grad_w\n",
        "\n",
        "  val_loss_list.append(val_loss)\n",
        "  print('Lambda:',lam,'Val loss:',val_loss)"
      ],
      "metadata": {
        "colab": {
          "base_uri": "https://localhost:8080/"
        },
        "id": "G3XbPiAAykoP",
        "outputId": "1a0ab6c5-92f9-4b02-dd19-3c26caae58a1"
      },
      "execution_count": null,
      "outputs": [
        {
          "output_type": "stream",
          "name": "stdout",
          "text": [
            "Lambda: 5e-05 Val loss: 1.7808274021204018\n",
            "Lambda: 0.0001 Val loss: 1.7821751582413972\n",
            "Lambda: 0.001 Val loss: 1.8063853541213546\n",
            "Lambda: 0.01 Val loss: 2.0433904608943334\n",
            "Lambda: 0.1 Val loss: 3.9531847313453055\n",
            "Lambda: 0.5 Val loss: 6.263733461625069\n",
            "Lambda: 1 Val loss: 4.454691273023366\n",
            "Lambda: 3 Val loss: 0.7830445795105057\n",
            "Lambda: 4 Val loss: 0.6486009493980849\n",
            "Lambda: 5 Val loss: 0.634122855526278\n",
            "Lambda: 7 Val loss: 0.6449725866646647\n"
          ]
        }
      ]
    },
    {
      "cell_type": "code",
      "source": [
        "lam = lam_list[np.argmin(val_loss_list)]\n",
        "lam"
      ],
      "metadata": {
        "colab": {
          "base_uri": "https://localhost:8080/"
        },
        "id": "tjuW3ntX0oTr",
        "outputId": "5d648b03-3c28-4a19-f489-034b3451073e"
      },
      "execution_count": null,
      "outputs": [
        {
          "output_type": "execute_result",
          "data": {
            "text/plain": [
              "5"
            ]
          },
          "metadata": {},
          "execution_count": 21
        }
      ]
    },
    {
      "cell_type": "code",
      "source": [
        "np.random.seed(1)\n",
        "W = np.random.rand(X_train.shape[1]).reshape(-1,1)\n",
        "\n",
        "train_loss_list1 = []\n",
        "val_loss_list1 = []\n",
        "\n",
        "for i in range(1000):\n",
        "  loss = (np.sum(np.log(1+np.exp(-y_train.reshape(-1,1)*(X_train@W))))/len(y_train)+(lam*(W.T@W))/2)[0,0]\n",
        "  grad_w = -(X_train.T@(y_train.reshape(-1,1)*np.exp(-y_train.reshape(-1,1)*(X_train@W))/(1+np.exp(-y_train.reshape(-1,1)*(X_train@W)))))/len(y_train)+ lam*W\n",
        "  val_loss = (np.sum(np.log(1+np.exp(-y_val.reshape(-1,1)*(X_val@W))))/len(y_val)+(lam*(W.T@W))/2)[0,0]\n",
        "  \n",
        "  W = W - lr*grad_w\n",
        "  train_loss_list1.append(loss)\n",
        "  val_loss_list1.append(val_loss)\n",
        "  if i%50==1:\n",
        "    print(loss, val_loss)"
      ],
      "metadata": {
        "colab": {
          "base_uri": "https://localhost:8080/"
        },
        "id": "k3FFRjuQbBa5",
        "outputId": "4d11f43d-a700-4e6c-da82-25088d66ebbc"
      },
      "execution_count": null,
      "outputs": [
        {
          "output_type": "stream",
          "name": "stdout",
          "text": [
            "163.34385325689718 163.3931881953603\n",
            "98.8708873783157 98.90742416873317\n",
            "59.828485981677915 59.855209422853015\n",
            "36.201670272312256 36.22095254044569\n",
            "21.9246642674697 21.93840660244329\n",
            "13.320633214124491 13.330355730137057\n",
            "8.157283716612097 8.164137397564078\n",
            "5.076457330459455 5.081219876328981\n",
            "3.2501119757919543 3.253267410393427\n",
            "2.17349662970121 2.1753779074535373\n",
            "1.540811550389765 1.5416975050998964\n",
            "1.1690508371717903 1.1691876267015142\n",
            "0.9501296497869895 0.9497224713517833\n",
            "0.8207731646426022 0.8199816675963085\n",
            "0.7440525181405715 0.742994749431872\n",
            "0.6983874645872351 0.6971478214341281\n",
            "0.6711212092218863 0.6697587073652176\n",
            "0.6547971158483308 0.6533523974258426\n",
            "0.6450023666017952 0.6435031074695776\n",
            "0.639114759272817 0.6375796370225695\n"
          ]
        }
      ]
    },
    {
      "cell_type": "code",
      "source": [
        "plt.plot(np.log(train_loss_list1),label='log')\n",
        "\n",
        "plt.legend()"
      ],
      "metadata": {
        "colab": {
          "base_uri": "https://localhost:8080/",
          "height": 282
        },
        "id": "ThxORzDWkm2F",
        "outputId": "edff6aea-48bc-48b3-e20c-2177e92fbb0b"
      },
      "execution_count": null,
      "outputs": [
        {
          "output_type": "execute_result",
          "data": {
            "text/plain": [
              "<matplotlib.legend.Legend at 0x7f260b4ea990>"
            ]
          },
          "metadata": {},
          "execution_count": 23
        },
        {
          "output_type": "display_data",
          "data": {
            "text/plain": [
              "<Figure size 432x288 with 1 Axes>"
            ],
            "image/png": "[encoded data removed]"
          },
          "metadata": {
            "needs_background": "light"
          }
        }
      ]
    },
    {
      "cell_type": "markdown",
      "source": [
        "Nesterov's acceleration"
      ],
      "metadata": {
        "id": "eJ8DqjmRnmtv"
      }
    },
    {
      "cell_type": "code",
      "source": [
        "np.random.seed(1)\n",
        "W = np.random.rand(X_train.shape[1]).reshape(-1,1)\n",
        "W_1 = W.copy()\n",
        "\n",
        "r = 0.9\n",
        "train_loss_list2 = []\n",
        "val_loss_list2 = []\n",
        "\n",
        "\n",
        "for i in range(1000):\n",
        "\n",
        "  loss = (np.sum(np.log(1+np.exp(-y_train.reshape(-1,1)*(X_train@W))))/len(y_train)+(lam*(W.T@W))/2)[0,0]\n",
        "  val_loss = (np.sum(np.log(1+np.exp(-y_val.reshape(-1,1)*(X_val@W))))/len(y_val)+(lam*(W.T@W))/2)[0,0]\n",
        "\n",
        "  u = (1+r)*W-r*W_1\n",
        "  grad_u = -(X_train.T@(y_train.reshape(-1,1)*np.exp(-y_train.reshape(-1,1)*(X_train@u))/(1+np.exp(-y_train.reshape(-1,1)*(X_train@u)))))/len(y_train)+ lam*u\n",
        "  W_1 = W.copy()\n",
        "  W = u - lr*grad_u\n",
        "\n",
        "  train_loss_list2.append(loss)\n",
        "  val_loss_list2.append(val_loss)\n",
        "  if i%50==1:\n",
        "    print(loss, val_loss)"
      ],
      "metadata": {
        "colab": {
          "base_uri": "https://localhost:8080/"
        },
        "id": "qofuSdkQ3rzG",
        "outputId": "87a6d047-e7f4-4925-e6a7-a2fd85811f6c"
      },
      "execution_count": null,
      "outputs": [
        {
          "output_type": "stream",
          "name": "stdout",
          "text": [
            "163.34385325689715 163.39318819536027\n",
            "0.7163646726579873 0.7110363090210546\n",
            "0.6327070599613132 0.6314239096511011\n",
            "0.6301995173713585 0.6285807251927139\n",
            "0.630180582452377 0.6285858309184553\n",
            "0.6301805347193886 0.6285842641656432\n",
            "0.6301805346723965 0.6285843500652787\n",
            "0.6301805346718306 0.6285843457501477\n",
            "0.6301805346718262 0.6285843459343573\n",
            "0.6301805346718262 0.6285843459286157\n",
            "0.6301805346718261 0.6285843459286311\n",
            "0.6301805346718262 0.6285843459286483\n",
            "0.6301805346718261 0.6285843459286464\n",
            "0.6301805346718262 0.6285843459286466\n",
            "0.6301805346718262 0.6285843459286465\n",
            "0.6301805346718262 0.6285843459286465\n",
            "0.6301805346718261 0.6285843459286465\n",
            "0.6301805346718261 0.6285843459286465\n",
            "0.6301805346718261 0.6285843459286465\n",
            "0.6301805346718261 0.6285843459286465\n"
          ]
        }
      ]
    },
    {
      "cell_type": "code",
      "source": [
        "plt.plot(np.log(train_loss_list2),label='log')\n",
        "\n",
        "plt.legend()"
      ],
      "metadata": {
        "colab": {
          "base_uri": "https://localhost:8080/",
          "height": 282
        },
        "id": "uVRk4HTtAVIl",
        "outputId": "67ecb1da-f3fa-4ab6-c78a-a1a5a536b62a"
      },
      "execution_count": null,
      "outputs": [
        {
          "output_type": "execute_result",
          "data": {
            "text/plain": [
              "<matplotlib.legend.Legend at 0x7f260b4ca8d0>"
            ]
          },
          "metadata": {},
          "execution_count": 25
        },
        {
          "output_type": "display_data",
          "data": {
            "text/plain": [
              "<Figure size 432x288 with 1 Axes>"
            ],
            "image/png": "[encoded data removed]"
          },
          "metadata": {
            "needs_background": "light"
          }
        }
      ]
    },
    {
      "cell_type": "markdown",
      "source": [
        "Stochastic gradient descent"
      ],
      "metadata": {
        "id": "7pXxxlnFIQgr"
      }
    },
    {
      "cell_type": "code",
      "source": [
        "# code borrowed from hw1 Q3\n",
        "def shuffle_dataset(X, Y):\n",
        "    indices = np.arange(X.shape[0])\n",
        "    np.random.shuffle(indices)\n",
        "\n",
        "    return X[indices], Y[indices]\n",
        "\n",
        "def batch_generator(X, Y, batch_size):\n",
        "    while True:\n",
        "        X, Y = shuffle_dataset(X, Y)\n",
        "        for i in range((X.shape[0] - batch_size) // batch_size):\n",
        "            yield X[i * batch_size: i * batch_size + batch_size], Y[i * batch_size: i * batch_size + batch_size]\n",
        "\n",
        "train_dataloader = batch_generator(X_train, y_train, batch_size=64)"
      ],
      "metadata": {
        "id": "i1bnHm2wlAuQ"
      },
      "execution_count": null,
      "outputs": []
    },
    {
      "cell_type": "code",
      "source": [
        "np.random.seed(1)\n",
        "W = np.random.rand(X_train.shape[1]).reshape(-1,1)\n",
        "\n",
        "train_loss_list3 = []\n",
        "val_loss_list3 = []\n",
        "\n",
        "for i in range(1000):\n",
        "  i += 1\n",
        "  x, y = train_dataloader.__next__()\n",
        "\n",
        "  # loss = (np.sum(np.log(1+np.exp(-y_train.reshape(-1,1)*(X_train@W))))/len(y_train)+(lam*(W.T@W))/2)[0,0]\n",
        "  loss = (np.sum(np.log(1+np.exp(-y.reshape(-1,1)*(x@W))))/len(y)+(lam*(W.T@W))/2)[0,0]\n",
        "  \n",
        "  val_loss = (np.sum(np.log(1+np.exp(-y_val.reshape(-1,1)*(X_val@W))))/len(y_val)+(lam*(W.T@W))/2)[0,0]\n",
        "  grad_w = -(x.T@(y.reshape(-1,1)*np.exp(-y.reshape(-1,1)*(x@W))/(1+np.exp(-y.reshape(-1,1)*(x@W)))))/len(y)+ lam*W\n",
        "  \n",
        "  W = W - lr*grad_w\n",
        "  train_loss_list3.append(loss)\n",
        "  val_loss_list3.append(val_loss)\n",
        "  if i%50==1:\n",
        "    print(loss, val_loss)"
      ],
      "metadata": {
        "colab": {
          "base_uri": "https://localhost:8080/"
        },
        "id": "SE4OaIpYnWM1",
        "outputId": "167dfe38-f162-4297-c970-c39506380d82"
      },
      "execution_count": null,
      "outputs": [
        {
          "output_type": "stream",
          "name": "stdout",
          "text": [
            "165.99133525237198 165.04135328400218\n",
            "99.46766507667789 99.91829287621779\n",
            "60.29458694697894 60.46672200787547\n",
            "36.679087112829336 36.59542046991535\n",
            "22.39924742386139 22.15614278212874\n",
            "13.444469300765164 13.460265303232909\n",
            "8.204220831012968 8.239674930928224\n",
            "5.197369774215482 5.13012979128773\n",
            "3.332257806904225 3.280622514875926\n",
            "2.2090916405886025 2.1908711248067014\n",
            "1.55605457352189 1.5513480292112205\n",
            "1.2003034014955782 1.1749087831819343\n",
            "0.9495040652487009 0.9532757889419018\n",
            "0.8262182181774799 0.8217359923439155\n",
            "0.7317126466937082 0.7441498950205128\n",
            "0.7075137419214987 0.6978102112961545\n",
            "0.6773478760187424 0.670207705863205\n",
            "0.6536492810723252 0.6535987998277348\n",
            "0.6571234936959419 0.6437338439282813\n",
            "0.6502838471808705 0.637694875834391\n"
          ]
        }
      ]
    },
    {
      "cell_type": "code",
      "source": [
        "plt.plot(np.log(train_loss_list3),label='log')\n",
        "\n",
        "plt.legend()"
      ],
      "metadata": {
        "colab": {
          "base_uri": "https://localhost:8080/",
          "height": 282
        },
        "id": "N_b5IY0xoxE3",
        "outputId": "6a736396-62e3-47c3-b616-568aa029b73b"
      },
      "execution_count": null,
      "outputs": [
        {
          "output_type": "execute_result",
          "data": {
            "text/plain": [
              "<matplotlib.legend.Legend at 0x7f260b453d90>"
            ]
          },
          "metadata": {},
          "execution_count": 28
        },
        {
          "output_type": "display_data",
          "data": {
            "text/plain": [
              "<Figure size 432x288 with 1 Axes>"
            ],
            "image/png": "[encoded data removed]"
          },
          "metadata": {
            "needs_background": "light"
          }
        }
      ]
    },
    {
      "cell_type": "markdown",
      "source": [
        "SGD-with Nesterove"
      ],
      "metadata": {
        "id": "n1tYkDGTntmn"
      }
    },
    {
      "cell_type": "code",
      "source": [
        "np.random.seed(1)\n",
        "W = np.random.rand(X_train.shape[1]).reshape(-1,1)\n",
        "W_1 = W.copy()\n",
        "\n",
        "r = 0.9\n",
        "train_loss_list4 = []\n",
        "val_loss_list4 = []\n",
        "\n",
        "for i in range(1000):\n",
        "\n",
        "  x, y = train_dataloader.__next__()\n",
        "\n",
        "  # loss = (np.sum(np.log(1+np.exp(-y_train.reshape(-1,1)*(X_train@W))))/len(y_train)+(lam*(W.T@W))/2)[0,0]\n",
        "  loss = (np.sum(np.log(1+np.exp(-y.reshape(-1,1)*(x@W))))/len(y)+(lam*(W.T@W))/2)[0,0]\n",
        "\n",
        "  val_loss = (np.sum(np.log(1+np.exp(-y_val.reshape(-1,1)*(X_val@W))))/len(y_val)+(lam*(W.T@W))/2)[0,0]\n",
        "\n",
        "  u = (1+r)*W-r*W_1\n",
        "  grad_u = -(x.T@(y.reshape(-1,1)*np.exp(-y.reshape(-1,1)*(x@u))/(1+np.exp(-y.reshape(-1,1)*(x@u)))))/len(y)+ lam*u\n",
        "  W_1 = W.copy()\n",
        "  W = u - lr*grad_u\n",
        "\n",
        "  train_loss_list4.append(loss)\n",
        "  val_loss_list4.append(val_loss)\n",
        "  if i%50==1:\n",
        "    print(loss, val_loss)"
      ],
      "metadata": {
        "colab": {
          "base_uri": "https://localhost:8080/"
        },
        "id": "SvSeaiMQn29T",
        "outputId": "4824e40a-8867-4fa0-eb74-932dcbb51240"
      },
      "execution_count": null,
      "outputs": [
        {
          "output_type": "stream",
          "name": "stdout",
          "text": [
            "163.6946925170075 163.39509849317537\n",
            "0.6973415245926016 0.7088287464040784\n",
            "0.6341695072062163 0.6311404506377438\n",
            "0.6328542870595678 0.6286234087988006\n",
            "0.6286502830900195 0.6285791749164582\n",
            "0.6162368227283155 0.6285481658579585\n",
            "0.6366759451247016 0.6288739382184982\n",
            "0.6285387015600739 0.6285902356593749\n",
            "0.6369066769009466 0.6285529332323944\n",
            "0.6231812023398737 0.6286296188360403\n",
            "0.6201137301784317 0.6288887634634422\n",
            "0.6247009981186222 0.6286382652236502\n",
            "0.6362037410952709 0.6287444898523674\n",
            "0.6434473315591506 0.628704257459041\n",
            "0.6340181174382027 0.6286510568052195\n",
            "0.6285094772269469 0.6286511746039828\n",
            "0.6330758051602471 0.6285710988047166\n",
            "0.6351698550185271 0.6288896470487347\n",
            "0.6185239716023722 0.6288024805898083\n",
            "0.6408003817647047 0.6286374795173211\n"
          ]
        }
      ]
    },
    {
      "cell_type": "code",
      "source": [
        "plt.plot(np.log(train_loss_list4),label='log')\n",
        "\n",
        "plt.legend()"
      ],
      "metadata": {
        "colab": {
          "base_uri": "https://localhost:8080/",
          "height": 282
        },
        "id": "sr0MATk0oyDF",
        "outputId": "b174ba76-27d5-46af-a27c-940ac56cc708"
      },
      "execution_count": null,
      "outputs": [
        {
          "output_type": "execute_result",
          "data": {
            "text/plain": [
              "<matplotlib.legend.Legend at 0x7f260b3ce7d0>"
            ]
          },
          "metadata": {},
          "execution_count": 30
        },
        {
          "output_type": "display_data",
          "data": {
            "text/plain": [
              "<Figure size 432x288 with 1 Axes>"
            ],
            "image/png": "[encoded data removed]"
          },
          "metadata": {
            "needs_background": "light"
          }
        }
      ]
    },
    {
      "cell_type": "code",
      "source": [
        "plt.plot(np.log(train_loss_list1),label='GD')\n",
        "plt.plot(np.log(train_loss_list2),label='GD-Nesterove')\n",
        "plt.legend()\n",
        "plt.xlabel('number of iteration')\n",
        "plt.ylabel('log scale of train loss')"
      ],
      "metadata": {
        "colab": {
          "base_uri": "https://localhost:8080/",
          "height": 296
        },
        "id": "Mz6Ce_-6yH9g",
        "outputId": "703e4667-73ee-4727-cb27-2c6852b297c5"
      },
      "execution_count": null,
      "outputs": [
        {
          "output_type": "execute_result",
          "data": {
            "text/plain": [
              "Text(0, 0.5, 'log scale of train loss')"
            ]
          },
          "metadata": {},
          "execution_count": 31
        },
        {
          "output_type": "display_data",
          "data": {
            "text/plain": [
              "<Figure size 432x288 with 1 Axes>"
            ],
            "image/png": "[encoded data removed]"
          },
          "metadata": {
            "needs_background": "light"
          }
        }
      ]
    },
    {
      "cell_type": "code",
      "source": [
        "plt.plot(np.log(train_loss_list3),label='SGD')\n",
        "plt.plot(np.log(train_loss_list4),label='SGD-Nesterove')\n",
        "plt.legend()\n",
        "plt.xlabel('number of iteration')\n",
        "plt.ylabel('log scale of train loss')"
      ],
      "metadata": {
        "colab": {
          "base_uri": "https://localhost:8080/",
          "height": 296
        },
        "id": "TmdL6K4A7-gZ",
        "outputId": "8f62969c-a9ad-4b5a-85c6-7de9b6234a72"
      },
      "execution_count": null,
      "outputs": [
        {
          "output_type": "execute_result",
          "data": {
            "text/plain": [
              "Text(0, 0.5, 'log scale of train loss')"
            ]
          },
          "metadata": {},
          "execution_count": 32
        },
        {
          "output_type": "display_data",
          "data": {
            "text/plain": [
              "<Figure size 432x288 with 1 Axes>"
            ],
            "image/png": "[encoded data removed]"
          },
          "metadata": {
            "needs_background": "light"
          }
        }
      ]
    }
  ]
}