{
  "nbformat": 4,
  "nbformat_minor": 0,
  "metadata": {
    "kernelspec": {
      "display_name": "Python 3",
      "language": "python",
      "name": "python3"
    },
    "language_info": {
      "codemirror_mode": {
        "name": "ipython",
        "version": 3
      },
      "file_extension": ".py",
      "mimetype": "text/x-python",
      "name": "python",
      "nbconvert_exporter": "python",
      "pygments_lexer": "ipython3",
      "version": "3.5.1+"
    },
    "colab": {
      "provenance": [],
      "collapsed_sections": []
    }
  },
  "cells": [
    {
      "cell_type": "markdown",
      "metadata": {
        "id": "esB_IsP6tXlJ"
      },
      "source": [
        "# Homework 2: Coding\n",
        "\n",
        "**Due Tuesday September 27th, 11:59pm.**\n",
        "\n",
        "**This assignment can be done individually or in groups of two.**\n",
        "\n",
        "**To submit the coding portion of hw2, provide both hw2.ipynb and hw2.py on Gradescope (One submission per group and don't forget to add your partner's name). Be sure to modify the restriction before sharing.**\n",
        "\n",
        "**Feel free to modify anything in this notebook unless notified.**"
      ]
    },
    {
      "cell_type": "markdown",
      "metadata": {
        "id": "k7A8_5bKoB06"
      },
      "source": [
        "### Imports and Data"
      ]
    },
    {
      "cell_type": "code",
      "metadata": {
        "id": "NexR8Vb2oB0-"
      },
      "source": [
        "\"\"\"\n",
        "Import required libraries.\n",
        "You should not import any other packages without explicit permission.\n",
        "\"\"\"\n",
        "import numpy as np\n",
        "import pandas as pd\n",
        "import time\n",
        "import matplotlib.pyplot as plt"
      ],
      "execution_count": 1,
      "outputs": []
    },
    {
      "cell_type": "code",
      "metadata": {
        "id": "1zjWYTWxb1N0",
        "colab": {
          "base_uri": "https://localhost:8080/",
          "height": 600
        },
        "outputId": "85e99f52-0fe6-45ee-fb06-dc15b970d4cc"
      },
      "source": [
        "\"\"\"\n",
        "Run the following code to upload and unzip the data into the Colab environment.\n",
        "\"\"\"\n",
        "from google.colab import files\n",
        "uploaded = files.upload()\n",
        "!unzip hw2_data.zip"
      ],
      "execution_count": 2,
      "outputs": [
        {
          "output_type": "display_data",
          "data": {
            "text/plain": [
              "<IPython.core.display.HTML object>"
            ],
            "text/html": [
              "\n",
              "     <input type=\"file\" id=\"files-ca59c09a-3cc9-4d4e-94cd-3cbbe8b6bb99\" name=\"files[]\" multiple disabled\n",
              "        style=\"border:none\" />\n",
              "     <output id=\"result-ca59c09a-3cc9-4d4e-94cd-3cbbe8b6bb99\">\n",
              "      Upload widget is only available when the cell has been executed in the\n",
              "      current browser session. Please rerun this cell to enable.\n",
              "      </output>\n",
              "      <script>// Copyright 2017 Google LLC\n",
              "//\n",
              "// Licensed under the Apache License, Version 2.0 (the \"License\");\n",
              "// you may not use this file except in compliance with the License.\n",
              "// You may obtain a copy of the License at\n",
              "//\n",
              "//      http://www.apache.org/licenses/LICENSE-2.0\n",
              "//\n",
              "// Unless required by applicable law or agreed to in writing, software\n",
              "// distributed under the License is distributed on an \"AS IS\" BASIS,\n",
              "// WITHOUT WARRANTIES OR CONDITIONS OF ANY KIND, either express or implied.\n",
              "// See the License for the specific language governing permissions and\n",
              "// limitations under the License.\n",
              "\n",
              "/**\n",
              " * @fileoverview Helpers for google.colab Python module.\n",
              " */\n",
              "(function(scope) {\n",
              "function span(text, styleAttributes = {}) {\n",
              "  const element = document.createElement('span');\n",
              "  element.textContent = text;\n",
              "  for (const key of Object.keys(styleAttributes)) {\n",
              "    element.style[key] = styleAttributes[key];\n",
              "  }\n",
              "  return element;\n",
              "}\n",
              "\n",
              "// Max number of bytes which will be uploaded at a time.\n",
              "const MAX_PAYLOAD_SIZE = 100 * 1024;\n",
              "\n",
              "function _uploadFiles(inputId, outputId) {\n",
              "  const steps = uploadFilesStep(inputId, outputId);\n",
              "  const outputElement = document.getElementById(outputId);\n",
              "  // Cache steps on the outputElement to make it available for the next call\n",
              "  // to uploadFilesContinue from Python.\n",
              "  outputElement.steps = steps;\n",
              "\n",
              "  return _uploadFilesContinue(outputId);\n",
              "}\n",
              "\n",
              "// This is roughly an async generator (not supported in the browser yet),\n",
              "// where there are multiple asynchronous steps and the Python side is going\n",
              "// to poll for completion of each step.\n",
              "// This uses a Promise to block the python side on completion of each step,\n",
              "// then passes the result of the previous step as the input to the next step.\n",
              "function _uploadFilesContinue(outputId) {\n",
              "  const outputElement = document.getElementById(outputId);\n",
              "  const steps = outputElement.steps;\n",
              "\n",
              "  const next = steps.next(outputElement.lastPromiseValue);\n",
              "  return Promise.resolve(next.value.promise).then((value) => {\n",
              "    // Cache the last promise value to make it available to the next\n",
              "    // step of the generator.\n",
              "    outputElement.lastPromiseValue = value;\n",
              "    return next.value.response;\n",
              "  });\n",
              "}\n",
              "\n",
              "/**\n",
              " * Generator function which is called between each async step of the upload\n",
              " * process.\n",
              " * @param {string} inputId Element ID of the input file picker element.\n",
              " * @param {string} outputId Element ID of the output display.\n",
              " * @return {!Iterable<!Object>} Iterable of next steps.\n",
              " */\n",
              "function* uploadFilesStep(inputId, outputId) {\n",
              "  const inputElement = document.getElementById(inputId);\n",
              "  inputElement.disabled = false;\n",
              "\n",
              "  const outputElement = document.getElementById(outputId);\n",
              "  outputElement.innerHTML = '';\n",
              "\n",
              "  const pickedPromise = new Promise((resolve) => {\n",
              "    inputElement.addEventListener('change', (e) => {\n",
              "      resolve(e.target.files);\n",
              "    });\n",
              "  });\n",
              "\n",
              "  const cancel = document.createElement('button');\n",
              "  inputElement.parentElement.appendChild(cancel);\n",
              "  cancel.textContent = 'Cancel upload';\n",
              "  const cancelPromise = new Promise((resolve) => {\n",
              "    cancel.onclick = () => {\n",
              "      resolve(null);\n",
              "    };\n",
              "  });\n",
              "\n",
              "  // Wait for the user to pick the files.\n",
              "  const files = yield {\n",
              "    promise: Promise.race([pickedPromise, cancelPromise]),\n",
              "    response: {\n",
              "      action: 'starting',\n",
              "    }\n",
              "  };\n",
              "\n",
              "  cancel.remove();\n",
              "\n",
              "  // Disable the input element since further picks are not allowed.\n",
              "  inputElement.disabled = true;\n",
              "\n",
              "  if (!files) {\n",
              "    return {\n",
              "      response: {\n",
              "        action: 'complete',\n",
              "      }\n",
              "    };\n",
              "  }\n",
              "\n",
              "  for (const file of files) {\n",
              "    const li = document.createElement('li');\n",
              "    li.append(span(file.name, {fontWeight: 'bold'}));\n",
              "    li.append(span(\n",
              "        `(${file.type || 'n/a'}) - ${file.size} bytes, ` +\n",
              "        `last modified: ${\n",
              "            file.lastModifiedDate ? file.lastModifiedDate.toLocaleDateString() :\n",
              "                                    'n/a'} - `));\n",
              "    const percent = span('0% done');\n",
              "    li.appendChild(percent);\n",
              "\n",
              "    outputElement.appendChild(li);\n",
              "\n",
              "    const fileDataPromise = new Promise((resolve) => {\n",
              "      const reader = new FileReader();\n",
              "      reader.onload = (e) => {\n",
              "        resolve(e.target.result);\n",
              "      };\n",
              "      reader.readAsArrayBuffer(file);\n",
              "    });\n",
              "    // Wait for the data to be ready.\n",
              "    let fileData = yield {\n",
              "      promise: fileDataPromise,\n",
              "      response: {\n",
              "        action: 'continue',\n",
              "      }\n",
              "    };\n",
              "\n",
              "    // Use a chunked sending to avoid message size limits. See b/62115660.\n",
              "    let position = 0;\n",
              "    do {\n",
              "      const length = Math.min(fileData.byteLength - position, MAX_PAYLOAD_SIZE);\n",
              "      const chunk = new Uint8Array(fileData, position, length);\n",
              "      position += length;\n",
              "\n",
              "      const base64 = btoa(String.fromCharCode.apply(null, chunk));\n",
              "      yield {\n",
              "        response: {\n",
              "          action: 'append',\n",
              "          file: file.name,\n",
              "          data: base64,\n",
              "        },\n",
              "      };\n",
              "\n",
              "      let percentDone = fileData.byteLength === 0 ?\n",
              "          100 :\n",
              "          Math.round((position / fileData.byteLength) * 100);\n",
              "      percent.textContent = `${percentDone}% done`;\n",
              "\n",
              "    } while (position < fileData.byteLength);\n",
              "  }\n",
              "\n",
              "  // All done.\n",
              "  yield {\n",
              "    response: {\n",
              "      action: 'complete',\n",
              "    }\n",
              "  };\n",
              "}\n",
              "\n",
              "scope.google = scope.google || {};\n",
              "scope.google.colab = scope.google.colab || {};\n",
              "scope.google.colab._files = {\n",
              "  _uploadFiles,\n",
              "  _uploadFilesContinue,\n",
              "};\n",
              "})(self);\n",
              "</script> "
            ]
          },
          "metadata": {}
        },
        {
          "output_type": "stream",
          "name": "stdout",
          "text": [
            "Saving hw2_data.zip to hw2_data.zip\n",
            "Archive:  hw2_data.zip\n",
            "   creating: hw2_data/\n",
            "  inflating: __MACOSX/._hw2_data     \n",
            "  inflating: hw2_data/.DS_Store      \n",
            "  inflating: __MACOSX/hw2_data/._.DS_Store  \n",
            "   creating: hw2_data/Data_set_2/\n",
            "  inflating: __MACOSX/hw2_data/._Data_set_2  \n",
            "   creating: hw2_data/Data_set_1/\n",
            "  inflating: __MACOSX/hw2_data/._Data_set_1  \n",
            "  inflating: hw2_data/Data_set_2/y_train_5.txt  \n",
            "  inflating: __MACOSX/hw2_data/Data_set_2/._y_train_5.txt  \n",
            "  inflating: hw2_data/Data_set_2/.DS_Store  \n",
            "  inflating: __MACOSX/hw2_data/Data_set_2/._.DS_Store  \n",
            "  inflating: hw2_data/Data_set_2/y_train_100.txt  \n",
            "  inflating: __MACOSX/hw2_data/Data_set_2/._y_train_100.txt  \n",
            "  inflating: hw2_data/Data_set_2/X_test.txt  \n",
            "  inflating: __MACOSX/hw2_data/Data_set_2/._X_test.txt  \n",
            "  inflating: hw2_data/Data_set_2/y_test.txt  \n",
            "  inflating: __MACOSX/hw2_data/Data_set_2/._y_test.txt  \n",
            "  inflating: hw2_data/Data_set_2/X_train_100.txt  \n",
            "  inflating: __MACOSX/hw2_data/Data_set_2/._X_train_100.txt  \n",
            "  inflating: hw2_data/Data_set_2/X_train_5.txt  \n",
            "  inflating: __MACOSX/hw2_data/Data_set_2/._X_train_5.txt  \n",
            "  inflating: hw2_data/Data_set_1/x_train.txt  \n",
            "  inflating: __MACOSX/hw2_data/Data_set_1/._x_train.txt  \n",
            "  inflating: hw2_data/Data_set_1/y_train.txt  \n",
            "  inflating: __MACOSX/hw2_data/Data_set_1/._y_train.txt  \n",
            "  inflating: hw2_data/Data_set_1/x_test.txt  \n",
            "  inflating: __MACOSX/hw2_data/Data_set_1/._x_test.txt  \n",
            "  inflating: hw2_data/Data_set_1/y_test.txt  \n",
            "  inflating: __MACOSX/hw2_data/Data_set_1/._y_test.txt  \n"
          ]
        }
      ]
    },
    {
      "cell_type": "markdown",
      "metadata": {
        "id": "2weGbLJ2txVd"
      },
      "source": [
        "## Q3: Least Squares Regression (40 points)\n",
        "\n",
        "Implement the following functions for question 3. Please **do not** use the sklearn implementation of linear regression or other imports beyond those listed above."
      ]
    },
    {
      "cell_type": "markdown",
      "metadata": {
        "id": "QtdNRriWeBOW"
      },
      "source": [
        "### Q3.1: Implementing Linear Regression (11 points)"
      ]
    },
    {
      "cell_type": "markdown",
      "metadata": {
        "id": "r4LiXAOQoB1J"
      },
      "source": [
        "#### L1 and L2 error (2 points + 2 points)"
      ]
    },
    {
      "cell_type": "code",
      "metadata": {
        "id": "Z0v0785ioB1M"
      },
      "source": [
        "def L1_error(y, y_hat):\n",
        "    \"\"\"\n",
        "    L1 error loss\n",
        "    \n",
        "    Args:\n",
        "    y ((n,1) np.array): actual labels\n",
        "    y_hat ((n,1) np.array): estimated labels\n",
        "    \n",
        "    Returns:\n",
        "        float: L1 error\n",
        "    \"\"\"\n",
        "    # <---- Your code starts here ---->\n",
        "    L1_error_ = np.mean(abs(y-y_hat))\n",
        "    # <---- Your code ends here ---->\n",
        "    \n",
        "    return L1_error_\n",
        "    \n",
        "    \n",
        "    \n",
        "def L2_error(y, y_hat):\n",
        "    \"\"\"\n",
        "    L2 error loss\n",
        "    \n",
        "    Args:\n",
        "    y ((n,1) np.array): actual labels\n",
        "    y_hat ((n,1) np.array): estimated labels\n",
        "    \n",
        "    Returns:\n",
        "        float: L2 error\n",
        "    \"\"\"\n",
        "    # <---- Your code starts here ---->\n",
        "    L2_error_ = sum((y-y_hat)**2)/len(y)\n",
        "    # <---- Your code ends here ---->\n",
        "\n",
        "    return L2_error_"
      ],
      "execution_count": 3,
      "outputs": []
    },
    {
      "cell_type": "code",
      "source": [
        "L2_error(np.array([1,2,3]),np.array([4,5,6]))"
      ],
      "metadata": {
        "colab": {
          "base_uri": "https://localhost:8080/"
        },
        "id": "6JkIjhogRZJi",
        "outputId": "d7d0b98c-8da5-4e2e-be05-85e3bcd6af8f"
      },
      "execution_count": 4,
      "outputs": [
        {
          "output_type": "execute_result",
          "data": {
            "text/plain": [
              "9.0"
            ]
          },
          "metadata": {},
          "execution_count": 4
        }
      ]
    },
    {
      "cell_type": "markdown",
      "metadata": {
        "id": "asQPLD_HoB1T"
      },
      "source": [
        "#### Least Square Regression (3 points)"
      ]
    },
    {
      "cell_type": "code",
      "metadata": {
        "id": "JVMYIbQGoB1W"
      },
      "source": [
        "def LinearRegression(train_data, train_labels):\n",
        "    \"\"\"\n",
        "    Runs OLS on the given data.\n",
        "    \n",
        "    Args:\n",
        "        train_data ((n,p) np.array): n is the number of training points and p the number of features\n",
        "        train_labels ((n,1) np.array): training labels for the training data    \n",
        "    \n",
        "    Returns\n",
        "        tuple: (w, b) where w is a (p,1) weight vector, and b the bias term     \n",
        "    \"\"\"\n",
        "    # <---- Your code starts here ---->\n",
        "    w = np.matmul(np.linalg.inv(np.matmul(train_data.T, train_data)),np.matmul(train_data.T,train_labels))\n",
        "    b = train_labels.mean()-np.matmul(train_data.mean(axis = 0), w)\n",
        "\n",
        "    # <---- Your code ends here ---->\n",
        "    \n",
        "    return (w, b)"
      ],
      "execution_count": 5,
      "outputs": []
    },
    {
      "cell_type": "markdown",
      "metadata": {
        "id": "2-MIQRMFoB1j"
      },
      "source": [
        "#### Ridge Regression (4 points)"
      ]
    },
    {
      "cell_type": "code",
      "metadata": {
        "id": "8twOpQynoB1m"
      },
      "source": [
        "def LinearRegressionL2(train_data, train_labels, lambda_):\n",
        "    \"\"\"\n",
        "    Runs linear regression with L2 regularization (ridge) on the given data.\n",
        "    \n",
        "    Args:\n",
        "        train_data ((n,p) np.array): n is the number of training points and p the number of features\n",
        "        train_labels ((n,1) np.array): training labels for the training data    \n",
        "        lambda_ (float): scalar weighting the L2 penalty\n",
        "\n",
        "    Returns\n",
        "        tuple: (w, b) where w is a (p,1) weight vector, and b the bias term  \n",
        "    \"\"\"\n",
        "    # <---- Your code starts here ---->\n",
        "    w = np.matmul(np.linalg.inv(np.matmul(train_data.T, train_data)+lambda_*np.identity(train_data.shape[1])),np.matmul(train_data.T,train_labels))\n",
        "    b = train_labels.mean()-np.matmul(train_data.mean(axis = 0), w)\n",
        "    # <---- Your code ends here ---->\n",
        "    \n",
        "    return (w, b)"
      ],
      "execution_count": 6,
      "outputs": []
    },
    {
      "cell_type": "markdown",
      "metadata": {
        "id": "wb5CmFknGZXk"
      },
      "source": [
        "### Q3.2: Data Set 1 (synthetic 1-dimensional data) (8 points)"
      ]
    },
    {
      "cell_type": "code",
      "metadata": {
        "id": "lUW8goIOslI4"
      },
      "source": [
        "X_train = pd.read_csv('/content/hw2_data/Data_set_1/x_train.txt', header=None).values\n",
        "y_train = pd.read_csv('/content/hw2_data/Data_set_1/y_train.txt', header=None).values\n",
        "X_test = pd.read_csv('/content/hw2_data/Data_set_1/x_test.txt', header=None).values\n",
        "y_test = pd.read_csv('/content/hw2_data/Data_set_1/y_test.txt', header=None).values"
      ],
      "execution_count": 7,
      "outputs": []
    },
    {
      "cell_type": "markdown",
      "metadata": {
        "id": "cOv6gZT-oB10"
      },
      "source": [
        "#### Q3.2.1: Learning Curve (4 points)\n",
        "\n",
        "Use your implementation of unregularized least squares regression to learn a regression model from first 10$\\%$ of the training data, then 20$\\%$ of the training data, then 30$\\%$ and so on up to 100$\\%$. In each case, measure both the $L_1$ and $L_2$ error on the training examples used, as well as the error on the given test set. Plot a curve showing both errors (on the *y-axis*) as a function of the number of training examples used (on the *x-axis*).\n",
        "\n",
        "Add the resulting curve to your Latex document."
      ]
    },
    {
      "cell_type": "code",
      "metadata": {
        "id": "3gGq3BStoB12",
        "colab": {
          "base_uri": "https://localhost:8080/",
          "height": 295
        },
        "outputId": "5f028b74-41b6-49a3-9afb-fc1f243bf945"
      },
      "source": [
        "L1_train_errors = [0] * 10\n",
        "L2_train_errors = [0] * 10\n",
        "L1_test_errors = [0] * 10\n",
        "L2_test_errors = [0] * 10\n",
        "\n",
        "# <---- Your code starts here ---->\n",
        "for i in range(10):\n",
        "  temp = LinearRegression(X_train[:int(len(X_train)*(i+1)*0.1)],y_train[:int(len(y_train)*(i+1)*0.1)])\n",
        "  L1_train_errors[i] = L1_error(y_train[:int(len(X_train)*(i+1)*0.1)], np.matmul(X_train[:int(len(y_train)*(i+1)*0.1)],temp[0])+temp[1])\n",
        "  L2_train_errors[i] = L2_error(y_train[:int(len(X_train)*(i+1)*0.1)], np.matmul(X_train[:int(len(y_train)*(i+1)*0.1)],temp[0])+temp[1])\n",
        "  temp1 = LinearRegression(X_test,y_test)\n",
        "  L1_test_errors[i] = L1_error(y_test, np.matmul(X_test,temp[0])+temp[1])\n",
        "  L2_test_errors[i] = L2_error(y_test, np.matmul(X_test,temp[0])+temp[1])\n",
        "# <---- Your code ends here ---->\n",
        "\n",
        "plt.plot(range(10), L1_train_errors, label ='L1_train')\n",
        "plt.plot(range(10), L1_test_errors, label ='L1_test')\n",
        "plt.plot(range(10), L2_train_errors, label = 'L2_train')\n",
        "plt.plot(range(10), L2_test_errors, label = 'L2_test')\n",
        "plt.legend(bbox_to_anchor=(1.05, 1), loc='upper left', borderaxespad=0.)\n",
        "plt.title(\"Learning Curve\")\n",
        "plt.xlabel(\"Percent of Training Data\")\n",
        "plt.xticks(range(10), range(10,101,10))\n",
        "plt.ylabel(\"Error\")\n",
        "plt.show()"
      ],
      "execution_count": 8,
      "outputs": [
        {
          "output_type": "display_data",
          "data": {
            "text/plain": [
              "<Figure size 432x288 with 1 Axes>"
            ],
            "image/png": "[encoded data removed]"
          },
          "metadata": {
            "needs_background": "light"
          }
        }
      ]
    },
    {
      "cell_type": "markdown",
      "metadata": {
        "id": "giK5b9ukoB1_"
      },
      "source": [
        "#### Q3.2.2: Analysis of model learned from full training data (4 points)\n",
        "\n",
        "Write down the weight and bias terms, $\\hat{w}$ and $\\hat{b}$, learned from the full training data in your Latex document. Also, write down the $L_2$ training and test error of this model. In a single figure, draw a plot of the learned linear function (input instance on the *x-axis* and the predicted value on the *y-axis*), along with a scatter plot depicting the true label associated with each test instance.\n",
        "\n",
        "Add the resulting plot to your Latex document."
      ]
    },
    {
      "cell_type": "code",
      "metadata": {
        "id": "xvVwctBdoB2B",
        "colab": {
          "base_uri": "https://localhost:8080/",
          "height": 349
        },
        "outputId": "8fd0f8ea-0686-45bb-ef2e-db00640abb72"
      },
      "source": [
        "# <---- Your code starts here ---->\n",
        "temp = LinearRegression(X_train[:int(len(X_train))],y_train[:int(len(y_train))])\n",
        "w, b = temp[0], temp[1]\n",
        "print(w)\n",
        "print(b)\n",
        "print(L2_error(y_train,np.matmul(X_train, w)+b))\n",
        "print(L2_error(y_test,np.matmul(X_test, w)+b))\n",
        "# <---- Your code ends here ---->\n",
        "\n",
        "x = np.linspace(-1, 1)\n",
        "plt.plot(x,(x * w + b).T, color='red')\n",
        "plt.scatter(X_test, y_test, s=10)\n",
        "plt.title('Model from Full Training Data')\n",
        "plt.show()"
      ],
      "execution_count": 9,
      "outputs": [
        {
          "output_type": "stream",
          "name": "stdout",
          "text": [
            "[[0.90654965]]\n",
            "[0.03252117]\n",
            "[0.36796427]\n",
            "[0.42752949]\n"
          ]
        },
        {
          "output_type": "display_data",
          "data": {
            "text/plain": [
              "<Figure size 432x288 with 1 Axes>"
            ],
            "image/png": "[encoded data removed]"
          },
          "metadata": {
            "needs_background": "light"
          }
        }
      ]
    },
    {
      "cell_type": "markdown",
      "metadata": {
        "id": "Da9OzOtuVCHZ"
      },
      "source": [
        "### Q3.3: Data Set 2 (real 12-dimensional data) (21 points)"
      ]
    },
    {
      "cell_type": "markdown",
      "metadata": {
        "id": "P20rbONVoB2P"
      },
      "source": [
        "#### Q3.3.1-3.3.2: Regression on different portions of training data (6 points + 6 points)\n",
        "\n",
        "#### Regression on 5$\\%$ of the training data. \n",
        "Use your implementation of $L_2$-regularized least squares regression to learn a model on 5$\\%$ of the training data. Select the regularization parameter from the range $\\{$0.01,0.02,0.05,0.1,0.2,0.5,1,2,5,10,20,50,100,200,500,1000,2000,5000$\\}$ using 5-fold cross validation on the relevant training data. Draw a plot showing $\\lambda$ on the *x-axis* and the training, test, and cross validation errors on the *y-axis* using the $L_2$ error. \n",
        "\n",
        "Then record the chosen value of $\\lambda$ along with the weight vector, bias term, and all corresponding errors for the chosen value of $\\lambda$.\n",
        "        \n",
        "#### Regression on 100$\\%$ of the training data.\n",
        "\n",
        "Repeat the above process, but instead learn from the full training data for $L_2$-regularized regression. Plot all of the errors, and record the chosen value of $\\lambda$ along with the weight vector, bias term, and all corresponding errors for the chosen value of $\\lambda$.\n",
        "\n",
        "Add the resulting curves to your Latex document."
      ]
    },
    {
      "cell_type": "code",
      "metadata": {
        "id": "ssEm895ToB2T",
        "colab": {
          "base_uri": "https://localhost:8080/",
          "height": 1000
        },
        "outputId": "909ad045-c749-4c5f-9e33-2223566a3d2c"
      },
      "source": [
        "from sklearn.model_selection import cross_validate\n",
        "\n",
        "for percent in [5, 100]:\n",
        "    lambdas = [0.01,0.02,0.05,0.1,0.2,0.5,1,2,5,10,20,50,100,200,500,1000,2000,5000]\n",
        "    \n",
        "    train_error = [0] * len(lambdas)\n",
        "    cv_error = [0] * len(lambdas)\n",
        "    test_error = [0] * len(lambdas)\n",
        "    wb_list = [0] * len(lambdas)\n",
        "\n",
        "    X_test = pd.read_csv('/content/hw2_data/Data_set_2/X_test.txt', header=None).values\n",
        "    y_test = pd.read_csv('/content/hw2_data/Data_set_2/y_test.txt', header=None).values\n",
        "    X_train = pd.read_csv('/content/hw2_data/Data_set_2/X_train_'+str(percent)+'.txt', header=None).values\n",
        "    y_train = pd.read_csv('/content/hw2_data/Data_set_2/y_train_'+str(percent)+'.txt', header=None).values\n",
        "\n",
        "\n",
        "    index = np.arange(X_train.shape[0])\n",
        "    np.random.shuffle(index)\n",
        "    X_train, y_train = X_train[index], y_train[index]\n",
        "\n",
        "    # <---- Your code starts here ---->\n",
        "    for j, lambdas_ in enumerate(lambdas):\n",
        "      length = len(X_train)//5\n",
        "      cv_train_error = [0]*5\n",
        "      cv_cv_error = [0]*5\n",
        "      cv_test_error = [0]*5\n",
        "      temp_ = [0]*5\n",
        "      for i in range(5):\n",
        "        xtest = X_train[i*(length):(i+1)*length]\n",
        "        ytest = y_train[i*(length):(i+1)*length]\n",
        "        if X_train[:i*(length)] == []:\n",
        "          xtrain = X_train[(i+1)*length:]\n",
        "          ytrain = y_train[(i+1)*length:]\n",
        "        elif X_train[(i+1)*length:] == []:\n",
        "          xtrain = X_train[:i*(length)]\n",
        "          ytrain = y_train[:i*(length)]\n",
        "        else:\n",
        "          xtrain = np.vstack([X_train[:i*(length)],X_train[(i+1)*length:]])\n",
        "          ytrain = np.vstack([y_train[:i*(length)],y_train[(i+1)*length:]])\n",
        "        temp = LinearRegressionL2(xtrain,ytrain,lambdas_)\n",
        "        temp_[i] = temp\n",
        "        cv_train_error[i] = L2_error(ytrain,np.matmul(xtrain,temp[0])+temp[1])\n",
        "        cv_test_error[i] = L2_error(ytest,np.matmul(xtest,temp[0])+temp[1])\n",
        "      cv_error[j] = np.mean(cv_test_error)\n",
        "      temp2 = LinearRegressionL2(X_train,y_train,lambdas_)\n",
        "      train_error[j] = L2_error(y_train,np.matmul(X_train, temp2[0])+temp2[1])\n",
        "      test_error[j] = L2_error(y_test,np.matmul(X_test, temp2[0])+temp2[1])\n",
        "      wb_list[j] = temp_[np.argmin(np.array(cv_test_error))]\n",
        "    index = np.argmin(cv_error)\n",
        "    print('lambda: ',lambdas[index])\n",
        "    print('W,b: ',wb_list[index])\n",
        "    print('CV, Test, Train Error: ',cv_error[index],test_error[index],train_error[index])\n",
        "\n",
        "\n",
        "    # <---- Your code ends here ---->\n",
        "        \n",
        "    plt.plot(range(len(lambdas)), train_error, label='training error')\n",
        "    plt.plot(range(len(lambdas)), cv_error, label='cv error')\n",
        "    plt.plot(range(len(lambdas)), test_error, label='test error')\n",
        "    plt.legend(bbox_to_anchor=(1.05, 1), loc='upper left', borderaxespad=0.)\n",
        "    plt.title('Regression on ' + str(percent) + '% of the training data')\n",
        "    plt.ylabel('L2 error')\n",
        "    plt.xlabel('Lambda Value')\n",
        "    plt.xticks(range(len(lambdas)), lambdas, rotation=45)\n",
        "    plt.show()"
      ],
      "execution_count": 13,
      "outputs": [
        {
          "output_type": "stream",
          "name": "stdout",
          "text": [
            "lambda:  10\n",
            "W,b:  (array([[   75.91352396],\n",
            "       [ 2917.3501482 ],\n",
            "       [  204.97847318],\n",
            "       [ 4158.44593167],\n",
            "       [-1241.45845826],\n",
            "       [-5106.00525846],\n",
            "       [ 5790.14488261],\n",
            "       [ 1261.74187281],\n",
            "       [ -533.51236114],\n",
            "       [ -238.54461539],\n",
            "       [ 2416.11943407],\n",
            "       [  392.63810707]]), array([595.59449101]))\n",
            "CV, Test, Train Error:  128612296.14770651 [1.73189138e+08] [86148203.40716311]\n"
          ]
        },
        {
          "output_type": "stream",
          "name": "stderr",
          "text": [
            "/usr/local/lib/python3.7/dist-packages/ipykernel_launcher.py:31: DeprecationWarning: elementwise comparison failed; this will raise an error in the future.\n",
            "/usr/local/lib/python3.7/dist-packages/ipykernel_launcher.py:34: DeprecationWarning: elementwise comparison failed; this will raise an error in the future.\n"
          ]
        },
        {
          "output_type": "display_data",
          "data": {
            "text/plain": [
              "<Figure size 432x288 with 1 Axes>"
            ],
            "image/png": "[encoded data removed]"
          },
          "metadata": {
            "needs_background": "light"
          }
        },
        {
          "output_type": "stream",
          "name": "stdout",
          "text": [
            "lambda:  2\n",
            "W,b:  (array([[    64.03348197],\n",
            "       [  3513.99746076],\n",
            "       [  1485.23798727],\n",
            "       [  2477.36781805],\n",
            "       [ -6063.01868674],\n",
            "       [-10725.75246832],\n",
            "       [  6555.12239551],\n",
            "       [  2363.05420665],\n",
            "       [  2672.44913154],\n",
            "       [  4520.91570456],\n",
            "       [  2784.27924308],\n",
            "       [  2738.05387089]]), array([851.20692733]))\n",
            "CV, Test, Train Error:  109149147.31653436 [1.29603328e+08] [1.06173017e+08]\n"
          ]
        },
        {
          "output_type": "display_data",
          "data": {
            "text/plain": [
              "<Figure size 432x288 with 1 Axes>"
            ],
            "image/png": "[encoded data removed]"
          },
          "metadata": {
            "needs_background": "light"
          }
        }
      ]
    },
    {
      "cell_type": "markdown",
      "metadata": {
        "id": "0zkrzJ8LYWNv"
      },
      "source": [
        "#### Q3.3.3-3.3.4: Report on Latex (5 points + 4 points)\n",
        "Answer the following questions on Latex in the respective section.\n",
        "\n",
        "3.2.3 For each of the two training sets considered above (5$\\%$ and 100$\\%$), compare the training and test errors of the models learned using unregularized least squares regression and ridge regression. What can you conclude from this about the value of regularization for small and large training sets?\n",
        "\n",
        "3.2.4 For each of the two training sets considered above (5$\\%$ and 100$\\%$), Which $\\lambda$ should be larger by theory?why? Do those values align with the conclusion you made in part 3.2.3?\n"
      ]
    },
    {
      "cell_type": "markdown",
      "metadata": {
        "id": "iqECw4f6LJCx"
      },
      "source": [
        "# Submission\n",
        "\n",
        "**Due Tuesday 27th September, 11:59pm**\n",
        "\n",
        "There are 3 deliverables you need to submit to Gradescope.\n",
        "\n",
        "1. A PDF compilation of hw2.tex with your name(s) in agreement.\n",
        "\n",
        "2. Your .ipynb file. Named, hw2.ipynb\n",
        "\n",
        "3. Your .py file. Named, hw2.py\n",
        "\n",
        "(to get 2 and 3, in this Colab notebook go to File -> Download)\n",
        "\n",
        "If you are working in pairs make sure to add your team member’s name on Gradescope when submitting\n"
      ]
    }
  ]
}