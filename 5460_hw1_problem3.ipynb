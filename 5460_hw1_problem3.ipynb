{
  "cells": [
    {
      "cell_type": "markdown",
      "metadata": {
        "id": "view-in-github",
        "colab_type": "text"
      },
      "source": [
        "<a href=\"https://colab.research.google.com/github/plingyy/22fall_hw/blob/main/5460_hw1_problem3.ipynb\" target=\"_parent\"><img src=\"https://colab.research.google.com/assets/colab-badge.svg\" alt=\"Open In Colab\"/></a>"
      ]
    },
    {
      "cell_type": "markdown",
      "metadata": {
        "id": "jetQKf_8r67P"
      },
      "source": [
        "Problem3"
      ]
    },
    {
      "cell_type": "markdown",
      "metadata": {
        "id": "QhIrGmJzMT3V"
      },
      "source": [
        "(a)"
      ]
    },
    {
      "cell_type": "code",
      "execution_count": null,
      "metadata": {
        "colab": {
          "base_uri": "https://localhost:8080/",
          "height": 434,
          "referenced_widgets": [
            "8f747011cbc24d00bf366a135743b784",
            "e7e6225370df4eaa900f0853a6700e39",
            "3c1620216f2a4e98beaebe33d72069db",
            "3fa527c36ee3479786d536b26d608e47",
            "e6c2edeb97aa4fccbdb874822ee83ae8",
            "3e3fbb59056441f88fcb45d1ad04fa33",
            "3006c8a9669a48ea9a5f7e0be8c5b6c8",
            "2370fb461c174d139abd71799387254b",
            "921aa31afe4d4495888ac05cb6d772da",
            "fcaaf3fbd4d64fa89d18fd51fe9e47e3",
            "b5ea07d2124346439df75f3d2f1633fe",
            "dbb6ecd0d40541e2a48a4bd37ae8d5eb",
            "022e16afcb1345e4abf6ae48d2f0db0b",
            "a70dff6af84e4541b336b35ba1f65318",
            "0fa1a9960b284d4db0035b32de6ab1e8",
            "f7f4fa02022149379316ffd48b0d88db",
            "b550fe708cf444378a0de0efb29bfef8",
            "f10c0bded10e4e618855bd0bbe816eb2",
            "636c614271484b2296eaeb02212de1be",
            "b68d26ecb44947329aa64ce3cbfe2e97",
            "ed77216c794b4f6ebec97b60cc8a6c26",
            "a433650bf91d4090a23299771ddcc48f",
            "127c4149e58a43a7b2ad2af79e10188f",
            "c90f251d4ae64559bcd720c2180ead91",
            "0d2ba341cd3147ba89214c8e480af655",
            "da4270646f1e4b0b9d5142a3d5aa7e1f",
            "df2c20ab6d5c4feba56c3e866ef2e16f",
            "1ae970553e144a2c8dd715980ed167dd",
            "1a196da6f5e6426e9330cef7c63f831c",
            "48a349770a5842bfa3a7c428df4a977a",
            "bc27202280484140a9a9dce2cc969fc9",
            "832e6d954d1e4f1daea27a2283276d88",
            "fc09a2a372e44837ac09f0d7671556fb",
            "74cb004c3a424acd8f3f9b9e5ced6b27",
            "366b78c9ffe2415cad9f187f4e6daeb5",
            "2b2fa632b31c492f880774e3f6834443",
            "7b8dd271ead547499cc13842a3430e33",
            "0b9d5e72e023404fb3a3b10aab719136",
            "2e9ba9937a404b41b0ed69e828fbcc9c",
            "5c81f5eb1d8f444cbc7314246a91e30a",
            "0943fc1728614207ab0588c2d80a35c0",
            "5aaa8d280fe14f2f928d1d4ebb19dbb0",
            "b3a4ec9989ef4212bac4d7ce7c690e2d",
            "cb49989d9f3b424cbf651b6dc26aec2a"
          ]
        },
        "id": "Ih7004-Br9UM",
        "outputId": "85b17f2c-e50c-438f-933b-6d56175bc41b"
      },
      "outputs": [
        {
          "output_type": "stream",
          "name": "stdout",
          "text": [
            "Downloading http://yann.lecun.com/exdb/mnist/train-images-idx3-ubyte.gz\n",
            "Downloading http://yann.lecun.com/exdb/mnist/train-images-idx3-ubyte.gz to ./MNIST/raw/train-images-idx3-ubyte.gz\n"
          ]
        },
        {
          "output_type": "display_data",
          "data": {
            "text/plain": [
              "  0%|          | 0/9912422 [00:00<?, ?it/s]"
            ],
            "application/vnd.jupyter.widget-view+json": {
              "version_major": 2,
              "version_minor": 0,
              "model_id": "8f747011cbc24d00bf366a135743b784"
            }
          },
          "metadata": {}
        },
        {
          "output_type": "stream",
          "name": "stdout",
          "text": [
            "Extracting ./MNIST/raw/train-images-idx3-ubyte.gz to ./MNIST/raw\n",
            "\n",
            "Downloading http://yann.lecun.com/exdb/mnist/train-labels-idx1-ubyte.gz\n",
            "Downloading http://yann.lecun.com/exdb/mnist/train-labels-idx1-ubyte.gz to ./MNIST/raw/train-labels-idx1-ubyte.gz\n"
          ]
        },
        {
          "output_type": "display_data",
          "data": {
            "text/plain": [
              "  0%|          | 0/28881 [00:00<?, ?it/s]"
            ],
            "application/vnd.jupyter.widget-view+json": {
              "version_major": 2,
              "version_minor": 0,
              "model_id": "dbb6ecd0d40541e2a48a4bd37ae8d5eb"
            }
          },
          "metadata": {}
        },
        {
          "output_type": "stream",
          "name": "stdout",
          "text": [
            "Extracting ./MNIST/raw/train-labels-idx1-ubyte.gz to ./MNIST/raw\n",
            "\n",
            "Downloading http://yann.lecun.com/exdb/mnist/t10k-images-idx3-ubyte.gz\n",
            "Downloading http://yann.lecun.com/exdb/mnist/t10k-images-idx3-ubyte.gz to ./MNIST/raw/t10k-images-idx3-ubyte.gz\n"
          ]
        },
        {
          "output_type": "display_data",
          "data": {
            "text/plain": [
              "  0%|          | 0/1648877 [00:00<?, ?it/s]"
            ],
            "application/vnd.jupyter.widget-view+json": {
              "version_major": 2,
              "version_minor": 0,
              "model_id": "127c4149e58a43a7b2ad2af79e10188f"
            }
          },
          "metadata": {}
        },
        {
          "output_type": "stream",
          "name": "stdout",
          "text": [
            "Extracting ./MNIST/raw/t10k-images-idx3-ubyte.gz to ./MNIST/raw\n",
            "\n",
            "Downloading http://yann.lecun.com/exdb/mnist/t10k-labels-idx1-ubyte.gz\n",
            "Downloading http://yann.lecun.com/exdb/mnist/t10k-labels-idx1-ubyte.gz to ./MNIST/raw/t10k-labels-idx1-ubyte.gz\n"
          ]
        },
        {
          "output_type": "display_data",
          "data": {
            "text/plain": [
              "  0%|          | 0/4542 [00:00<?, ?it/s]"
            ],
            "application/vnd.jupyter.widget-view+json": {
              "version_major": 2,
              "version_minor": 0,
              "model_id": "74cb004c3a424acd8f3f9b9e5ced6b27"
            }
          },
          "metadata": {}
        },
        {
          "output_type": "stream",
          "name": "stdout",
          "text": [
            "Extracting ./MNIST/raw/t10k-labels-idx1-ubyte.gz to ./MNIST/raw\n",
            "\n",
            "torch.Size([60000, 28, 28]) 60000\n"
          ]
        }
      ],
      "source": [
        "import torchvision as thv\n",
        "train = thv.datasets.MNIST('./', download=True , train=True)\n",
        "val = thv.datasets.MNIST('./', download=True , train=False)\n",
        "print(train.data.shape , len(train.targets))"
      ]
    },
    {
      "cell_type": "code",
      "execution_count": null,
      "metadata": {
        "id": "_BLpeZT0wSSy"
      },
      "outputs": [],
      "source": [
        "import torch\n",
        "import numpy as np\n",
        "import random\n",
        "import matplotlib.pyplot as plt"
      ]
    },
    {
      "cell_type": "code",
      "execution_count": null,
      "metadata": {
        "id": "sdQHoHFcuhhS"
      },
      "outputs": [],
      "source": [
        "x_train = np.zeros([30000,28,28])\n",
        "y_train = np.zeros([30000])\n",
        "x_val = np.zeros([5000,28,28])\n",
        "y_val = np.zeros([5000])\n",
        "\n",
        "for i in range(10):\n",
        "  x_train[i*3000:(i+1)*3000,:] = train.data[np.where(train.targets==i)][:3000,:,:].numpy()\n",
        "  y_train[i*3000:(i+1)*3000] = np.array([i]*3000)\n",
        "  x_val[i*500:(i+1)*500,:] = val.data[np.where(val.targets==i)][:500,:,:].numpy()\n",
        "  y_val[i*500:(i+1)*500] = np.array([i]*500)\n",
        "\n",
        "x_train = x_train.reshape(x_train.shape[0],-1)/255\n",
        "x_val = x_val.reshape(x_val.shape[0],-1)/255\n",
        "\n",
        "# shuffle data\n",
        "index = np.arange(x_train.shape[0])\n",
        "np.random.shuffle(index)\n",
        "x_train, y_train = x_train[index], y_train[index]\n",
        "\n",
        "index = np.arange(x_val.shape[0])\n",
        "x_val, y_val = x_val[index], y_val[index]"
      ]
    },
    {
      "cell_type": "code",
      "execution_count": null,
      "metadata": {
        "colab": {
          "base_uri": "https://localhost:8080/",
          "height": 208
        },
        "id": "j4e601thy6Z7",
        "outputId": "0ee2993e-2ada-4d05-fb8f-8a1c856f5168"
      },
      "outputs": [
        {
          "output_type": "display_data",
          "data": {
            "text/plain": [
              "<Figure size 1080x216 with 5 Axes>"
            ],
            "image/png": "[encoded data removed]"
          },
          "metadata": {
            "needs_background": "light"
          }
        }
      ],
      "source": [
        "fig = plt.figure(figsize=(15,3))\n",
        "for t, i in enumerate(random.sample(range(30000),5)):\n",
        "  fig.add_subplot(1,5,t+1)\n",
        "  plt.title(np.array(int(y_train[i])))\n",
        "  plt.imshow(x_train[i].reshape((28,28)))"
      ]
    },
    {
      "cell_type": "markdown",
      "metadata": {
        "id": "Ae_TQoCGJOrU"
      },
      "source": [
        "(b)"
      ]
    },
    {
      "cell_type": "code",
      "execution_count": null,
      "metadata": {
        "id": "f7b0TfLcJQPp"
      },
      "outputs": [],
      "source": [
        "class linear_t:\n",
        "  def __init__(self):\n",
        "  # initialize to appropriate sizes , fill with Gaussian entires\n",
        "  # normalize to make the Frobenius norm of w, b equal to 1\n",
        "    self.w, self.b = np.random.rand(10,784), np.random.rand(10,1)\n",
        "    self.w, self.b = self.w/np.linalg.norm(self.w, 'fro'), self.b/np.linalg.norm(self.b, 'fro')\n",
        "    self.dw, self.db = 0, 0\n",
        "\n",
        "  def forward(self, hl):\n",
        "  # cache h^l in forward because we will need it to compute dw in backward\n",
        "    self.hl = hl\n",
        "    return np.matmul(hl, self.w.T) + self.b.T\n",
        "\n",
        "  def backward(self, dhl):\n",
        "    # notice that there is no need to cache dh^l\n",
        "    self.dw = np.matmul(dhl.T,self.hl)\n",
        "    self.db = np.matmul(dhl.T,np.ones([self.hl.shape[0], 1]))\n",
        "\n",
        "  def zero_grad (self):\n",
        "  # useful to delete the stored backprop gradients of the previous mini -batch before you start a new mini -batch\n",
        "    self.dw , self.db = 0*self.dw , 0*self.db\n",
        "\n",
        "  def check_backward(self, dhl1):\n",
        "    i = random.choice(range(10))\n",
        "    j = random.choice(range(784))\n",
        "    \n",
        "    epsilon = np.zeros_like(self.w)\n",
        "    ij_epsilon = np.random.normal(0,1)\n",
        "    epsilon[i,j] = ij_epsilon\n",
        "    self.dw = (np.matmul(self.hl,(self.w+epsilon).T) - np.matmul(self.hl,(self.w-epsilon).T))/2*ij_epsilon"
      ]
    },
    {
      "cell_type": "markdown",
      "metadata": {
        "id": "81Qg-Jy9X-n6"
      },
      "source": [
        "#### (c)"
      ]
    },
    {
      "cell_type": "code",
      "execution_count": null,
      "metadata": {
        "id": "-xgcJ8DGX9pn"
      },
      "outputs": [],
      "source": [
        "class relu_t:\n",
        "  def __init__(self):\n",
        "    self.relu = 0\n",
        "\n",
        "  def forward(self, hl):\n",
        "    self.relu = np.maximum(0, hl)\n",
        "    return self.relu\n",
        "\n",
        "  def backward(self, dhl):\n",
        "    return dhl * (self.relu > 0)\n",
        "\n",
        "  def zero_grad (self):\n",
        "  # useful to delete the stored backprop gradients of the previous mini -batch before you start a new mini -batch\n",
        "    self.relu = 0*self.relu"
      ]
    },
    {
      "cell_type": "markdown",
      "metadata": {
        "id": "sr1Drq41YKWe"
      },
      "source": [
        "#### (d)"
      ]
    },
    {
      "cell_type": "code",
      "execution_count": null,
      "metadata": {
        "id": "3B7u3615YJa8"
      },
      "outputs": [],
      "source": [
        "class softmax_cross_entropy_t:\n",
        "  def __init__(self):\n",
        "    # no parameters , nothing to initialize\n",
        "    self.probability = []\n",
        "    self.y = []\n",
        "\n",
        "  def forward(self, hl, y):\n",
        "    n = hl.shape[0]\n",
        "    hl_exp = np.exp(hl)\n",
        "    # prob = np.clip(hl_exp/np.sum(hl_exp,axis=1,keepdims=True),1e-8,1-(1e-8))\n",
        "    prob = hl_exp/np.sum(hl_exp,axis=1,keepdims=True)\n",
        "    self.probability = prob\n",
        "    self.y = y\n",
        "    # compute average loss ell(y) over a mini-batch\n",
        "    ell = np.mean(-np.log(prob[range(n), y.astype(int)])) #for visualization/probability log sum of the right target\n",
        "    error = np.sum(y != np.argmax(prob, axis=1)) / n #percentage that prediction is not target\n",
        "    return ell, error\n",
        "\n",
        "  def backward(self):\n",
        "    n = self.probability.shape[0]\n",
        "    self.probability[range(n), self.y.astype(int)] -= 1\n",
        "    return self.probability/n\n",
        "\n",
        "  def zero_grad (self):\n",
        "  # useful to delete the stored backprop gradients of the previous mini -batch before you start a new mini -batch\n",
        "    self.probability , self.y = 0*self.probability , 0*self.y"
      ]
    },
    {
      "cell_type": "markdown",
      "metadata": {
        "id": "nibiTRGIRyW6"
      },
      "source": [
        "(e) check"
      ]
    },
    {
      "cell_type": "code",
      "source": [],
      "metadata": {
        "id": "Oc3gBXEnMNBE"
      },
      "execution_count": null,
      "outputs": []
    },
    {
      "cell_type": "code",
      "source": [
        "dhl1 = np.arange(10)\n",
        "dhl1[5] = 1"
      ],
      "metadata": {
        "id": "9TUmVc9JXa64"
      },
      "execution_count": null,
      "outputs": []
    },
    {
      "cell_type": "markdown",
      "metadata": {
        "id": "pO3QLulknl5r"
      },
      "source": [
        "(f) train"
      ]
    },
    {
      "cell_type": "code",
      "execution_count": null,
      "metadata": {
        "id": "TlJDYkKBnuxG"
      },
      "outputs": [],
      "source": [
        "# load dataset\n",
        "lr = 0.01\n",
        "batch_size = 32\n",
        "\n",
        "# initialize all the layers\n",
        "l1 , l2 , l3 = linear_t(), relu_t(), softmax_cross_entropy_t()\n",
        "net = [l1 , l2 , l3]\n",
        "train_loss = []\n",
        "train_error = []\n",
        "\n",
        "\n",
        "# train for at least 1000 iterations\n",
        "for t in range(10):\n",
        "  print('Epoch: ',t)\n",
        "  index = np.arange(x_train.shape[0])\n",
        "  np.random.shuffle(index)\n",
        "  x_train, y_train = x_train[index], y_train[index]\n",
        "  for j in range(int(len(x_train)/batch_size)):\n",
        "  # 1. sample a mini -batch of size = 32 \n",
        "  # each image in the mini -batch is chosen uniformly randomly from the training dataset\n",
        "    x, y = x_train[j*batch_size:(j+1)*batch_size,:], y_train[j*batch_size:(j+1)*batch_size]\n",
        "\n",
        "  # 2. zero gradient buffer\n",
        "    for l in net:\n",
        "      l.zero_grad ()\n",
        "\n",
        "    # 3. forward pass\n",
        "    h1 = l1.forward(x)\n",
        "    h2 = l2.forward(h1)\n",
        "    ell , error = l3.forward(h2 , y)\n",
        "\n",
        "    # 4. backward pass\n",
        "    dh2 = l3.backward ()\n",
        "    dh1 = l2.backward(dh2)\n",
        "    dx = l1.backward (dh1)\n",
        "\n",
        "    # 5. gather backprop gradients\n",
        "    dw, db = l1.dw, l1.db\n",
        "\n",
        "    # 6. print some quantities for logging\n",
        "    # and debugging\n",
        "    print(t, ell , error)\n",
        "    # print(t, np.linalg.norm(dw/l1.w), np.linalg.norm(db/l1.b))\n",
        "    train_error.append(error)\n",
        "    train_loss.append(ell)\n",
        "    # 7. one step of SGD\n",
        "\n",
        "    l1.w = l1.w - lr*dw\n",
        "    l1.b = l1.b - lr*db"
      ]
    },
    {
      "cell_type": "code",
      "source": [
        "plt.plot(range(len(train_loss)),train_loss,label='train loss')\n",
        "plt.plot(range(len(train_error)),train_error,label='train error')\n",
        "plt.legend()"
      ],
      "metadata": {
        "colab": {
          "base_uri": "https://localhost:8080/",
          "height": 282
        },
        "id": "Xhv9h2SIH55W",
        "outputId": "b84bf998-c8a6-4830-efea-91b17f7f3cc4"
      },
      "execution_count": null,
      "outputs": [
        {
          "output_type": "execute_result",
          "data": {
            "text/plain": [
              "<matplotlib.legend.Legend at 0x7f57b7484b90>"
            ]
          },
          "metadata": {},
          "execution_count": 62
        },
        {
          "output_type": "display_data",
          "data": {
            "text/plain": [
              "<Figure size 432x288 with 1 Axes>"
            ],
            "image/png": "[encoded data removed]"
          },
          "metadata": {
            "needs_background": "light"
          }
        }
      ]
    },
    {
      "cell_type": "markdown",
      "source": [
        "(g) validation"
      ],
      "metadata": {
        "id": "iQFO7o9tW7cd"
      }
    },
    {
      "cell_type": "code",
      "execution_count": null,
      "metadata": {
        "id": "qR9Dq3ommku-"
      },
      "outputs": [],
      "source": [
        "def validate(w, b):\n",
        "# 1. iterate over mini-batches from the validation dataset\n",
        "# note that this should not be done randomly , we want to check\n",
        "# every image only once \n",
        "  loss, tot_error = [], []\n",
        "  for i in range(0, 5000, 32):\n",
        "    x, y = x_val[i:i+32], y_val[i:i+32]\n",
        "\n",
        "# 2. compute forward pass and error\n",
        "    hl = np.maximum(0, np.matmul(x, w.T) + b.T)\n",
        "    n = hl.shape[0]\n",
        "    hl_exp = np.exp(hl)\n",
        "    prob = hl_exp/np.sum(hl_exp,axis=1,keepdims=True)\n",
        "    # compute average loss ell(y) over a mini-batch\n",
        "    ell = np.mean(-np.log(prob[range(n), y.astype(int)])) #for visualization/probability log sum of the right target\n",
        "    error = np.sum(y != np.argmax(prob, axis=1)) / n\n",
        "\n",
        "    loss.append(ell)\n",
        "    error.append(error)\n",
        "\n",
        "  return loss, error"
      ]
    },
    {
      "cell_type": "code",
      "source": [
        "loss, error = validate(l1.w, l1.b)"
      ],
      "metadata": {
        "id": "OwzP-iIeofwU"
      },
      "execution_count": null,
      "outputs": []
    },
    {
      "cell_type": "code",
      "source": [
        "plt.plot(range(len(loss)),loss,label='loss')\n",
        "plt.plot(range(len(error)),error,label='error')\n",
        "plt.legend()"
      ],
      "metadata": {
        "id": "T62dmc92eiMf",
        "colab": {
          "base_uri": "https://localhost:8080/",
          "height": 283
        },
        "outputId": "19dc2171-7eee-47b1-b6dd-596d8884c30d"
      },
      "execution_count": null,
      "outputs": [
        {
          "output_type": "execute_result",
          "data": {
            "text/plain": [
              "<matplotlib.legend.Legend at 0x7f57b7389fd0>"
            ]
          },
          "metadata": {},
          "execution_count": 67
        },
        {
          "output_type": "display_data",
          "data": {
            "text/plain": [
              "<Figure size 432x288 with 1 Axes>"
            ],
            "image/png": "[encoded data removed]"
          },
          "metadata": {
            "needs_background": "light"
          }
        }
      ]
    },
    {
      "cell_type": "markdown",
      "metadata": {
        "id": "nIqGS3DJH4Dc"
      },
      "source": [
        "(h) Pytorch"
      ]
    },
    {
      "cell_type": "code",
      "execution_count": null,
      "metadata": {
        "id": "xa9B5vYWH5ey"
      },
      "outputs": [],
      "source": [
        "import torch\n",
        "from torch import nn\n",
        "\n",
        "class MyLinear(nn.Module):\n",
        "  def __init__(self, in_features, out_features):\n",
        "    super().__init__()\n",
        "    self.weight = nn.Parameter(torch.randn(in_features, out_features))\n",
        "    self.bias = nn.Parameter(torch.randn(out_features))\n",
        "\n",
        "  def forward(self, input):\n",
        "    return (input @ self.weight) + self.bias\n",
        "\n",
        "import torch.nn.functional as F\n",
        "\n",
        "class Net(nn.Module):\n",
        "  def __init__(self):\n",
        "    super().__init__()\n",
        "    self.l0 = MyLinear(784, 10)\n",
        "    \n",
        "  def forward(self, x):\n",
        "    x = self.l0(x)\n",
        "    x = F.relu(x)\n",
        "    \n",
        "    return x"
      ]
    },
    {
      "cell_type": "code",
      "source": [
        "net = Net()\n",
        "optimizer = torch.optim.SGD(net.parameters(), lr=0.1)"
      ],
      "metadata": {
        "id": "bTRgRUTzeStM"
      },
      "execution_count": null,
      "outputs": []
    },
    {
      "cell_type": "code",
      "source": [
        "# Move all parameters to a CUDA device\n",
        "net.to(device='cuda')\n",
        "# net.to('cpu')\n",
        "\n",
        "# Change precision of all parameter\n",
        "net.to(dtype=torch.float64)"
      ],
      "metadata": {
        "id": "t4o2TfoaeUvp"
      },
      "execution_count": null,
      "outputs": []
    },
    {
      "cell_type": "code",
      "source": [
        "batch_size = 128\n",
        "train_loss = []\n",
        "train_err = []\n",
        "val_loss = []\n",
        "val_err = []\n",
        "\n",
        "for j in range(50):\n",
        "  print('Epoch: ',j)\n",
        "  index = np.arange(x_train.shape[0])\n",
        "  np.random.shuffle(index)\n",
        "  x_train, y_train = x_train[index], y_train[index]\n",
        "  for i in range(int(len(x_train)/batch_size)):\n",
        "    x = x_train[i*batch_size:(i+1)*batch_size]\n",
        "    y = y_train[i*batch_size:(i+1)*batch_size]\n",
        "    optimizer.zero_grad()\n",
        "    x = torch.Tensor(x)\n",
        "    y = torch.Tensor(y)\n",
        "    relu_output = net(x)\n",
        "    loss = nn.CrossEntropyLoss()(relu_output, y.long())\n",
        "    \n",
        "    prob, index = torch.max(relu_output,1)\n",
        "    train_loss.append(loss.item())\n",
        "    train_err.append(np.mean(np.array(y)!= (index.numpy())))\n",
        "\n",
        "    loss.backward()\n",
        "    optimizer.step()"
      ],
      "metadata": {
        "id": "pDnivKy7eg6w",
        "colab": {
          "base_uri": "https://localhost:8080/"
        },
        "outputId": "682dc5e0-20be-4e94-8393-e0e866e2c73b"
      },
      "execution_count": null,
      "outputs": [
        {
          "output_type": "stream",
          "name": "stdout",
          "text": [
            "Epoch:  0\n",
            "Epoch:  1\n",
            "Epoch:  2\n",
            "Epoch:  3\n",
            "Epoch:  4\n",
            "Epoch:  5\n",
            "Epoch:  6\n",
            "Epoch:  7\n",
            "Epoch:  8\n",
            "Epoch:  9\n",
            "Epoch:  10\n",
            "Epoch:  11\n",
            "Epoch:  12\n",
            "Epoch:  13\n",
            "Epoch:  14\n",
            "Epoch:  15\n",
            "Epoch:  16\n",
            "Epoch:  17\n",
            "Epoch:  18\n",
            "Epoch:  19\n",
            "Epoch:  20\n",
            "Epoch:  21\n",
            "Epoch:  22\n",
            "Epoch:  23\n",
            "Epoch:  24\n",
            "Epoch:  25\n",
            "Epoch:  26\n",
            "Epoch:  27\n",
            "Epoch:  28\n",
            "Epoch:  29\n",
            "Epoch:  30\n",
            "Epoch:  31\n",
            "Epoch:  32\n",
            "Epoch:  33\n",
            "Epoch:  34\n",
            "Epoch:  35\n",
            "Epoch:  36\n",
            "Epoch:  37\n",
            "Epoch:  38\n",
            "Epoch:  39\n",
            "Epoch:  40\n",
            "Epoch:  41\n",
            "Epoch:  42\n",
            "Epoch:  43\n",
            "Epoch:  44\n",
            "Epoch:  45\n",
            "Epoch:  46\n",
            "Epoch:  47\n",
            "Epoch:  48\n",
            "Epoch:  49\n"
          ]
        }
      ]
    },
    {
      "cell_type": "code",
      "source": [
        "plt.plot(range(len(train_err)),train_err)"
      ],
      "metadata": {
        "colab": {
          "base_uri": "https://localhost:8080/",
          "height": 282
        },
        "id": "wQoM6D8cJh-Q",
        "outputId": "f89dc3d3-95de-4072-e3e9-4230dc24dcf5"
      },
      "execution_count": null,
      "outputs": [
        {
          "output_type": "execute_result",
          "data": {
            "text/plain": [
              "[<matplotlib.lines.Line2D at 0x7f57b72b26d0>]"
            ]
          },
          "metadata": {},
          "execution_count": 71
        },
        {
          "output_type": "display_data",
          "data": {
            "text/plain": [
              "<Figure size 432x288 with 1 Axes>"
            ],
            "image/png": "[encoded data removed]"
          },
          "metadata": {
            "needs_background": "light"
          }
        }
      ]
    },
    {
      "cell_type": "code",
      "source": [
        "plt.plot(range(len(train_loss)),train_loss)"
      ],
      "metadata": {
        "colab": {
          "base_uri": "https://localhost:8080/",
          "height": 282
        },
        "id": "DhxOlxzN8LjW",
        "outputId": "3d2287a7-4548-479e-bf94-7090d3dd410f"
      },
      "execution_count": null,
      "outputs": [
        {
          "output_type": "execute_result",
          "data": {
            "text/plain": [
              "[<matplotlib.lines.Line2D at 0x7f57b7297f90>]"
            ]
          },
          "metadata": {},
          "execution_count": 72
        },
        {
          "output_type": "display_data",
          "data": {
            "text/plain": [
              "<Figure size 432x288 with 1 Axes>"
            ],
            "image/png": "[encoded data removed]"
          },
          "metadata": {
            "needs_background": "light"
          }
        }
      ]
    }
  ],
  "metadata": {
    "colab": {
      "provenance": [],
      "authorship_tag": "ABX9TyP3HjDFHfXIDZythf7cJ3vS",
      "include_colab_link": true
    },
    "kernelspec": {
      "display_name": "Python 3",
      "name": "python3"
    },
    "language_info": {
      "name": "python"
    },
    "widgets": {
      "application/vnd.jupyter.widget-state+json": {
        "8f747011cbc24d00bf366a135743b784": {
          "model_module": "@jupyter-widgets/controls",
          "model_name": "HBoxModel",
          "model_module_version": "1.5.0",
          "state": {
            "_dom_classes": [],
            "_model_module": "@jupyter-widgets/controls",
            "_model_module_version": "1.5.0",
            "_model_name": "HBoxModel",
            "_view_count": null,
            "_view_module": "@jupyter-widgets/controls",
            "_view_module_version": "1.5.0",
            "_view_name": "HBoxView",
            "box_style": "",
            "children": [
              "IPY_MODEL_e7e6225370df4eaa900f0853a6700e39",
              "IPY_MODEL_3c1620216f2a4e98beaebe33d72069db",
              "IPY_MODEL_3fa527c36ee3479786d536b26d608e47"
            ],
            "layout": "IPY_MODEL_e6c2edeb97aa4fccbdb874822ee83ae8"
          }
        },
        "e7e6225370df4eaa900f0853a6700e39": {
          "model_module": "@jupyter-widgets/controls",
          "model_name": "HTMLModel",
          "model_module_version": "1.5.0",
          "state": {
            "_dom_classes": [],
            "_model_module": "@jupyter-widgets/controls",
            "_model_module_version": "1.5.0",
            "_model_name": "HTMLModel",
            "_view_count": null,
            "_view_module": "@jupyter-widgets/controls",
            "_view_module_version": "1.5.0",
            "_view_name": "HTMLView",
            "description": "",
            "description_tooltip": null,
            "layout": "IPY_MODEL_3e3fbb59056441f88fcb45d1ad04fa33",
            "placeholder": "​",
            "style": "IPY_MODEL_3006c8a9669a48ea9a5f7e0be8c5b6c8",
            "value": "100%"
          }
        },
        "3c1620216f2a4e98beaebe33d72069db": {
          "model_module": "@jupyter-widgets/controls",
          "model_name": "FloatProgressModel",
          "model_module_version": "1.5.0",
          "state": {
            "_dom_classes": [],
            "_model_module": "@jupyter-widgets/controls",
            "_model_module_version": "1.5.0",
            "_model_name": "FloatProgressModel",
            "_view_count": null,
            "_view_module": "@jupyter-widgets/controls",
            "_view_module_version": "1.5.0",
            "_view_name": "ProgressView",
            "bar_style": "success",
            "description": "",
            "description_tooltip": null,
            "layout": "IPY_MODEL_2370fb461c174d139abd71799387254b",
            "max": 9912422,
            "min": 0,
            "orientation": "horizontal",
            "style": "IPY_MODEL_921aa31afe4d4495888ac05cb6d772da",
            "value": 9912422
          }
        },
        "3fa527c36ee3479786d536b26d608e47": {
          "model_module": "@jupyter-widgets/controls",
          "model_name": "HTMLModel",
          "model_module_version": "1.5.0",
          "state": {
            "_dom_classes": [],
            "_model_module": "@jupyter-widgets/controls",
            "_model_module_version": "1.5.0",
            "_model_name": "HTMLModel",
            "_view_count": null,
            "_view_module": "@jupyter-widgets/controls",
            "_view_module_version": "1.5.0",
            "_view_name": "HTMLView",
            "description": "",
            "description_tooltip": null,
            "layout": "IPY_MODEL_fcaaf3fbd4d64fa89d18fd51fe9e47e3",
            "placeholder": "​",
            "style": "IPY_MODEL_b5ea07d2124346439df75f3d2f1633fe",
            "value": " 9912422/9912422 [00:00&lt;00:00, 7947719.15it/s]"
          }
        },
        "e6c2edeb97aa4fccbdb874822ee83ae8": {
          "model_module": "@jupyter-widgets/base",
          "model_name": "LayoutModel",
          "model_module_version": "1.2.0",
          "state": {
            "_model_module": "@jupyter-widgets/base",
            "_model_module_version": "1.2.0",
            "_model_name": "LayoutModel",
            "_view_count": null,
            "_view_module": "@jupyter-widgets/base",
            "_view_module_version": "1.2.0",
            "_view_name": "LayoutView",
            "align_content": null,
            "align_items": null,
            "align_self": null,
            "border": null,
            "bottom": null,
            "display": null,
            "flex": null,
            "flex_flow": null,
            "grid_area": null,
            "grid_auto_columns": null,
            "grid_auto_flow": null,
            "grid_auto_rows": null,
            "grid_column": null,
            "grid_gap": null,
            "grid_row": null,
            "grid_template_areas": null,
            "grid_template_columns": null,
            "grid_template_rows": null,
            "height": null,
            "justify_content": null,
            "justify_items": null,
            "left": null,
            "margin": null,
            "max_height": null,
            "max_width": null,
            "min_height": null,
            "min_width": null,
            "object_fit": null,
            "object_position": null,
            "order": null,
            "overflow": null,
            "overflow_x": null,
            "overflow_y": null,
            "padding": null,
            "right": null,
            "top": null,
            "visibility": null,
            "width": null
          }
        },
        "3e3fbb59056441f88fcb45d1ad04fa33": {
          "model_module": "@jupyter-widgets/base",
          "model_name": "LayoutModel",
          "model_module_version": "1.2.0",
          "state": {
            "_model_module": "@jupyter-widgets/base",
            "_model_module_version": "1.2.0",
            "_model_name": "LayoutModel",
            "_view_count": null,
            "_view_module": "@jupyter-widgets/base",
            "_view_module_version": "1.2.0",
            "_view_name": "LayoutView",
            "align_content": null,
            "align_items": null,
            "align_self": null,
            "border": null,
            "bottom": null,
            "display": null,
            "flex": null,
            "flex_flow": null,
            "grid_area": null,
            "grid_auto_columns": null,
            "grid_auto_flow": null,
            "grid_auto_rows": null,
            "grid_column": null,
            "grid_gap": null,
            "grid_row": null,
            "grid_template_areas": null,
            "grid_template_columns": null,
            "grid_template_rows": null,
            "height": null,
            "justify_content": null,
            "justify_items": null,
            "left": null,
            "margin": null,
            "max_height": null,
            "max_width": null,
            "min_height": null,
            "min_width": null,
            "object_fit": null,
            "object_position": null,
            "order": null,
            "overflow": null,
            "overflow_x": null,
            "overflow_y": null,
            "padding": null,
            "right": null,
            "top": null,
            "visibility": null,
            "width": null
          }
        },
        "3006c8a9669a48ea9a5f7e0be8c5b6c8": {
          "model_module": "@jupyter-widgets/controls",
          "model_name": "DescriptionStyleModel",
          "model_module_version": "1.5.0",
          "state": {
            "_model_module": "@jupyter-widgets/controls",
            "_model_module_version": "1.5.0",
            "_model_name": "DescriptionStyleModel",
            "_view_count": null,
            "_view_module": "@jupyter-widgets/base",
            "_view_module_version": "1.2.0",
            "_view_name": "StyleView",
            "description_width": ""
          }
        },
        "2370fb461c174d139abd71799387254b": {
          "model_module": "@jupyter-widgets/base",
          "model_name": "LayoutModel",
          "model_module_version": "1.2.0",
          "state": {
            "_model_module": "@jupyter-widgets/base",
            "_model_module_version": "1.2.0",
            "_model_name": "LayoutModel",
            "_view_count": null,
            "_view_module": "@jupyter-widgets/base",
            "_view_module_version": "1.2.0",
            "_view_name": "LayoutView",
            "align_content": null,
            "align_items": null,
            "align_self": null,
            "border": null,
            "bottom": null,
            "display": null,
            "flex": null,
            "flex_flow": null,
            "grid_area": null,
            "grid_auto_columns": null,
            "grid_auto_flow": null,
            "grid_auto_rows": null,
            "grid_column": null,
            "grid_gap": null,
            "grid_row": null,
            "grid_template_areas": null,
            "grid_template_columns": null,
            "grid_template_rows": null,
            "height": null,
            "justify_content": null,
            "justify_items": null,
            "left": null,
            "margin": null,
            "max_height": null,
            "max_width": null,
            "min_height": null,
            "min_width": null,
            "object_fit": null,
            "object_position": null,
            "order": null,
            "overflow": null,
            "overflow_x": null,
            "overflow_y": null,
            "padding": null,
            "right": null,
            "top": null,
            "visibility": null,
            "width": null
          }
        },
        "921aa31afe4d4495888ac05cb6d772da": {
          "model_module": "@jupyter-widgets/controls",
          "model_name": "ProgressStyleModel",
          "model_module_version": "1.5.0",
          "state": {
            "_model_module": "@jupyter-widgets/controls",
            "_model_module_version": "1.5.0",
            "_model_name": "ProgressStyleModel",
            "_view_count": null,
            "_view_module": "@jupyter-widgets/base",
            "_view_module_version": "1.2.0",
            "_view_name": "StyleView",
            "bar_color": null,
            "description_width": ""
          }
        },
        "fcaaf3fbd4d64fa89d18fd51fe9e47e3": {
          "model_module": "@jupyter-widgets/base",
          "model_name": "LayoutModel",
          "model_module_version": "1.2.0",
          "state": {
            "_model_module": "@jupyter-widgets/base",
            "_model_module_version": "1.2.0",
            "_model_name": "LayoutModel",
            "_view_count": null,
            "_view_module": "@jupyter-widgets/base",
            "_view_module_version": "1.2.0",
            "_view_name": "LayoutView",
            "align_content": null,
            "align_items": null,
            "align_self": null,
            "border": null,
            "bottom": null,
            "display": null,
            "flex": null,
            "flex_flow": null,
            "grid_area": null,
            "grid_auto_columns": null,
            "grid_auto_flow": null,
            "grid_auto_rows": null,
            "grid_column": null,
            "grid_gap": null,
            "grid_row": null,
            "grid_template_areas": null,
            "grid_template_columns": null,
            "grid_template_rows": null,
            "height": null,
            "justify_content": null,
            "justify_items": null,
            "left": null,
            "margin": null,
            "max_height": null,
            "max_width": null,
            "min_height": null,
            "min_width": null,
            "object_fit": null,
            "object_position": null,
            "order": null,
            "overflow": null,
            "overflow_x": null,
            "overflow_y": null,
            "padding": null,
            "right": null,
            "top": null,
            "visibility": null,
            "width": null
          }
        },
        "b5ea07d2124346439df75f3d2f1633fe": {
          "model_module": "@jupyter-widgets/controls",
          "model_name": "DescriptionStyleModel",
          "model_module_version": "1.5.0",
          "state": {
            "_model_module": "@jupyter-widgets/controls",
            "_model_module_version": "1.5.0",
            "_model_name": "DescriptionStyleModel",
            "_view_count": null,
            "_view_module": "@jupyter-widgets/base",
            "_view_module_version": "1.2.0",
            "_view_name": "StyleView",
            "description_width": ""
          }
        },
        "dbb6ecd0d40541e2a48a4bd37ae8d5eb": {
          "model_module": "@jupyter-widgets/controls",
          "model_name": "HBoxModel",
          "model_module_version": "1.5.0",
          "state": {
            "_dom_classes": [],
            "_model_module": "@jupyter-widgets/controls",
            "_model_module_version": "1.5.0",
            "_model_name": "HBoxModel",
            "_view_count": null,
            "_view_module": "@jupyter-widgets/controls",
            "_view_module_version": "1.5.0",
            "_view_name": "HBoxView",
            "box_style": "",
            "children": [
              "IPY_MODEL_022e16afcb1345e4abf6ae48d2f0db0b",
              "IPY_MODEL_a70dff6af84e4541b336b35ba1f65318",
              "IPY_MODEL_0fa1a9960b284d4db0035b32de6ab1e8"
            ],
            "layout": "IPY_MODEL_f7f4fa02022149379316ffd48b0d88db"
          }
        },
        "022e16afcb1345e4abf6ae48d2f0db0b": {
          "model_module": "@jupyter-widgets/controls",
          "model_name": "HTMLModel",
          "model_module_version": "1.5.0",
          "state": {
            "_dom_classes": [],
            "_model_module": "@jupyter-widgets/controls",
            "_model_module_version": "1.5.0",
            "_model_name": "HTMLModel",
            "_view_count": null,
            "_view_module": "@jupyter-widgets/controls",
            "_view_module_version": "1.5.0",
            "_view_name": "HTMLView",
            "description": "",
            "description_tooltip": null,
            "layout": "IPY_MODEL_b550fe708cf444378a0de0efb29bfef8",
            "placeholder": "​",
            "style": "IPY_MODEL_f10c0bded10e4e618855bd0bbe816eb2",
            "value": "100%"
          }
        },
        "a70dff6af84e4541b336b35ba1f65318": {
          "model_module": "@jupyter-widgets/controls",
          "model_name": "FloatProgressModel",
          "model_module_version": "1.5.0",
          "state": {
            "_dom_classes": [],
            "_model_module": "@jupyter-widgets/controls",
            "_model_module_version": "1.5.0",
            "_model_name": "FloatProgressModel",
            "_view_count": null,
            "_view_module": "@jupyter-widgets/controls",
            "_view_module_version": "1.5.0",
            "_view_name": "ProgressView",
            "bar_style": "success",
            "description": "",
            "description_tooltip": null,
            "layout": "IPY_MODEL_636c614271484b2296eaeb02212de1be",
            "max": 28881,
            "min": 0,
            "orientation": "horizontal",
            "style": "IPY_MODEL_b68d26ecb44947329aa64ce3cbfe2e97",
            "value": 28881
          }
        },
        "0fa1a9960b284d4db0035b32de6ab1e8": {
          "model_module": "@jupyter-widgets/controls",
          "model_name": "HTMLModel",
          "model_module_version": "1.5.0",
          "state": {
            "_dom_classes": [],
            "_model_module": "@jupyter-widgets/controls",
            "_model_module_version": "1.5.0",
            "_model_name": "HTMLModel",
            "_view_count": null,
            "_view_module": "@jupyter-widgets/controls",
            "_view_module_version": "1.5.0",
            "_view_name": "HTMLView",
            "description": "",
            "description_tooltip": null,
            "layout": "IPY_MODEL_ed77216c794b4f6ebec97b60cc8a6c26",
            "placeholder": "​",
            "style": "IPY_MODEL_a433650bf91d4090a23299771ddcc48f",
            "value": " 28881/28881 [00:00&lt;00:00, 745698.22it/s]"
          }
        },
        "f7f4fa02022149379316ffd48b0d88db": {
          "model_module": "@jupyter-widgets/base",
          "model_name": "LayoutModel",
          "model_module_version": "1.2.0",
          "state": {
            "_model_module": "@jupyter-widgets/base",
            "_model_module_version": "1.2.0",
            "_model_name": "LayoutModel",
            "_view_count": null,
            "_view_module": "@jupyter-widgets/base",
            "_view_module_version": "1.2.0",
            "_view_name": "LayoutView",
            "align_content": null,
            "align_items": null,
            "align_self": null,
            "border": null,
            "bottom": null,
            "display": null,
            "flex": null,
            "flex_flow": null,
            "grid_area": null,
            "grid_auto_columns": null,
            "grid_auto_flow": null,
            "grid_auto_rows": null,
            "grid_column": null,
            "grid_gap": null,
            "grid_row": null,
            "grid_template_areas": null,
            "grid_template_columns": null,
            "grid_template_rows": null,
            "height": null,
            "justify_content": null,
            "justify_items": null,
            "left": null,
            "margin": null,
            "max_height": null,
            "max_width": null,
            "min_height": null,
            "min_width": null,
            "object_fit": null,
            "object_position": null,
            "order": null,
            "overflow": null,
            "overflow_x": null,
            "overflow_y": null,
            "padding": null,
            "right": null,
            "top": null,
            "visibility": null,
            "width": null
          }
        },
        "b550fe708cf444378a0de0efb29bfef8": {
          "model_module": "@jupyter-widgets/base",
          "model_name": "LayoutModel",
          "model_module_version": "1.2.0",
          "state": {
            "_model_module": "@jupyter-widgets/base",
            "_model_module_version": "1.2.0",
            "_model_name": "LayoutModel",
            "_view_count": null,
            "_view_module": "@jupyter-widgets/base",
            "_view_module_version": "1.2.0",
            "_view_name": "LayoutView",
            "align_content": null,
            "align_items": null,
            "align_self": null,
            "border": null,
            "bottom": null,
            "display": null,
            "flex": null,
            "flex_flow": null,
            "grid_area": null,
            "grid_auto_columns": null,
            "grid_auto_flow": null,
            "grid_auto_rows": null,
            "grid_column": null,
            "grid_gap": null,
            "grid_row": null,
            "grid_template_areas": null,
            "grid_template_columns": null,
            "grid_template_rows": null,
            "height": null,
            "justify_content": null,
            "justify_items": null,
            "left": null,
            "margin": null,
            "max_height": null,
            "max_width": null,
            "min_height": null,
            "min_width": null,
            "object_fit": null,
            "object_position": null,
            "order": null,
            "overflow": null,
            "overflow_x": null,
            "overflow_y": null,
            "padding": null,
            "right": null,
            "top": null,
            "visibility": null,
            "width": null
          }
        },
        "f10c0bded10e4e618855bd0bbe816eb2": {
          "model_module": "@jupyter-widgets/controls",
          "model_name": "DescriptionStyleModel",
          "model_module_version": "1.5.0",
          "state": {
            "_model_module": "@jupyter-widgets/controls",
            "_model_module_version": "1.5.0",
            "_model_name": "DescriptionStyleModel",
            "_view_count": null,
            "_view_module": "@jupyter-widgets/base",
            "_view_module_version": "1.2.0",
            "_view_name": "StyleView",
            "description_width": ""
          }
        },
        "636c614271484b2296eaeb02212de1be": {
          "model_module": "@jupyter-widgets/base",
          "model_name": "LayoutModel",
          "model_module_version": "1.2.0",
          "state": {
            "_model_module": "@jupyter-widgets/base",
            "_model_module_version": "1.2.0",
            "_model_name": "LayoutModel",
            "_view_count": null,
            "_view_module": "@jupyter-widgets/base",
            "_view_module_version": "1.2.0",
            "_view_name": "LayoutView",
            "align_content": null,
            "align_items": null,
            "align_self": null,
            "border": null,
            "bottom": null,
            "display": null,
            "flex": null,
            "flex_flow": null,
            "grid_area": null,
            "grid_auto_columns": null,
            "grid_auto_flow": null,
            "grid_auto_rows": null,
            "grid_column": null,
            "grid_gap": null,
            "grid_row": null,
            "grid_template_areas": null,
            "grid_template_columns": null,
            "grid_template_rows": null,
            "height": null,
            "justify_content": null,
            "justify_items": null,
            "left": null,
            "margin": null,
            "max_height": null,
            "max_width": null,
            "min_height": null,
            "min_width": null,
            "object_fit": null,
            "object_position": null,
            "order": null,
            "overflow": null,
            "overflow_x": null,
            "overflow_y": null,
            "padding": null,
            "right": null,
            "top": null,
            "visibility": null,
            "width": null
          }
        },
        "b68d26ecb44947329aa64ce3cbfe2e97": {
          "model_module": "@jupyter-widgets/controls",
          "model_name": "ProgressStyleModel",
          "model_module_version": "1.5.0",
          "state": {
            "_model_module": "@jupyter-widgets/controls",
            "_model_module_version": "1.5.0",
            "_model_name": "ProgressStyleModel",
            "_view_count": null,
            "_view_module": "@jupyter-widgets/base",
            "_view_module_version": "1.2.0",
            "_view_name": "StyleView",
            "bar_color": null,
            "description_width": ""
          }
        },
        "ed77216c794b4f6ebec97b60cc8a6c26": {
          "model_module": "@jupyter-widgets/base",
          "model_name": "LayoutModel",
          "model_module_version": "1.2.0",
          "state": {
            "_model_module": "@jupyter-widgets/base",
            "_model_module_version": "1.2.0",
            "_model_name": "LayoutModel",
            "_view_count": null,
            "_view_module": "@jupyter-widgets/base",
            "_view_module_version": "1.2.0",
            "_view_name": "LayoutView",
            "align_content": null,
            "align_items": null,
            "align_self": null,
            "border": null,
            "bottom": null,
            "display": null,
            "flex": null,
            "flex_flow": null,
            "grid_area": null,
            "grid_auto_columns": null,
            "grid_auto_flow": null,
            "grid_auto_rows": null,
            "grid_column": null,
            "grid_gap": null,
            "grid_row": null,
            "grid_template_areas": null,
            "grid_template_columns": null,
            "grid_template_rows": null,
            "height": null,
            "justify_content": null,
            "justify_items": null,
            "left": null,
            "margin": null,
            "max_height": null,
            "max_width": null,
            "min_height": null,
            "min_width": null,
            "object_fit": null,
            "object_position": null,
            "order": null,
            "overflow": null,
            "overflow_x": null,
            "overflow_y": null,
            "padding": null,
            "right": null,
            "top": null,
            "visibility": null,
            "width": null
          }
        },
        "a433650bf91d4090a23299771ddcc48f": {
          "model_module": "@jupyter-widgets/controls",
          "model_name": "DescriptionStyleModel",
          "model_module_version": "1.5.0",
          "state": {
            "_model_module": "@jupyter-widgets/controls",
            "_model_module_version": "1.5.0",
            "_model_name": "DescriptionStyleModel",
            "_view_count": null,
            "_view_module": "@jupyter-widgets/base",
            "_view_module_version": "1.2.0",
            "_view_name": "StyleView",
            "description_width": ""
          }
        },
        "127c4149e58a43a7b2ad2af79e10188f": {
          "model_module": "@jupyter-widgets/controls",
          "model_name": "HBoxModel",
          "model_module_version": "1.5.0",
          "state": {
            "_dom_classes": [],
            "_model_module": "@jupyter-widgets/controls",
            "_model_module_version": "1.5.0",
            "_model_name": "HBoxModel",
            "_view_count": null,
            "_view_module": "@jupyter-widgets/controls",
            "_view_module_version": "1.5.0",
            "_view_name": "HBoxView",
            "box_style": "",
            "children": [
              "IPY_MODEL_c90f251d4ae64559bcd720c2180ead91",
              "IPY_MODEL_0d2ba341cd3147ba89214c8e480af655",
              "IPY_MODEL_da4270646f1e4b0b9d5142a3d5aa7e1f"
            ],
            "layout": "IPY_MODEL_df2c20ab6d5c4feba56c3e866ef2e16f"
          }
        },
        "c90f251d4ae64559bcd720c2180ead91": {
          "model_module": "@jupyter-widgets/controls",
          "model_name": "HTMLModel",
          "model_module_version": "1.5.0",
          "state": {
            "_dom_classes": [],
            "_model_module": "@jupyter-widgets/controls",
            "_model_module_version": "1.5.0",
            "_model_name": "HTMLModel",
            "_view_count": null,
            "_view_module": "@jupyter-widgets/controls",
            "_view_module_version": "1.5.0",
            "_view_name": "HTMLView",
            "description": "",
            "description_tooltip": null,
            "layout": "IPY_MODEL_1ae970553e144a2c8dd715980ed167dd",
            "placeholder": "​",
            "style": "IPY_MODEL_1a196da6f5e6426e9330cef7c63f831c",
            "value": "100%"
          }
        },
        "0d2ba341cd3147ba89214c8e480af655": {
          "model_module": "@jupyter-widgets/controls",
          "model_name": "FloatProgressModel",
          "model_module_version": "1.5.0",
          "state": {
            "_dom_classes": [],
            "_model_module": "@jupyter-widgets/controls",
            "_model_module_version": "1.5.0",
            "_model_name": "FloatProgressModel",
            "_view_count": null,
            "_view_module": "@jupyter-widgets/controls",
            "_view_module_version": "1.5.0",
            "_view_name": "ProgressView",
            "bar_style": "success",
            "description": "",
            "description_tooltip": null,
            "layout": "IPY_MODEL_48a349770a5842bfa3a7c428df4a977a",
            "max": 1648877,
            "min": 0,
            "orientation": "horizontal",
            "style": "IPY_MODEL_bc27202280484140a9a9dce2cc969fc9",
            "value": 1648877
          }
        },
        "da4270646f1e4b0b9d5142a3d5aa7e1f": {
          "model_module": "@jupyter-widgets/controls",
          "model_name": "HTMLModel",
          "model_module_version": "1.5.0",
          "state": {
            "_dom_classes": [],
            "_model_module": "@jupyter-widgets/controls",
            "_model_module_version": "1.5.0",
            "_model_name": "HTMLModel",
            "_view_count": null,
            "_view_module": "@jupyter-widgets/controls",
            "_view_module_version": "1.5.0",
            "_view_name": "HTMLView",
            "description": "",
            "description_tooltip": null,
            "layout": "IPY_MODEL_832e6d954d1e4f1daea27a2283276d88",
            "placeholder": "​",
            "style": "IPY_MODEL_fc09a2a372e44837ac09f0d7671556fb",
            "value": " 1648877/1648877 [00:00&lt;00:00, 12778770.51it/s]"
          }
        },
        "df2c20ab6d5c4feba56c3e866ef2e16f": {
          "model_module": "@jupyter-widgets/base",
          "model_name": "LayoutModel",
          "model_module_version": "1.2.0",
          "state": {
            "_model_module": "@jupyter-widgets/base",
            "_model_module_version": "1.2.0",
            "_model_name": "LayoutModel",
            "_view_count": null,
            "_view_module": "@jupyter-widgets/base",
            "_view_module_version": "1.2.0",
            "_view_name": "LayoutView",
            "align_content": null,
            "align_items": null,
            "align_self": null,
            "border": null,
            "bottom": null,
            "display": null,
            "flex": null,
            "flex_flow": null,
            "grid_area": null,
            "grid_auto_columns": null,
            "grid_auto_flow": null,
            "grid_auto_rows": null,
            "grid_column": null,
            "grid_gap": null,
            "grid_row": null,
            "grid_template_areas": null,
            "grid_template_columns": null,
            "grid_template_rows": null,
            "height": null,
            "justify_content": null,
            "justify_items": null,
            "left": null,
            "margin": null,
            "max_height": null,
            "max_width": null,
            "min_height": null,
            "min_width": null,
            "object_fit": null,
            "object_position": null,
            "order": null,
            "overflow": null,
            "overflow_x": null,
            "overflow_y": null,
            "padding": null,
            "right": null,
            "top": null,
            "visibility": null,
            "width": null
          }
        },
        "1ae970553e144a2c8dd715980ed167dd": {
          "model_module": "@jupyter-widgets/base",
          "model_name": "LayoutModel",
          "model_module_version": "1.2.0",
          "state": {
            "_model_module": "@jupyter-widgets/base",
            "_model_module_version": "1.2.0",
            "_model_name": "LayoutModel",
            "_view_count": null,
            "_view_module": "@jupyter-widgets/base",
            "_view_module_version": "1.2.0",
            "_view_name": "LayoutView",
            "align_content": null,
            "align_items": null,
            "align_self": null,
            "border": null,
            "bottom": null,
            "display": null,
            "flex": null,
            "flex_flow": null,
            "grid_area": null,
            "grid_auto_columns": null,
            "grid_auto_flow": null,
            "grid_auto_rows": null,
            "grid_column": null,
            "grid_gap": null,
            "grid_row": null,
            "grid_template_areas": null,
            "grid_template_columns": null,
            "grid_template_rows": null,
            "height": null,
            "justify_content": null,
            "justify_items": null,
            "left": null,
            "margin": null,
            "max_height": null,
            "max_width": null,
            "min_height": null,
            "min_width": null,
            "object_fit": null,
            "object_position": null,
            "order": null,
            "overflow": null,
            "overflow_x": null,
            "overflow_y": null,
            "padding": null,
            "right": null,
            "top": null,
            "visibility": null,
            "width": null
          }
        },
        "1a196da6f5e6426e9330cef7c63f831c": {
          "model_module": "@jupyter-widgets/controls",
          "model_name": "DescriptionStyleModel",
          "model_module_version": "1.5.0",
          "state": {
            "_model_module": "@jupyter-widgets/controls",
            "_model_module_version": "1.5.0",
            "_model_name": "DescriptionStyleModel",
            "_view_count": null,
            "_view_module": "@jupyter-widgets/base",
            "_view_module_version": "1.2.0",
            "_view_name": "StyleView",
            "description_width": ""
          }
        },
        "48a349770a5842bfa3a7c428df4a977a": {
          "model_module": "@jupyter-widgets/base",
          "model_name": "LayoutModel",
          "model_module_version": "1.2.0",
          "state": {
            "_model_module": "@jupyter-widgets/base",
            "_model_module_version": "1.2.0",
            "_model_name": "LayoutModel",
            "_view_count": null,
            "_view_module": "@jupyter-widgets/base",
            "_view_module_version": "1.2.0",
            "_view_name": "LayoutView",
            "align_content": null,
            "align_items": null,
            "align_self": null,
            "border": null,
            "bottom": null,
            "display": null,
            "flex": null,
            "flex_flow": null,
            "grid_area": null,
            "grid_auto_columns": null,
            "grid_auto_flow": null,
            "grid_auto_rows": null,
            "grid_column": null,
            "grid_gap": null,
            "grid_row": null,
            "grid_template_areas": null,
            "grid_template_columns": null,
            "grid_template_rows": null,
            "height": null,
            "justify_content": null,
            "justify_items": null,
            "left": null,
            "margin": null,
            "max_height": null,
            "max_width": null,
            "min_height": null,
            "min_width": null,
            "object_fit": null,
            "object_position": null,
            "order": null,
            "overflow": null,
            "overflow_x": null,
            "overflow_y": null,
            "padding": null,
            "right": null,
            "top": null,
            "visibility": null,
            "width": null
          }
        },
        "bc27202280484140a9a9dce2cc969fc9": {
          "model_module": "@jupyter-widgets/controls",
          "model_name": "ProgressStyleModel",
          "model_module_version": "1.5.0",
          "state": {
            "_model_module": "@jupyter-widgets/controls",
            "_model_module_version": "1.5.0",
            "_model_name": "ProgressStyleModel",
            "_view_count": null,
            "_view_module": "@jupyter-widgets/base",
            "_view_module_version": "1.2.0",
            "_view_name": "StyleView",
            "bar_color": null,
            "description_width": ""
          }
        },
        "832e6d954d1e4f1daea27a2283276d88": {
          "model_module": "@jupyter-widgets/base",
          "model_name": "LayoutModel",
          "model_module_version": "1.2.0",
          "state": {
            "_model_module": "@jupyter-widgets/base",
            "_model_module_version": "1.2.0",
            "_model_name": "LayoutModel",
            "_view_count": null,
            "_view_module": "@jupyter-widgets/base",
            "_view_module_version": "1.2.0",
            "_view_name": "LayoutView",
            "align_content": null,
            "align_items": null,
            "align_self": null,
            "border": null,
            "bottom": null,
            "display": null,
            "flex": null,
            "flex_flow": null,
            "grid_area": null,
            "grid_auto_columns": null,
            "grid_auto_flow": null,
            "grid_auto_rows": null,
            "grid_column": null,
            "grid_gap": null,
            "grid_row": null,
            "grid_template_areas": null,
            "grid_template_columns": null,
            "grid_template_rows": null,
            "height": null,
            "justify_content": null,
            "justify_items": null,
            "left": null,
            "margin": null,
            "max_height": null,
            "max_width": null,
            "min_height": null,
            "min_width": null,
            "object_fit": null,
            "object_position": null,
            "order": null,
            "overflow": null,
            "overflow_x": null,
            "overflow_y": null,
            "padding": null,
            "right": null,
            "top": null,
            "visibility": null,
            "width": null
          }
        },
        "fc09a2a372e44837ac09f0d7671556fb": {
          "model_module": "@jupyter-widgets/controls",
          "model_name": "DescriptionStyleModel",
          "model_module_version": "1.5.0",
          "state": {
            "_model_module": "@jupyter-widgets/controls",
            "_model_module_version": "1.5.0",
            "_model_name": "DescriptionStyleModel",
            "_view_count": null,
            "_view_module": "@jupyter-widgets/base",
            "_view_module_version": "1.2.0",
            "_view_name": "StyleView",
            "description_width": ""
          }
        },
        "74cb004c3a424acd8f3f9b9e5ced6b27": {
          "model_module": "@jupyter-widgets/controls",
          "model_name": "HBoxModel",
          "model_module_version": "1.5.0",
          "state": {
            "_dom_classes": [],
            "_model_module": "@jupyter-widgets/controls",
            "_model_module_version": "1.5.0",
            "_model_name": "HBoxModel",
            "_view_count": null,
            "_view_module": "@jupyter-widgets/controls",
            "_view_module_version": "1.5.0",
            "_view_name": "HBoxView",
            "box_style": "",
            "children": [
              "IPY_MODEL_366b78c9ffe2415cad9f187f4e6daeb5",
              "IPY_MODEL_2b2fa632b31c492f880774e3f6834443",
              "IPY_MODEL_7b8dd271ead547499cc13842a3430e33"
            ],
            "layout": "IPY_MODEL_0b9d5e72e023404fb3a3b10aab719136"
          }
        },
        "366b78c9ffe2415cad9f187f4e6daeb5": {
          "model_module": "@jupyter-widgets/controls",
          "model_name": "HTMLModel",
          "model_module_version": "1.5.0",
          "state": {
            "_dom_classes": [],
            "_model_module": "@jupyter-widgets/controls",
            "_model_module_version": "1.5.0",
            "_model_name": "HTMLModel",
            "_view_count": null,
            "_view_module": "@jupyter-widgets/controls",
            "_view_module_version": "1.5.0",
            "_view_name": "HTMLView",
            "description": "",
            "description_tooltip": null,
            "layout": "IPY_MODEL_2e9ba9937a404b41b0ed69e828fbcc9c",
            "placeholder": "​",
            "style": "IPY_MODEL_5c81f5eb1d8f444cbc7314246a91e30a",
            "value": "100%"
          }
        },
        "2b2fa632b31c492f880774e3f6834443": {
          "model_module": "@jupyter-widgets/controls",
          "model_name": "FloatProgressModel",
          "model_module_version": "1.5.0",
          "state": {
            "_dom_classes": [],
            "_model_module": "@jupyter-widgets/controls",
            "_model_module_version": "1.5.0",
            "_model_name": "FloatProgressModel",
            "_view_count": null,
            "_view_module": "@jupyter-widgets/controls",
            "_view_module_version": "1.5.0",
            "_view_name": "ProgressView",
            "bar_style": "success",
            "description": "",
            "description_tooltip": null,
            "layout": "IPY_MODEL_0943fc1728614207ab0588c2d80a35c0",
            "max": 4542,
            "min": 0,
            "orientation": "horizontal",
            "style": "IPY_MODEL_5aaa8d280fe14f2f928d1d4ebb19dbb0",
            "value": 4542
          }
        },
        "7b8dd271ead547499cc13842a3430e33": {
          "model_module": "@jupyter-widgets/controls",
          "model_name": "HTMLModel",
          "model_module_version": "1.5.0",
          "state": {
            "_dom_classes": [],
            "_model_module": "@jupyter-widgets/controls",
            "_model_module_version": "1.5.0",
            "_model_name": "HTMLModel",
            "_view_count": null,
            "_view_module": "@jupyter-widgets/controls",
            "_view_module_version": "1.5.0",
            "_view_name": "HTMLView",
            "description": "",
            "description_tooltip": null,
            "layout": "IPY_MODEL_b3a4ec9989ef4212bac4d7ce7c690e2d",
            "placeholder": "​",
            "style": "IPY_MODEL_cb49989d9f3b424cbf651b6dc26aec2a",
            "value": " 4542/4542 [00:00&lt;00:00, 122572.13it/s]"
          }
        },
        "0b9d5e72e023404fb3a3b10aab719136": {
          "model_module": "@jupyter-widgets/base",
          "model_name": "LayoutModel",
          "model_module_version": "1.2.0",
          "state": {
            "_model_module": "@jupyter-widgets/base",
            "_model_module_version": "1.2.0",
            "_model_name": "LayoutModel",
            "_view_count": null,
            "_view_module": "@jupyter-widgets/base",
            "_view_module_version": "1.2.0",
            "_view_name": "LayoutView",
            "align_content": null,
            "align_items": null,
            "align_self": null,
            "border": null,
            "bottom": null,
            "display": null,
            "flex": null,
            "flex_flow": null,
            "grid_area": null,
            "grid_auto_columns": null,
            "grid_auto_flow": null,
            "grid_auto_rows": null,
            "grid_column": null,
            "grid_gap": null,
            "grid_row": null,
            "grid_template_areas": null,
            "grid_template_columns": null,
            "grid_template_rows": null,
            "height": null,
            "justify_content": null,
            "justify_items": null,
            "left": null,
            "margin": null,
            "max_height": null,
            "max_width": null,
            "min_height": null,
            "min_width": null,
            "object_fit": null,
            "object_position": null,
            "order": null,
            "overflow": null,
            "overflow_x": null,
            "overflow_y": null,
            "padding": null,
            "right": null,
            "top": null,
            "visibility": null,
            "width": null
          }
        },
        "2e9ba9937a404b41b0ed69e828fbcc9c": {
          "model_module": "@jupyter-widgets/base",
          "model_name": "LayoutModel",
          "model_module_version": "1.2.0",
          "state": {
            "_model_module": "@jupyter-widgets/base",
            "_model_module_version": "1.2.0",
            "_model_name": "LayoutModel",
            "_view_count": null,
            "_view_module": "@jupyter-widgets/base",
            "_view_module_version": "1.2.0",
            "_view_name": "LayoutView",
            "align_content": null,
            "align_items": null,
            "align_self": null,
            "border": null,
            "bottom": null,
            "display": null,
            "flex": null,
            "flex_flow": null,
            "grid_area": null,
            "grid_auto_columns": null,
            "grid_auto_flow": null,
            "grid_auto_rows": null,
            "grid_column": null,
            "grid_gap": null,
            "grid_row": null,
            "grid_template_areas": null,
            "grid_template_columns": null,
            "grid_template_rows": null,
            "height": null,
            "justify_content": null,
            "justify_items": null,
            "left": null,
            "margin": null,
            "max_height": null,
            "max_width": null,
            "min_height": null,
            "min_width": null,
            "object_fit": null,
            "object_position": null,
            "order": null,
            "overflow": null,
            "overflow_x": null,
            "overflow_y": null,
            "padding": null,
            "right": null,
            "top": null,
            "visibility": null,
            "width": null
          }
        },
        "5c81f5eb1d8f444cbc7314246a91e30a": {
          "model_module": "@jupyter-widgets/controls",
          "model_name": "DescriptionStyleModel",
          "model_module_version": "1.5.0",
          "state": {
            "_model_module": "@jupyter-widgets/controls",
            "_model_module_version": "1.5.0",
            "_model_name": "DescriptionStyleModel",
            "_view_count": null,
            "_view_module": "@jupyter-widgets/base",
            "_view_module_version": "1.2.0",
            "_view_name": "StyleView",
            "description_width": ""
          }
        },
        "0943fc1728614207ab0588c2d80a35c0": {
          "model_module": "@jupyter-widgets/base",
          "model_name": "LayoutModel",
          "model_module_version": "1.2.0",
          "state": {
            "_model_module": "@jupyter-widgets/base",
            "_model_module_version": "1.2.0",
            "_model_name": "LayoutModel",
            "_view_count": null,
            "_view_module": "@jupyter-widgets/base",
            "_view_module_version": "1.2.0",
            "_view_name": "LayoutView",
            "align_content": null,
            "align_items": null,
            "align_self": null,
            "border": null,
            "bottom": null,
            "display": null,
            "flex": null,
            "flex_flow": null,
            "grid_area": null,
            "grid_auto_columns": null,
            "grid_auto_flow": null,
            "grid_auto_rows": null,
            "grid_column": null,
            "grid_gap": null,
            "grid_row": null,
            "grid_template_areas": null,
            "grid_template_columns": null,
            "grid_template_rows": null,
            "height": null,
            "justify_content": null,
            "justify_items": null,
            "left": null,
            "margin": null,
            "max_height": null,
            "max_width": null,
            "min_height": null,
            "min_width": null,
            "object_fit": null,
            "object_position": null,
            "order": null,
            "overflow": null,
            "overflow_x": null,
            "overflow_y": null,
            "padding": null,
            "right": null,
            "top": null,
            "visibility": null,
            "width": null
          }
        },
        "5aaa8d280fe14f2f928d1d4ebb19dbb0": {
          "model_module": "@jupyter-widgets/controls",
          "model_name": "ProgressStyleModel",
          "model_module_version": "1.5.0",
          "state": {
            "_model_module": "@jupyter-widgets/controls",
            "_model_module_version": "1.5.0",
            "_model_name": "ProgressStyleModel",
            "_view_count": null,
            "_view_module": "@jupyter-widgets/base",
            "_view_module_version": "1.2.0",
            "_view_name": "StyleView",
            "bar_color": null,
            "description_width": ""
          }
        },
        "b3a4ec9989ef4212bac4d7ce7c690e2d": {
          "model_module": "@jupyter-widgets/base",
          "model_name": "LayoutModel",
          "model_module_version": "1.2.0",
          "state": {
            "_model_module": "@jupyter-widgets/base",
            "_model_module_version": "1.2.0",
            "_model_name": "LayoutModel",
            "_view_count": null,
            "_view_module": "@jupyter-widgets/base",
            "_view_module_version": "1.2.0",
            "_view_name": "LayoutView",
            "align_content": null,
            "align_items": null,
            "align_self": null,
            "border": null,
            "bottom": null,
            "display": null,
            "flex": null,
            "flex_flow": null,
            "grid_area": null,
            "grid_auto_columns": null,
            "grid_auto_flow": null,
            "grid_auto_rows": null,
            "grid_column": null,
            "grid_gap": null,
            "grid_row": null,
            "grid_template_areas": null,
            "grid_template_columns": null,
            "grid_template_rows": null,
            "height": null,
            "justify_content": null,
            "justify_items": null,
            "left": null,
            "margin": null,
            "max_height": null,
            "max_width": null,
            "min_height": null,
            "min_width": null,
            "object_fit": null,
            "object_position": null,
            "order": null,
            "overflow": null,
            "overflow_x": null,
            "overflow_y": null,
            "padding": null,
            "right": null,
            "top": null,
            "visibility": null,
            "width": null
          }
        },
        "cb49989d9f3b424cbf651b6dc26aec2a": {
          "model_module": "@jupyter-widgets/controls",
          "model_name": "DescriptionStyleModel",
          "model_module_version": "1.5.0",
          "state": {
            "_model_module": "@jupyter-widgets/controls",
            "_model_module_version": "1.5.0",
            "_model_name": "DescriptionStyleModel",
            "_view_count": null,
            "_view_module": "@jupyter-widgets/base",
            "_view_module_version": "1.2.0",
            "_view_name": "StyleView",
            "description_width": ""
          }
        }
      }
    }
  },
  "nbformat": 4,
  "nbformat_minor": 0
}