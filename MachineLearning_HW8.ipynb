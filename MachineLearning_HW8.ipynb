{
  "nbformat": 4,
  "nbformat_minor": 0,
  "metadata": {
    "colab": {
      "provenance": []
    },
    "kernelspec": {
      "name": "python3",
      "display_name": "Python 3"
    }
  },
  "cells": [
    {
      "cell_type": "markdown",
      "metadata": {
        "id": "_UKlfxyyTuz1"
      },
      "source": [
        "# **CIS 520: Machine Learning, Fall 2022**\n",
        "# **LDA HW**\n",
        "\n",
        "\n",
        "\n",
        "\n",
        "- **Content Checkers: Edward Li, Hyungseok (Paul) Roh, Keshav Ramji** \n",
        "- This worksheet is partially **adapted** from: https://colab.research.google.com/github/jakevdp/PythonDataScienceHandbook/blob/master/notebooks/05.05-Naive-Bayes.ipynb#scrollTo=LOj40WjbveIX"
      ]
    },
    {
      "cell_type": "code",
      "source": [
        "import numpy as np"
      ],
      "metadata": {
        "id": "RvrbB7bLpbdr"
      },
      "execution_count": 2,
      "outputs": []
    },
    {
      "cell_type": "markdown",
      "source": [
        " ## Download the Data"
      ],
      "metadata": {
        "id": "dcIawhJSdx6M"
      }
    },
    {
      "cell_type": "code",
      "source": [
        "# Imports\n",
        "from sklearn.datasets import fetch_20newsgroups\n",
        "from sklearn.feature_extraction.text import CountVectorizer\n",
        "from sklearn.pipeline import make_pipeline\n",
        "from sklearn.metrics import confusion_matrix\n",
        "from matplotlib import pyplot as plt\n",
        "import seaborn as sns\n",
        "import numpy as np"
      ],
      "metadata": {
        "id": "bmSAJUaFaxrp"
      },
      "execution_count": 3,
      "outputs": []
    },
    {
      "cell_type": "code",
      "metadata": {
        "deletable": true,
        "editable": true,
        "id": "e2Mk_3K8veHZ",
        "colab": {
          "base_uri": "https://localhost:8080/"
        },
        "outputId": "0dcbb1f9-90c6-4382-f6bc-e48055dae962"
      },
      "source": [
        "data = fetch_20newsgroups()\n",
        "data.target_names"
      ],
      "execution_count": 4,
      "outputs": [
        {
          "output_type": "execute_result",
          "data": {
            "text/plain": [
              "['alt.atheism',\n",
              " 'comp.graphics',\n",
              " 'comp.os.ms-windows.misc',\n",
              " 'comp.sys.ibm.pc.hardware',\n",
              " 'comp.sys.mac.hardware',\n",
              " 'comp.windows.x',\n",
              " 'misc.forsale',\n",
              " 'rec.autos',\n",
              " 'rec.motorcycles',\n",
              " 'rec.sport.baseball',\n",
              " 'rec.sport.hockey',\n",
              " 'sci.crypt',\n",
              " 'sci.electronics',\n",
              " 'sci.med',\n",
              " 'sci.space',\n",
              " 'soc.religion.christian',\n",
              " 'talk.politics.guns',\n",
              " 'talk.politics.mideast',\n",
              " 'talk.politics.misc',\n",
              " 'talk.religion.misc']"
            ]
          },
          "metadata": {},
          "execution_count": 4
        }
      ]
    },
    {
      "cell_type": "markdown",
      "metadata": {
        "deletable": true,
        "editable": true,
        "id": "zKNRbS5tveHc"
      },
      "source": [
        "For simplicity here, we will select just a few of these categories, and download the training and testing set:"
      ]
    },
    {
      "cell_type": "code",
      "metadata": {
        "deletable": true,
        "editable": true,
        "id": "mQEQCVXPveHc"
      },
      "source": [
        "categories = ['talk.politics.mideast', 'comp.graphics',\n",
        "              'sci.med', 'rec.sport.baseball']\n",
        "train = fetch_20newsgroups(subset='train', categories=categories)\n",
        "test = fetch_20newsgroups(subset='test', categories=categories)"
      ],
      "execution_count": 5,
      "outputs": []
    },
    {
      "cell_type": "markdown",
      "metadata": {
        "deletable": true,
        "editable": true,
        "id": "k2fSKVe7veHi"
      },
      "source": [
        "Here is a representative entry from the data:"
      ]
    },
    {
      "cell_type": "code",
      "metadata": {
        "deletable": true,
        "editable": true,
        "id": "bgEIH1lhveHj",
        "colab": {
          "base_uri": "https://localhost:8080/"
        },
        "outputId": "0e270a00-f743-461e-cf44-470508448abf"
      },
      "source": [
        "print(train.data[0])"
      ],
      "execution_count": 6,
      "outputs": [
        {
          "output_type": "stream",
          "name": "stdout",
          "text": [
            "From: rind@enterprise.bih.harvard.edu (David Rind)\n",
            "Subject: Re: Arrhythmia\n",
            "Organization: Beth Israel Hospital, Harvard Medical School, Boston Mass., USA\n",
            "Lines: 26\n",
            "NNTP-Posting-Host: enterprise.bih.harvard.edu\n",
            "\n",
            "In article <1993Apr22.205509.23198@husc3.harvard.edu>\n",
            " perry1@husc10.harvard.edu (Alexis Perry) writes:\n",
            ">In article <1993Apr22.031423.1@vaxc.stevens-tech.edu>\n",
            " u96_averba@vaxc.stevens-tech.edu writes:\n",
            "\n",
            ">>doctors said that he could die from it, and the medication caused\n",
            "\n",
            ">\tIs it that serious?  My EKG often comes back with a few irregular\n",
            ">beats.  Another question:  Is a low blood potassium level very bad?  My\n",
            ">doctor seems concerned, but she tends to worry too much in general.\n",
            "\n",
            "The term arrhythmia is usually used to encompass a wide range of abnormal\n",
            "heart rhythms (cardiac dysrhythmias).  Some of them are very serious\n",
            "while others are completely benign.  Having \"a few irregular beats\"\n",
            "on an EKG could be serious depending on what those beats were and\n",
            "when they occurred, or could be of no significance.\n",
            "\n",
            "Low blood potassium levels probably predispose people with underlying\n",
            "heart disease to develop arrhythmias.  Very low potassium levels are\n",
            "clearly dangerous, but it is not clear how much of a problem\n",
            "low-end-of-normal levels are:  a lot of cardiologists seem to treat\n",
            "anyone with even a mildly low-normal potassium level.\n",
            "\n",
            "-- \n",
            "David Rind\n",
            "rind@enterprise.bih.harvard.edu\n",
            "\n"
          ]
        }
      ]
    },
    {
      "cell_type": "markdown",
      "source": [
        "Can you guess which of the four topics this document belongs to?"
      ],
      "metadata": {
        "id": "guy78HL7BaWS"
      }
    },
    {
      "cell_type": "markdown",
      "source": [
        "sci.med"
      ],
      "metadata": {
        "id": "QUoOnrZ4cygz"
      }
    },
    {
      "cell_type": "markdown",
      "source": [
        "## LDA Training"
      ],
      "metadata": {
        "id": "lBavg1_ebcez"
      }
    },
    {
      "cell_type": "markdown",
      "metadata": {
        "deletable": true,
        "editable": true,
        "id": "mD85LlKlveHp"
      },
      "source": [
        "Let's build out our LDA model and fit our training data. \n",
        "\n",
        "Note that we need to first preprocess our data using a CountVectorizor(). Then you can build an LDA model with 4 n_components and a random_state of 0. See if you can encapsulate this into a single pipeline (check out make_pipeline()).\n"
      ]
    },
    {
      "cell_type": "code",
      "metadata": {
        "id": "VIgSBVRMhi73",
        "colab": {
          "base_uri": "https://localhost:8080/"
        },
        "outputId": "db16faa3-b71d-47f4-c564-5c06bc0b3cc4"
      },
      "source": [
        "from sklearn.decomposition import LatentDirichletAllocation\n",
        "from sklearn.feature_extraction.text import TfidfVectorizer, CountVectorizer\n",
        "from sklearn.pipeline import make_pipeline\n",
        "\n",
        "# TODO: Create and train an LDA model. \n",
        "lda = make_pipeline(CountVectorizer(), LatentDirichletAllocation(n_components=4, random_state=0))\n",
        "lda.fit(train.data)"
      ],
      "execution_count": 7,
      "outputs": [
        {
          "output_type": "execute_result",
          "data": {
            "text/plain": [
              "Pipeline(steps=[('countvectorizer', CountVectorizer()),\n",
              "                ('latentdirichletallocation',\n",
              "                 LatentDirichletAllocation(n_components=4, random_state=0))])"
            ]
          },
          "metadata": {},
          "execution_count": 7
        }
      ]
    },
    {
      "cell_type": "markdown",
      "source": [
        "Now, let's write a prediction function for our test data. We should run the data through the model to get out class probabilities for each datapoint, and then argmax those probabilities to get out a prediction. The transform() function might come in useful here."
      ],
      "metadata": {
        "id": "rxrNcEWZCIbv"
      }
    },
    {
      "cell_type": "code",
      "metadata": {
        "id": "A-RAqnlziKay"
      },
      "source": [
        "def lda_predict(data, model):\n",
        "  # TODO: Write a prediction function for LDA\n",
        "  transform = model.transform(data)\n",
        "  y_pred = np.argmax(transform, axis=1) # Get prediction using the maximum probability\n",
        "  return y_pred"
      ],
      "execution_count": 8,
      "outputs": []
    },
    {
      "cell_type": "code",
      "metadata": {
        "id": "Y-75hxh-iY4c"
      },
      "source": [
        "y_pred = lda_predict(test.data, lda)"
      ],
      "execution_count": 32,
      "outputs": []
    },
    {
      "cell_type": "code",
      "source": [
        "y_pred, test.target"
      ],
      "metadata": {
        "colab": {
          "base_uri": "https://localhost:8080/"
        },
        "id": "yS_C8h4rioKQ",
        "outputId": "47cea230-5c75-43d9-a9f0-b5644efad8d7"
      },
      "execution_count": 14,
      "outputs": [
        {
          "output_type": "execute_result",
          "data": {
            "text/plain": [
              "(array([2, 3, 3, ..., 1, 0, 0]), array([1, 3, 1, ..., 1, 3, 2]))"
            ]
          },
          "metadata": {},
          "execution_count": 14
        }
      ]
    },
    {
      "cell_type": "markdown",
      "source": [
        "## 2.5.1 Confusion Matrix\n",
        "\n",
        "Build a confusion matrix for your predictions vs. actual labels and compute the accuracy for the matrix. Record both in your writeup."
      ],
      "metadata": {
        "id": "MyI8y9NUetaI"
      }
    },
    {
      "cell_type": "code",
      "metadata": {
        "id": "1p9THANdihDq",
        "colab": {
          "base_uri": "https://localhost:8080/",
          "height": 438
        },
        "outputId": "a7b042e5-8aab-43ee-f205-3dc8a355ed4c"
      },
      "source": [
        "## TODO: Construct your confusion matrix here. \n",
        "from sklearn.metrics import confusion_matrix\n",
        "from sklearn.metrics import f1_score\n",
        "import seaborn as sns\n",
        "\n",
        "mat = confusion_matrix(test.target, y_pred)\n",
        "sns.heatmap(mat.T, square=True, annot=True, fmt='d', cbar=False,\n",
        "            xticklabels=train.target_names, yticklabels=train.target_names)\n",
        "plt.xlabel('true label')\n",
        "plt.ylabel('predicted label')\n",
        "\n",
        "print(mat)"
      ],
      "execution_count": 33,
      "outputs": [
        {
          "output_type": "stream",
          "name": "stdout",
          "text": [
            "[[215 153  19   2]\n",
            " [  7 208  87  95]\n",
            " [ 45  31 313   7]\n",
            " [174   7  49 146]]\n"
          ]
        },
        {
          "output_type": "display_data",
          "data": {
            "text/plain": [
              "<Figure size 432x288 with 1 Axes>"
            ],
            "image/png": "[encoded data removed]"
          },
          "metadata": {
            "needs_background": "light"
          }
        }
      ]
    },
    {
      "cell_type": "code",
      "source": [
        "# TODO: Determine the accuracy of the confusion matrix here.\n",
        "from sklearn.metrics import accuracy_score\n",
        "acc = accuracy_score(test.target, y_pred)\n",
        "acc"
      ],
      "metadata": {
        "id": "OSXalkD_BgkL",
        "colab": {
          "base_uri": "https://localhost:8080/"
        },
        "outputId": "8c8e4701-d8e1-47f8-9b35-ad0a23f964e0"
      },
      "execution_count": 13,
      "outputs": [
        {
          "output_type": "execute_result",
          "data": {
            "text/plain": [
              "0.5661103979460848"
            ]
          },
          "metadata": {},
          "execution_count": 13
        }
      ]
    },
    {
      "cell_type": "markdown",
      "metadata": {
        "id": "I5HaboZwvW4P"
      },
      "source": [
        "Beware that even though we specified 4 categories for the LDA model, we did NOT say which topic is which. However, looking at the confusion matrix, we see that the LDA model is able to distinguish the differences between the categories to a great extent.\n",
        "\n",
        "Describe any discrepancies and misclassification you see between the predicted topics and the actual topics. Give two possible factors that might diminish the performance of the LDA and briefly explain them. Record your response in the writeup.\n"
      ]
    },
    {
      "cell_type": "markdown",
      "source": [
        "## 2.5.2 Document-Topic Matrix\n",
        "\n",
        "Now that we have trained our LDA model, we can take a closer look at what the model affords us. One such useful piece of information we can get out of the model is a \"document-topic\" matrix, which tells us that given a document, what are the probabilities that document belongs in each class? We can access this through the transform() method as follows:"
      ],
      "metadata": {
        "id": "dmCJ26elki58"
      }
    },
    {
      "cell_type": "code",
      "source": [
        "from sklearn.linear_model import LogisticRegression\n",
        "from sklearn.metrics import f1_score"
      ],
      "metadata": {
        "id": "Fg0DyHianm6_"
      },
      "execution_count": 15,
      "outputs": []
    },
    {
      "cell_type": "code",
      "source": [
        "len(train.data)"
      ],
      "metadata": {
        "colab": {
          "base_uri": "https://localhost:8080/"
        },
        "id": "UHl18VW-hx3W",
        "outputId": "6d3b245c-9f8f-41b4-998a-30c7633ee5d1"
      },
      "execution_count": 16,
      "outputs": [
        {
          "output_type": "execute_result",
          "data": {
            "text/plain": [
              "2339"
            ]
          },
          "metadata": {},
          "execution_count": 16
        }
      ]
    },
    {
      "cell_type": "code",
      "source": [
        "lda.transform(train.data)"
      ],
      "metadata": {
        "id": "ZL145bftklfi",
        "colab": {
          "base_uri": "https://localhost:8080/"
        },
        "outputId": "c1fe2ef9-85ef-4ec2-c5ad-44f11945d597"
      },
      "execution_count": 17,
      "outputs": [
        {
          "output_type": "execute_result",
          "data": {
            "text/plain": [
              "array([[0.27368128, 0.00120189, 0.72390835, 0.00120848],\n",
              "       [0.30555006, 0.00195677, 0.69051891, 0.00197427],\n",
              "       [0.08159284, 0.00113477, 0.72161358, 0.1956588 ],\n",
              "       ...,\n",
              "       [0.19640593, 0.00206544, 0.79942354, 0.00210509],\n",
              "       [0.00149275, 0.9491492 , 0.04786503, 0.00149302],\n",
              "       [0.09902997, 0.89481898, 0.00303892, 0.00311213]])"
            ]
          },
          "metadata": {},
          "execution_count": 17
        }
      ]
    },
    {
      "cell_type": "markdown",
      "source": [
        "Here, we ran the training data through the trained LDA, and what we get out for each document is a vector of length 4, where each element is the corresponding probability that that document belongs to that particular class. You can verify this yourself by adding the four probabilities up--they should sum to 1!"
      ],
      "metadata": {
        "id": "g37pGQcu9hHH"
      }
    },
    {
      "cell_type": "markdown",
      "source": [
        "Hmm...this looks awfully like a dataset, and numbers are a lot easier to work with than documents of words. Plus, we already know what the labels are:"
      ],
      "metadata": {
        "id": "4sxYadm29_Dr"
      }
    },
    {
      "cell_type": "code",
      "source": [
        "train.target"
      ],
      "metadata": {
        "id": "8eVXy0lS0w8T",
        "colab": {
          "base_uri": "https://localhost:8080/"
        },
        "outputId": "007a2105-00b8-41c2-84af-9e0e2fa0b53f"
      },
      "execution_count": 18,
      "outputs": [
        {
          "output_type": "execute_result",
          "data": {
            "text/plain": [
              "array([2, 2, 2, ..., 2, 1, 0])"
            ]
          },
          "metadata": {},
          "execution_count": 18
        }
      ]
    },
    {
      "cell_type": "markdown",
      "source": [
        "What if we use the LDA model to transform our document data into these probability vectors, and use this transformed data as an input to a classification model? In fact, something similar has actually been done before [here](https://towardsdatascience.com/unsupervised-nlp-topic-models-as-a-supervised-learning-input-cf8ee9e5cf28).\n",
        "\n",
        "Let's see if we can recreate a simplified version here, using multiclass logistic regression."
      ],
      "metadata": {
        "id": "ZJ34Z4Ib-Eq_"
      }
    },
    {
      "cell_type": "code",
      "source": [
        "logistic = LogisticRegression(multi_class = 'multinomial', solver = 'lbfgs', random_state=0)"
      ],
      "metadata": {
        "id": "uMz09y-bpKZE"
      },
      "execution_count": 19,
      "outputs": []
    },
    {
      "cell_type": "code",
      "source": [
        "# TODO: Fit the logistic regressor on lda-transformed training data and labels\n",
        "logistic.fit(lda.transform(train.data),train.target)"
      ],
      "metadata": {
        "id": "ZhemnCQWpbn7",
        "colab": {
          "base_uri": "https://localhost:8080/"
        },
        "outputId": "1c077c5d-b29b-485b-c824-74969c5e05a0"
      },
      "execution_count": 20,
      "outputs": [
        {
          "output_type": "execute_result",
          "data": {
            "text/plain": [
              "LogisticRegression(multi_class='multinomial', random_state=0)"
            ]
          },
          "metadata": {},
          "execution_count": 20
        }
      ]
    },
    {
      "cell_type": "markdown",
      "source": [
        "What are the coefficients and intercepts in this trained model?"
      ],
      "metadata": {
        "id": "295_XQrk-3jO"
      }
    },
    {
      "cell_type": "code",
      "source": [
        "# TODO: what are the computed intercepts?\n",
        "\n",
        "logistic.intercept_"
      ],
      "metadata": {
        "id": "WI9GvHnaplhA",
        "colab": {
          "base_uri": "https://localhost:8080/"
        },
        "outputId": "58d64ce9-29ad-4476-b19f-ccda1ab75714"
      },
      "execution_count": 21,
      "outputs": [
        {
          "output_type": "execute_result",
          "data": {
            "text/plain": [
              "array([-0.67205662,  0.37393217, -0.17023523,  0.46835968])"
            ]
          },
          "metadata": {},
          "execution_count": 21
        }
      ]
    },
    {
      "cell_type": "code",
      "source": [
        "# TODO: what are the computed coefficients?\n",
        "\n",
        "logistic.coef_"
      ],
      "metadata": {
        "id": "FUbKVP1dpoDq",
        "colab": {
          "base_uri": "https://localhost:8080/"
        },
        "outputId": "631b27f0-18c8-401b-cd22-bbce0b7120ca"
      },
      "execution_count": 22,
      "outputs": [
        {
          "output_type": "execute_result",
          "data": {
            "text/plain": [
              "array([[ 2.05034084,  3.48910394, -0.48090578, -5.06047443],\n",
              "       [-3.88900895,  2.46901226, -0.8643668 ,  2.28538379],\n",
              "       [ 0.46985768, -1.66632609,  2.10441663, -0.90809465],\n",
              "       [ 1.36881043, -4.2917901 , -0.75914405,  3.68318529]])"
            ]
          },
          "metadata": {},
          "execution_count": 22
        }
      ]
    },
    {
      "cell_type": "markdown",
      "source": [
        "Now let's see if we can get out predictions. Multiply your coefficient matrix with your lda-transformed TEST data matrix and add your bias terms. Then, taking the argmax of each row should yield your predicted class for the test data."
      ],
      "metadata": {
        "id": "GksOD5D__CvQ"
      }
    },
    {
      "cell_type": "code",
      "source": [
        "(lda.transform(test.data)).shape"
      ],
      "metadata": {
        "colab": {
          "base_uri": "https://localhost:8080/"
        },
        "id": "gK3zLDbPL5t-",
        "outputId": "7b2ebb91-fc90-459e-b5e1-c626993d07ca"
      },
      "execution_count": 24,
      "outputs": [
        {
          "output_type": "execute_result",
          "data": {
            "text/plain": [
              "(1558, 4)"
            ]
          },
          "metadata": {},
          "execution_count": 24
        }
      ]
    },
    {
      "cell_type": "code",
      "source": [
        "# TODO: Make predictions on TEST data.\n",
        "y_pred = lda.transform(test.data)@logistic.coef_.T+logistic.intercept_\n",
        "y_pred = np.argmax(y_pred, axis=1)"
      ],
      "metadata": {
        "id": "1rSsrmUqsqWd"
      },
      "execution_count": 25,
      "outputs": []
    },
    {
      "cell_type": "markdown",
      "source": [
        "Compute the confusion matrix and *weighted* F1 score and include them in the writeup."
      ],
      "metadata": {
        "id": "gi1Zq-x7_khb"
      }
    },
    {
      "cell_type": "code",
      "source": [
        "test.target, y_pred"
      ],
      "metadata": {
        "colab": {
          "base_uri": "https://localhost:8080/"
        },
        "id": "9R0SQ1NmJQwM",
        "outputId": "b2bc6ca9-4bb1-4e99-fa21-b7c2bde59b10"
      },
      "execution_count": 26,
      "outputs": [
        {
          "output_type": "execute_result",
          "data": {
            "text/plain": [
              "(array([1, 3, 1, ..., 1, 3, 2]), array([2, 3, 3, ..., 1, 3, 3]))"
            ]
          },
          "metadata": {},
          "execution_count": 26
        }
      ]
    },
    {
      "cell_type": "code",
      "source": [
        "## TODO: Construct your confusion matrix here.\n",
        "mat = confusion_matrix(test.target, y_pred)\n",
        "sns.heatmap(mat.T, square=True, annot=True, fmt='d', cbar=False,\n",
        "            xticklabels=train.target_names, yticklabels=train.target_names)\n",
        "plt.xlabel('true label')\n",
        "plt.ylabel('predicted label') \n",
        "\n",
        "f1 = f1_score(test.target, y_pred,average='weighted')\n",
        "print('F1 score: ',f1)\n",
        "print(mat)"
      ],
      "metadata": {
        "id": "terVnCbFts7X",
        "colab": {
          "base_uri": "https://localhost:8080/",
          "height": 455
        },
        "outputId": "1902c651-c8f6-4c15-8111-14865a2451c7"
      },
      "execution_count": 31,
      "outputs": [
        {
          "output_type": "stream",
          "name": "stdout",
          "text": [
            "F1 score:  0.7780489588050767\n",
            "[[290  41  15  43]\n",
            " [ 26 331  20  20]\n",
            " [ 47  25 270  54]\n",
            " [ 21   6  26 323]]\n"
          ]
        },
        {
          "output_type": "display_data",
          "data": {
            "text/plain": [
              "<Figure size 432x288 with 1 Axes>"
            ],
            "image/png": "[encoded data removed]"
          },
          "metadata": {
            "needs_background": "light"
          }
        }
      ]
    },
    {
      "cell_type": "markdown",
      "source": [
        "Do your results align with what you would expect? Why or why not? Record your thoughts in the writeup."
      ],
      "metadata": {
        "id": "KP_00IOn_0Cn"
      }
    },
    {
      "cell_type": "markdown",
      "source": [
        "## 2.5.3 Topic-Term Matrix\n",
        "\n",
        "The other piece of information we can extract from our trained LDA model is a topic-term matrix. You can do so by making a call to the .components_ attribute on your LDA model:"
      ],
      "metadata": {
        "id": "CM5bc-F1kl2X"
      }
    },
    {
      "cell_type": "code",
      "source": [
        "lda[1].components_"
      ],
      "metadata": {
        "colab": {
          "base_uri": "https://localhost:8080/"
        },
        "id": "UOMX5kcZLmvR",
        "outputId": "8128a7ba-a6cc-487e-b116-5d43df6c69af"
      },
      "execution_count": 28,
      "outputs": [
        {
          "output_type": "execute_result",
          "data": {
            "text/plain": [
              "array([[ 64.14361922, 100.63665876,   2.22163244, ...,   0.28775286,\n",
              "          0.26109064,   0.2500038 ],\n",
              "       [219.28544255,  58.52523881,   0.25016452, ...,   0.25441101,\n",
              "          1.23635215,   2.07778532],\n",
              "       [ 22.1120397 ,  28.65062333,   0.25000076, ...,   1.20782949,\n",
              "          0.25255392,   0.41132378],\n",
              "       [  3.45889853, 143.1874791 ,   0.27820228, ...,   0.25000664,\n",
              "          0.25000328,   0.2608871 ]])"
            ]
          },
          "metadata": {},
          "execution_count": 28
        }
      ]
    },
    {
      "cell_type": "markdown",
      "source": [
        "Look closely at this matrix. What does the topic-term matrix tell us? Record your thoughts in your homework writeup.\n",
        "\n",
        "Hint: Check out the dimensionality of the matrix."
      ],
      "metadata": {
        "id": "7MudCRc1AmbF"
      }
    },
    {
      "cell_type": "markdown",
      "source": [
        "## 2.5.4 Visualizing each Topic\n",
        "\n",
        "Now, your task is to print out the 10 most common or influential words that the model has learned for each of the four topics.\n",
        "\n",
        "*Hint: You will need to first find the indices of the 10 highest values for each topic: argsort() could be useful here. Then use the provided vocabulary to extract out those selected terms.*"
      ],
      "metadata": {
        "id": "lGLqJuCQTHrQ"
      }
    },
    {
      "cell_type": "code",
      "source": [
        "vectorizer = CountVectorizer()\n",
        "X = vectorizer.fit_transform(train.data)\n",
        "vocab = vectorizer.get_feature_names()\n",
        "\n",
        "topic_words = {}\n",
        "\n",
        "for topic, comp in enumerate(lda[1].components_):\n",
        "  # TODO: Complete this section.\n",
        "  word_idx = np.argsort((lda[1].components_)[topic])[-10:]\n",
        "  topic_words[topic] = np.array(vocab)[word_idx]\n",
        "\n",
        "for topic, words in topic_words.items():\n",
        "  print('Topic: %d' % topic)\n",
        "  print('  %s' % ', '.join(words))"
      ],
      "metadata": {
        "id": "ZX8qdk0bA7oD",
        "colab": {
          "base_uri": "https://localhost:8080/"
        },
        "outputId": "ac66299e-4ecd-41c8-9563-5f338d0a254a"
      },
      "execution_count": 30,
      "outputs": [
        {
          "output_type": "stream",
          "name": "stdout",
          "text": [
            "Topic: 0\n",
            "  you, it, for, that, is, in, and, to, of, the\n",
            "Topic: 1\n",
            "  lines, subject, from, of, and, for, in, to, edu, the\n",
            "Topic: 2\n",
            "  this, edu, it, that, and, in, is, to, of, the\n",
            "Topic: 3\n",
            "  it, he, they, was, that, in, to, of, and, the\n"
          ]
        },
        {
          "output_type": "stream",
          "name": "stderr",
          "text": [
            "/usr/local/lib/python3.7/dist-packages/sklearn/utils/deprecation.py:87: FutureWarning: Function get_feature_names is deprecated; get_feature_names is deprecated in 1.0 and will be removed in 1.2. Please use get_feature_names_out instead.\n",
            "  warnings.warn(msg, category=FutureWarning)\n"
          ]
        }
      ]
    },
    {
      "cell_type": "markdown",
      "source": [
        "Do these words make sense for their corresponding topics? Do you see any limitations? Briefly explain and record your thoughts in the writeup."
      ],
      "metadata": {
        "id": "lrMBIMqXRaGQ"
      }
    }
  ]
}