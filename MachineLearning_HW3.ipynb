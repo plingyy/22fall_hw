{
  "cells": [
    {
      "cell_type": "markdown",
      "metadata": {
        "id": "TyAsw2JuVfaM"
      },
      "source": [
        "# Homework 3: Coding\n",
        "\n",
        "**Due Tuesday October 4th, 11:59pm.**\n",
        "**Note: Only Question 3 has code to submit for this assignment**\n",
        "**Submit hw3.ipynb file to Gradescope (you may submit as many times as you'd like before the deadline).**"
      ]
    },
    {
      "cell_type": "code",
      "execution_count": 1,
      "metadata": {
        "colab": {
          "base_uri": "https://localhost:8080/",
          "height": 35
        },
        "id": "nYCgbkJwVg7r",
        "outputId": "9aa7257a-e188-4bd0-df35-e86671dcf351"
      },
      "outputs": [
        {
          "output_type": "execute_result",
          "data": {
            "text/plain": [
              "'1.21.6'"
            ],
            "application/vnd.google.colaboratory.intrinsic+json": {
              "type": "string"
            }
          },
          "metadata": {},
          "execution_count": 1
        }
      ],
      "source": [
        "\"\"\"\n",
        "Import libraries that you might require.\n",
        "\n",
        "\"\"\"\n",
        "import warnings\n",
        "\n",
        "#suppress warnings\n",
        "warnings.filterwarnings('ignore')\n",
        "\n",
        "import numpy as np\n",
        "import pandas as pd\n",
        "import matplotlib.pyplot as plt\n",
        "from sklearn.metrics import mean_squared_error, accuracy_score\n",
        "from sklearn.linear_model import LogisticRegression\n",
        "\n",
        "np.__version__\n"
      ]
    },
    {
      "cell_type": "code",
      "execution_count": 2,
      "metadata": {
        "colab": {
          "base_uri": "https://localhost:8080/",
          "height": 229
        },
        "id": "Ccn-TAICxI50",
        "outputId": "e37977fc-e280-4dc7-f472-46e76848ee28"
      },
      "outputs": [
        {
          "output_type": "display_data",
          "data": {
            "text/plain": [
              "<IPython.core.display.HTML object>"
            ],
            "text/html": [
              "\n",
              "     <input type=\"file\" id=\"files-d33879cf-3f35-4378-934f-8a8abff72896\" name=\"files[]\" multiple disabled\n",
              "        style=\"border:none\" />\n",
              "     <output id=\"result-d33879cf-3f35-4378-934f-8a8abff72896\">\n",
              "      Upload widget is only available when the cell has been executed in the\n",
              "      current browser session. Please rerun this cell to enable.\n",
              "      </output>\n",
              "      <script>// Copyright 2017 Google LLC\n",
              "//\n",
              "// Licensed under the Apache License, Version 2.0 (the \"License\");\n",
              "// you may not use this file except in compliance with the License.\n",
              "// You may obtain a copy of the License at\n",
              "//\n",
              "//      http://www.apache.org/licenses/LICENSE-2.0\n",
              "//\n",
              "// Unless required by applicable law or agreed to in writing, software\n",
              "// distributed under the License is distributed on an \"AS IS\" BASIS,\n",
              "// WITHOUT WARRANTIES OR CONDITIONS OF ANY KIND, either express or implied.\n",
              "// See the License for the specific language governing permissions and\n",
              "// limitations under the License.\n",
              "\n",
              "/**\n",
              " * @fileoverview Helpers for google.colab Python module.\n",
              " */\n",
              "(function(scope) {\n",
              "function span(text, styleAttributes = {}) {\n",
              "  const element = document.createElement('span');\n",
              "  element.textContent = text;\n",
              "  for (const key of Object.keys(styleAttributes)) {\n",
              "    element.style[key] = styleAttributes[key];\n",
              "  }\n",
              "  return element;\n",
              "}\n",
              "\n",
              "// Max number of bytes which will be uploaded at a time.\n",
              "const MAX_PAYLOAD_SIZE = 100 * 1024;\n",
              "\n",
              "function _uploadFiles(inputId, outputId) {\n",
              "  const steps = uploadFilesStep(inputId, outputId);\n",
              "  const outputElement = document.getElementById(outputId);\n",
              "  // Cache steps on the outputElement to make it available for the next call\n",
              "  // to uploadFilesContinue from Python.\n",
              "  outputElement.steps = steps;\n",
              "\n",
              "  return _uploadFilesContinue(outputId);\n",
              "}\n",
              "\n",
              "// This is roughly an async generator (not supported in the browser yet),\n",
              "// where there are multiple asynchronous steps and the Python side is going\n",
              "// to poll for completion of each step.\n",
              "// This uses a Promise to block the python side on completion of each step,\n",
              "// then passes the result of the previous step as the input to the next step.\n",
              "function _uploadFilesContinue(outputId) {\n",
              "  const outputElement = document.getElementById(outputId);\n",
              "  const steps = outputElement.steps;\n",
              "\n",
              "  const next = steps.next(outputElement.lastPromiseValue);\n",
              "  return Promise.resolve(next.value.promise).then((value) => {\n",
              "    // Cache the last promise value to make it available to the next\n",
              "    // step of the generator.\n",
              "    outputElement.lastPromiseValue = value;\n",
              "    return next.value.response;\n",
              "  });\n",
              "}\n",
              "\n",
              "/**\n",
              " * Generator function which is called between each async step of the upload\n",
              " * process.\n",
              " * @param {string} inputId Element ID of the input file picker element.\n",
              " * @param {string} outputId Element ID of the output display.\n",
              " * @return {!Iterable<!Object>} Iterable of next steps.\n",
              " */\n",
              "function* uploadFilesStep(inputId, outputId) {\n",
              "  const inputElement = document.getElementById(inputId);\n",
              "  inputElement.disabled = false;\n",
              "\n",
              "  const outputElement = document.getElementById(outputId);\n",
              "  outputElement.innerHTML = '';\n",
              "\n",
              "  const pickedPromise = new Promise((resolve) => {\n",
              "    inputElement.addEventListener('change', (e) => {\n",
              "      resolve(e.target.files);\n",
              "    });\n",
              "  });\n",
              "\n",
              "  const cancel = document.createElement('button');\n",
              "  inputElement.parentElement.appendChild(cancel);\n",
              "  cancel.textContent = 'Cancel upload';\n",
              "  const cancelPromise = new Promise((resolve) => {\n",
              "    cancel.onclick = () => {\n",
              "      resolve(null);\n",
              "    };\n",
              "  });\n",
              "\n",
              "  // Wait for the user to pick the files.\n",
              "  const files = yield {\n",
              "    promise: Promise.race([pickedPromise, cancelPromise]),\n",
              "    response: {\n",
              "      action: 'starting',\n",
              "    }\n",
              "  };\n",
              "\n",
              "  cancel.remove();\n",
              "\n",
              "  // Disable the input element since further picks are not allowed.\n",
              "  inputElement.disabled = true;\n",
              "\n",
              "  if (!files) {\n",
              "    return {\n",
              "      response: {\n",
              "        action: 'complete',\n",
              "      }\n",
              "    };\n",
              "  }\n",
              "\n",
              "  for (const file of files) {\n",
              "    const li = document.createElement('li');\n",
              "    li.append(span(file.name, {fontWeight: 'bold'}));\n",
              "    li.append(span(\n",
              "        `(${file.type || 'n/a'}) - ${file.size} bytes, ` +\n",
              "        `last modified: ${\n",
              "            file.lastModifiedDate ? file.lastModifiedDate.toLocaleDateString() :\n",
              "                                    'n/a'} - `));\n",
              "    const percent = span('0% done');\n",
              "    li.appendChild(percent);\n",
              "\n",
              "    outputElement.appendChild(li);\n",
              "\n",
              "    const fileDataPromise = new Promise((resolve) => {\n",
              "      const reader = new FileReader();\n",
              "      reader.onload = (e) => {\n",
              "        resolve(e.target.result);\n",
              "      };\n",
              "      reader.readAsArrayBuffer(file);\n",
              "    });\n",
              "    // Wait for the data to be ready.\n",
              "    let fileData = yield {\n",
              "      promise: fileDataPromise,\n",
              "      response: {\n",
              "        action: 'continue',\n",
              "      }\n",
              "    };\n",
              "\n",
              "    // Use a chunked sending to avoid message size limits. See b/62115660.\n",
              "    let position = 0;\n",
              "    do {\n",
              "      const length = Math.min(fileData.byteLength - position, MAX_PAYLOAD_SIZE);\n",
              "      const chunk = new Uint8Array(fileData, position, length);\n",
              "      position += length;\n",
              "\n",
              "      const base64 = btoa(String.fromCharCode.apply(null, chunk));\n",
              "      yield {\n",
              "        response: {\n",
              "          action: 'append',\n",
              "          file: file.name,\n",
              "          data: base64,\n",
              "        },\n",
              "      };\n",
              "\n",
              "      let percentDone = fileData.byteLength === 0 ?\n",
              "          100 :\n",
              "          Math.round((position / fileData.byteLength) * 100);\n",
              "      percent.textContent = `${percentDone}% done`;\n",
              "\n",
              "    } while (position < fileData.byteLength);\n",
              "  }\n",
              "\n",
              "  // All done.\n",
              "  yield {\n",
              "    response: {\n",
              "      action: 'complete',\n",
              "    }\n",
              "  };\n",
              "}\n",
              "\n",
              "scope.google = scope.google || {};\n",
              "scope.google.colab = scope.google.colab || {};\n",
              "scope.google.colab._files = {\n",
              "  _uploadFiles,\n",
              "  _uploadFilesContinue,\n",
              "};\n",
              "})(self);\n",
              "</script> "
            ]
          },
          "metadata": {}
        },
        {
          "output_type": "stream",
          "name": "stdout",
          "text": [
            "Saving hw3_house_sales.zip to hw3_house_sales.zip\n",
            "Archive:  hw3_house_sales.zip\n",
            "  inflating: X_test.csv              \n",
            "  inflating: __MACOSX/._X_test.csv   \n",
            "  inflating: X_train.csv             \n",
            "  inflating: __MACOSX/._X_train.csv  \n",
            "  inflating: y_test.csv              \n",
            "  inflating: __MACOSX/._y_test.csv   \n",
            "  inflating: y_train.csv             \n",
            "  inflating: __MACOSX/._y_train.csv  \n"
          ]
        }
      ],
      "source": [
        "\"\"\"\n",
        "FOR COLAB USERS ONLY\n",
        "\n",
        "Run the following code to upload and unzip the data into the Colab environment.\n",
        "\n",
        "\"\"\"\n",
        "from google.colab import files\n",
        "uploaded = files.upload()\n",
        "! unzip hw3_house_sales.zip"
      ]
    },
    {
      "cell_type": "markdown",
      "metadata": {
        "id": "ts-OKbAVvJtb"
      },
      "source": [
        "# Question 3: Logistic Regression and Gradient Descent"
      ]
    },
    {
      "cell_type": "markdown",
      "metadata": {
        "id": "OWme3egnIQvP"
      },
      "source": [
        "Implement the following functions for question 1. Please use the sklearn implementation of linear regression or other imports beyond those listed above."
      ]
    },
    {
      "cell_type": "code",
      "execution_count": 3,
      "metadata": {
        "id": "YoPLNR8xIY3b",
        "colab": {
          "base_uri": "https://localhost:8080/",
          "height": 276
        },
        "outputId": "e1b105c7-0e8f-4c7c-eca1-26fdc08d7a02"
      },
      "outputs": [
        {
          "output_type": "stream",
          "name": "stdout",
          "text": [
            "(800, 11)\n",
            "(400, 11)\n",
            "(800, 1)\n",
            "(400, 1)\n"
          ]
        },
        {
          "output_type": "execute_result",
          "data": {
            "text/plain": [
              "   LotArea  OverallQual  OverallCond  YearBuilt  YearRemodAdd  GrLivArea  \\\n",
              "0    11851            7            5       1990          1990       1442   \n",
              "1     9920            7            5       1996          1997       2013   \n",
              "2    11216            8            5       2006          2006       1489   \n",
              "3     8244            7            5       2004          2004       1720   \n",
              "4    11787            7            5       1996          1997       2398   \n",
              "\n",
              "   FullBath  BedroomAbvGr  KitchenAbvGr  YrSold  const  \n",
              "0         2             3             1    2009      1  \n",
              "1         2             3             1    2007      1  \n",
              "2         2             3             1    2006      1  \n",
              "3         2             3             1    2007      1  \n",
              "4         2             3             1    2007      1  "
            ],
            "text/html": [
              "\n",
              "  <div id=\"df-2a16d7b8-417a-49cf-be54-d4429b69df86\">\n",
              "    <div class=\"colab-df-container\">\n",
              "      <div>\n",
              "<style scoped>\n",
              "    .dataframe tbody tr th:only-of-type {\n",
              "        vertical-align: middle;\n",
              "    }\n",
              "\n",
              "    .dataframe tbody tr th {\n",
              "        vertical-align: top;\n",
              "    }\n",
              "\n",
              "    .dataframe thead th {\n",
              "        text-align: right;\n",
              "    }\n",
              "</style>\n",
              "<table border=\"1\" class=\"dataframe\">\n",
              "  <thead>\n",
              "    <tr style=\"text-align: right;\">\n",
              "      <th></th>\n",
              "      <th>LotArea</th>\n",
              "      <th>OverallQual</th>\n",
              "      <th>OverallCond</th>\n",
              "      <th>YearBuilt</th>\n",
              "      <th>YearRemodAdd</th>\n",
              "      <th>GrLivArea</th>\n",
              "      <th>FullBath</th>\n",
              "      <th>BedroomAbvGr</th>\n",
              "      <th>KitchenAbvGr</th>\n",
              "      <th>YrSold</th>\n",
              "      <th>const</th>\n",
              "    </tr>\n",
              "  </thead>\n",
              "  <tbody>\n",
              "    <tr>\n",
              "      <th>0</th>\n",
              "      <td>11851</td>\n",
              "      <td>7</td>\n",
              "      <td>5</td>\n",
              "      <td>1990</td>\n",
              "      <td>1990</td>\n",
              "      <td>1442</td>\n",
              "      <td>2</td>\n",
              "      <td>3</td>\n",
              "      <td>1</td>\n",
              "      <td>2009</td>\n",
              "      <td>1</td>\n",
              "    </tr>\n",
              "    <tr>\n",
              "      <th>1</th>\n",
              "      <td>9920</td>\n",
              "      <td>7</td>\n",
              "      <td>5</td>\n",
              "      <td>1996</td>\n",
              "      <td>1997</td>\n",
              "      <td>2013</td>\n",
              "      <td>2</td>\n",
              "      <td>3</td>\n",
              "      <td>1</td>\n",
              "      <td>2007</td>\n",
              "      <td>1</td>\n",
              "    </tr>\n",
              "    <tr>\n",
              "      <th>2</th>\n",
              "      <td>11216</td>\n",
              "      <td>8</td>\n",
              "      <td>5</td>\n",
              "      <td>2006</td>\n",
              "      <td>2006</td>\n",
              "      <td>1489</td>\n",
              "      <td>2</td>\n",
              "      <td>3</td>\n",
              "      <td>1</td>\n",
              "      <td>2006</td>\n",
              "      <td>1</td>\n",
              "    </tr>\n",
              "    <tr>\n",
              "      <th>3</th>\n",
              "      <td>8244</td>\n",
              "      <td>7</td>\n",
              "      <td>5</td>\n",
              "      <td>2004</td>\n",
              "      <td>2004</td>\n",
              "      <td>1720</td>\n",
              "      <td>2</td>\n",
              "      <td>3</td>\n",
              "      <td>1</td>\n",
              "      <td>2007</td>\n",
              "      <td>1</td>\n",
              "    </tr>\n",
              "    <tr>\n",
              "      <th>4</th>\n",
              "      <td>11787</td>\n",
              "      <td>7</td>\n",
              "      <td>5</td>\n",
              "      <td>1996</td>\n",
              "      <td>1997</td>\n",
              "      <td>2398</td>\n",
              "      <td>2</td>\n",
              "      <td>3</td>\n",
              "      <td>1</td>\n",
              "      <td>2007</td>\n",
              "      <td>1</td>\n",
              "    </tr>\n",
              "  </tbody>\n",
              "</table>\n",
              "</div>\n",
              "      <button class=\"colab-df-convert\" onclick=\"convertToInteractive('df-2a16d7b8-417a-49cf-be54-d4429b69df86')\"\n",
              "              title=\"Convert this dataframe to an interactive table.\"\n",
              "              style=\"display:none;\">\n",
              "        \n",
              "  <svg xmlns=\"http://www.w3.org/2000/svg\" height=\"24px\"viewBox=\"0 0 24 24\"\n",
              "       width=\"24px\">\n",
              "    <path d=\"M0 0h24v24H0V0z\" fill=\"none\"/>\n",
              "    <path d=\"M18.56 5.44l.94 2.06.94-2.06 2.06-.94-2.06-.94-.94-2.06-.94 2.06-2.06.94zm-11 1L8.5 8.5l.94-2.06 2.06-.94-2.06-.94L8.5 2.5l-.94 2.06-2.06.94zm10 10l.94 2.06.94-2.06 2.06-.94-2.06-.94-.94-2.06-.94 2.06-2.06.94z\"/><path d=\"M17.41 7.96l-1.37-1.37c-.4-.4-.92-.59-1.43-.59-.52 0-1.04.2-1.43.59L10.3 9.45l-7.72 7.72c-.78.78-.78 2.05 0 2.83L4 21.41c.39.39.9.59 1.41.59.51 0 1.02-.2 1.41-.59l7.78-7.78 2.81-2.81c.8-.78.8-2.07 0-2.86zM5.41 20L4 18.59l7.72-7.72 1.47 1.35L5.41 20z\"/>\n",
              "  </svg>\n",
              "      </button>\n",
              "      \n",
              "  <style>\n",
              "    .colab-df-container {\n",
              "      display:flex;\n",
              "      flex-wrap:wrap;\n",
              "      gap: 12px;\n",
              "    }\n",
              "\n",
              "    .colab-df-convert {\n",
              "      background-color: #E8F0FE;\n",
              "      border: none;\n",
              "      border-radius: 50%;\n",
              "      cursor: pointer;\n",
              "      display: none;\n",
              "      fill: #1967D2;\n",
              "      height: 32px;\n",
              "      padding: 0 0 0 0;\n",
              "      width: 32px;\n",
              "    }\n",
              "\n",
              "    .colab-df-convert:hover {\n",
              "      background-color: #E2EBFA;\n",
              "      box-shadow: 0px 1px 2px rgba(60, 64, 67, 0.3), 0px 1px 3px 1px rgba(60, 64, 67, 0.15);\n",
              "      fill: #174EA6;\n",
              "    }\n",
              "\n",
              "    [theme=dark] .colab-df-convert {\n",
              "      background-color: #3B4455;\n",
              "      fill: #D2E3FC;\n",
              "    }\n",
              "\n",
              "    [theme=dark] .colab-df-convert:hover {\n",
              "      background-color: #434B5C;\n",
              "      box-shadow: 0px 1px 3px 1px rgba(0, 0, 0, 0.15);\n",
              "      filter: drop-shadow(0px 1px 2px rgba(0, 0, 0, 0.3));\n",
              "      fill: #FFFFFF;\n",
              "    }\n",
              "  </style>\n",
              "\n",
              "      <script>\n",
              "        const buttonEl =\n",
              "          document.querySelector('#df-2a16d7b8-417a-49cf-be54-d4429b69df86 button.colab-df-convert');\n",
              "        buttonEl.style.display =\n",
              "          google.colab.kernel.accessAllowed ? 'block' : 'none';\n",
              "\n",
              "        async function convertToInteractive(key) {\n",
              "          const element = document.querySelector('#df-2a16d7b8-417a-49cf-be54-d4429b69df86');\n",
              "          const dataTable =\n",
              "            await google.colab.kernel.invokeFunction('convertToInteractive',\n",
              "                                                     [key], {});\n",
              "          if (!dataTable) return;\n",
              "\n",
              "          const docLinkHtml = 'Like what you see? Visit the ' +\n",
              "            '<a target=\"_blank\" href=https://colab.research.google.com/notebooks/data_table.ipynb>data table notebook</a>'\n",
              "            + ' to learn more about interactive tables.';\n",
              "          element.innerHTML = '';\n",
              "          dataTable['output_type'] = 'display_data';\n",
              "          await google.colab.output.renderOutput(dataTable, element);\n",
              "          const docLink = document.createElement('div');\n",
              "          docLink.innerHTML = docLinkHtml;\n",
              "          element.appendChild(docLink);\n",
              "        }\n",
              "      </script>\n",
              "    </div>\n",
              "  </div>\n",
              "  "
            ]
          },
          "metadata": {},
          "execution_count": 3
        }
      ],
      "source": [
        "\"\"\"\n",
        "load data, a const dimension (for weight b) is already included in X.\n",
        "\"\"\"\n",
        "# X_train = pd.read_csv('X_train.csv')\n",
        "# X_test = pd.read_csv('X_test.csv')\n",
        "# y_train = pd.read_csv('y_train.csv')\n",
        "# y_test = pd.read_csv('y_test.csv')\n",
        "\n",
        "X_train = pd.read_csv('X_train.csv')\n",
        "X_test = pd.read_csv('X_test.csv')\n",
        "y_train = pd.read_csv('y_train.csv')\n",
        "y_test = pd.read_csv('y_test.csv')\n",
        "\n",
        "print(X_train.shape)\n",
        "print(X_test.shape)\n",
        "print(y_train.shape)\n",
        "print(y_test.shape)\n",
        "\n",
        "X_test.head(5)"
      ]
    },
    {
      "cell_type": "code",
      "execution_count": 4,
      "metadata": {
        "id": "HHtOjixmSh86"
      },
      "outputs": [],
      "source": [
        "\"\"\"\n",
        "Do some data preparation, convert dataframe to numpy array\n",
        "\"\"\"\n",
        "n_features = X_train.shape[1]\n",
        "\n",
        "w = np.zeros((1, n_features))\n",
        "\n",
        "# turn dataframe to np array\n",
        "X_train = X_train.values\n",
        "X_test = X_test.values\n",
        "\n",
        "y_train = y_train.values\n",
        "y_test = y_test.values\n",
        "\n",
        "m_train =  X_train.shape[0]\n",
        "m_test =  X_test.shape[0]"
      ]
    },
    {
      "cell_type": "markdown",
      "metadata": {
        "id": "NVmVoQfAUkqe"
      },
      "source": [
        "**Logistic regression with scikit** Fill in the logisticRegressionScikit() function. Report the weights, training accuracy, and the test accuracy. We will not use any penalty here, so set the parameters penalty = 'none', solver = 'saga'.Also, we will use 2000 iterations for a fair comparison to later algorithms, so also set the parameter max_iter=2000."
      ]
    },
    {
      "cell_type": "code",
      "execution_count": 5,
      "metadata": {
        "id": "psZtnphuGJSj"
      },
      "outputs": [],
      "source": [
        "def LogisticRegressionScikit(X_train, y_train, X_test, y_test):\n",
        "\n",
        "    \"\"\"\n",
        "    Computes logistic regression with scikit-learn.\n",
        "    \n",
        "    Args:\n",
        "        X_train: feature matrix of training set, np array of (n, p)\n",
        "                 where n is the number of training observations, \n",
        "                 p is the number of features\n",
        "        y_train: truth value of training set, np array of (n, 1)\n",
        "\n",
        "        X_test: feature matrix of test set, np array of (m, p)\n",
        "                 where m is the number of test observations,\n",
        "                 p is the number of features\n",
        "        y_test: truth value of test set, np array of (m, 1)\n",
        "\n",
        "    Returns:  \n",
        "        w: numpy array of learned coefficients\n",
        "        y_pred: numpy array of predicted labels for the test data\n",
        "        score: accuracy of test data\n",
        "    \"\"\"\n",
        "    clf = LogisticRegression(\n",
        "        penalty='none', solver='saga', max_iter=2000, fit_intercept=False\n",
        "        )\n",
        "    clf = clf.fit(X_train, y_train)\n",
        "    y_pred_test = clf.predict(X_test)\n",
        "    score = accuracy_score(y_test, y_pred_test)\n",
        "    return clf.coef_, y_pred_test, score"
      ]
    },
    {
      "cell_type": "code",
      "source": [
        "\"\"\"\n",
        "Results for logistic regression Scikit function\n",
        "\"\"\"\n",
        "LogisticRegressionScikit(X_train, y_train, X_test, y_test)"
      ],
      "metadata": {
        "colab": {
          "base_uri": "https://localhost:8080/"
        },
        "id": "23rs25gnTY3I",
        "outputId": "c47ad1a9-587c-4ae0-be65-7872a4349303"
      },
      "execution_count": 6,
      "outputs": [
        {
          "output_type": "execute_result",
          "data": {
            "text/plain": [
              "(array([[ 8.77264213e-05,  3.21084335e-05, -8.33532718e-06,\n",
              "         -6.45684067e-04, -1.03202161e-03,  3.75011284e-03,\n",
              "          9.91317582e-06, -7.39297928e-06, -3.97849372e-06,\n",
              "         -1.54730678e-03, -7.71042642e-07]]),\n",
              " array([1, 1, 1, 1, 1, 1, 1, 0, 0, 0, 0, 0, 0, 1, 1, 0, 0, 1, 1, 1, 0, 0,\n",
              "        1, 1, 0, 0, 1, 0, 1, 1, 0, 1, 1, 1, 1, 0, 1, 0, 1, 0, 0, 0, 0, 0,\n",
              "        1, 0, 0, 1, 1, 0, 0, 0, 0, 0, 0, 1, 0, 0, 1, 1, 0, 0, 1, 1, 0, 0,\n",
              "        0, 1, 0, 1, 1, 1, 1, 0, 1, 1, 0, 1, 0, 1, 1, 0, 1, 1, 0, 0, 0, 1,\n",
              "        0, 1, 1, 1, 0, 1, 0, 1, 1, 0, 1, 1, 0, 0, 0, 0, 1, 1, 1, 1, 1, 1,\n",
              "        1, 0, 1, 0, 1, 1, 0, 1, 1, 0, 0, 0, 0, 1, 0, 1, 0, 1, 0, 1, 0, 0,\n",
              "        0, 0, 1, 1, 1, 0, 1, 0, 0, 0, 1, 1, 0, 1, 1, 1, 0, 1, 1, 1, 0, 0,\n",
              "        1, 1, 1, 0, 0, 1, 0, 1, 1, 0, 0, 1, 1, 0, 0, 0, 0, 1, 1, 0, 1, 0,\n",
              "        1, 0, 0, 1, 1, 1, 0, 0, 1, 0, 0, 1, 1, 0, 0, 1, 0, 1, 1, 0, 0, 1,\n",
              "        1, 1, 1, 0, 0, 0, 0, 1, 0, 1, 0, 0, 1, 0, 0, 1, 0, 1, 0, 1, 1, 0,\n",
              "        0, 1, 0, 0, 1, 0, 0, 0, 1, 1, 0, 0, 0, 1, 1, 1, 1, 1, 1, 1, 0, 1,\n",
              "        1, 0, 1, 0, 0, 0, 0, 0, 0, 1, 1, 1, 0, 0, 1, 1, 1, 1, 1, 0, 1, 0,\n",
              "        0, 1, 0, 1, 0, 0, 1, 0, 0, 0, 1, 1, 1, 0, 0, 1, 0, 0, 0, 0, 0, 1,\n",
              "        0, 1, 1, 0, 0, 0, 1, 1, 0, 0, 0, 0, 1, 0, 0, 0, 1, 0, 1, 0, 1, 0,\n",
              "        0, 0, 0, 0, 0, 0, 0, 1, 0, 1, 0, 1, 1, 0, 0, 1, 0, 1, 0, 0, 0, 0,\n",
              "        1, 0, 1, 1, 1, 0, 1, 1, 1, 0, 0, 0, 0, 0, 0, 1, 1, 1, 1, 1, 1, 0,\n",
              "        0, 0, 1, 1, 1, 1, 0, 1, 1, 0, 1, 0, 0, 0, 1, 0, 1, 1, 1, 0, 1, 0,\n",
              "        0, 1, 1, 0, 0, 0, 1, 0, 0, 0, 1, 1, 0, 1, 0, 1, 1, 1, 0, 0, 0, 0,\n",
              "        1, 1, 0, 1]),\n",
              " 0.815)"
            ]
          },
          "metadata": {},
          "execution_count": 6
        }
      ]
    },
    {
      "cell_type": "markdown",
      "metadata": {
        "id": "8I06kejCVxv8"
      },
      "source": [
        "**Logistic regression with simple gradient descent** Fill in the LogisticRegressionGD() function. To do that, two helper functions sigmoid_activation(), to calculate the sigmoid function result, and model_optimize(), to calculate the gradient of w, will be needed. Both helper functions can be used in the following AdaGrad optimization function. Use a learning rate of $10^{−4}$, run with 2000 iterations. Report the weights and accuracy. Keep track of the accuracy every 100 iterations in the training set. It will be used later."
      ]
    },
    {
      "cell_type": "code",
      "execution_count": 7,
      "metadata": {
        "id": "PpkEe4mkQ19p"
      },
      "outputs": [],
      "source": [
        "def sigmoid_activation(x):\n",
        "    \"\"\"\n",
        "    Calculates the sigmoid function.\n",
        "    \n",
        "    Args:\n",
        "        x: numpy array of input, of shape (1, n)\n",
        "           where n is the number of observations\n",
        "        \n",
        "    Returns:\n",
        "        final_result: numpy array of sigmoid result, of shape (1, n)\n",
        "                      where n is the number of observations\n",
        "    \"\"\"\n",
        "\n",
        "    value = 1/(1+ np.exp(-x))\n",
        "    return value"
      ]
    },
    {
      "cell_type": "markdown",
      "metadata": {
        "id": "TScnzScyaCZM"
      },
      "source": [
        "We add a predict() function here to threshold probability prediction into binary classification"
      ]
    },
    {
      "cell_type": "code",
      "execution_count": 56,
      "metadata": {
        "id": "ypERS0E1SLul"
      },
      "outputs": [],
      "source": [
        "def predict(final_pred):\n",
        "    \"\"\"\n",
        "    Predict labels from probability to 0/1 label, threshold 0.5.\n",
        "    \n",
        "    Args:\n",
        "        final_pred: numpy array of probabilty that each sample belonging to class 1, of shape (1, n)\n",
        "                    where n is the number of observations \n",
        "        \n",
        "    Returns:\n",
        "        y_pred: numpy array of label of each sample, of shape (1, n)\n",
        "                where n is the number of observations\n",
        "    \"\"\"\n",
        "    return (final_pred>0.5).astype(int)"
      ]
    },
    {
      "cell_type": "markdown",
      "metadata": {
        "id": "9BJvPP71bFs5"
      },
      "source": [
        "**Remember to derive the gradient, write down the weight update formula, and hand in them to the latex submission!**"
      ]
    },
    {
      "cell_type": "code",
      "execution_count": 104,
      "metadata": {
        "id": "2RGSw2AyQ_kE"
      },
      "outputs": [],
      "source": [
        "def model_optimize(w, X, Y):\n",
        "    \n",
        "    \"\"\"\n",
        "    Calculates gradient of the weights.\n",
        "    \n",
        "    Args:\n",
        "        X: numpy array of training samples of shape (n, p)\n",
        "           where n is the number of observations\n",
        "           p is the number of features\n",
        "        Y: numpy array of training labels of shape (n, 1)\n",
        "        w: numpy array of weights of shape (1, p)\n",
        "    Returns:\n",
        "        dw: the gradient of the weights of shape (1, p)\n",
        "    \"\"\"\n",
        "    sigs = sigmoid_activation(np.matmul(X, w.T)).reshape(-1,1)\n",
        "    dw = (np.matmul((Y-sigs).T, X))/X.shape[0]\n",
        "    return dw"
      ]
    },
    {
      "cell_type": "code",
      "source": [
        "# helper function\n",
        "def get_accuracy(w, X, y):\n",
        "    y_pred = sigmoid_activation(np.matmul(X, w.T)).reshape(-1,1)\n",
        "    y_pred_classes = predict(y_pred)\n",
        "    return y_pred, y_pred_classes, accuracy_score(y, y_pred_classes)"
      ],
      "metadata": {
        "id": "Z_ioIgxezq4M"
      },
      "execution_count": 105,
      "outputs": []
    },
    {
      "cell_type": "code",
      "execution_count": 106,
      "metadata": {
        "id": "VI5Fdz6ZRUQ9"
      },
      "outputs": [],
      "source": [
        "def LogisticRegressionGD(w, X, Y, learning_rate, num_iterations):\n",
        "    \"\"\"\n",
        "    Uses batch gradient descent to update weights for logistic regression.\n",
        "\n",
        "    Args:       \n",
        "        w: numpy array of initial weights of shape (1, p)\n",
        "           where p is the number of features\n",
        "        X: numpy array of training samples of shape (n, p)\n",
        "           where n is the number of observations\n",
        "        Y: numpy array of training labels of shape (n, 1)\n",
        "        learning_rate: float number learning rate to update w\n",
        "        num_iterations: int number of iterations to update w\n",
        "    \n",
        "    Returns:  \n",
        "        coeff: numpy array of weights after optimization of shape (1, p)\n",
        "        accuracies: a list of accuracy at each hundred's iteration. With 2000 iterations, \n",
        "                    accuracies should be a list of size 21 (starting from 0)\n",
        "\n",
        "\n",
        "    \"\"\"\n",
        "    acc_lst = [get_accuracy(w, X, Y)[2]]\n",
        "    for i in range(num_iterations):\n",
        "        dw = model_optimize(w, X, Y)\n",
        "        w = w + learning_rate * dw\n",
        "        if ((i+1)%100==0):\n",
        "            acc = get_accuracy(w, X, Y)[2]\n",
        "            acc_lst.append(acc)\n",
        "    return w, acc_lst"
      ]
    },
    {
      "cell_type": "markdown",
      "metadata": {
        "id": "AQ2M5WETZ4f0"
      },
      "source": [
        "**Logistic regression with AdaGrad** Fill in the LogisticRegressionAda() function. Use a learning rate of $10^{−4}$, run with 2000 iterations. Report the weights and accuracy. Keep track of the accuracy every 100 iterations in the training set. It will be used later."
      ]
    },
    {
      "cell_type": "code",
      "execution_count": 107,
      "metadata": {
        "id": "cIO8iOzJRscr"
      },
      "outputs": [],
      "source": [
        "def LogisticRegressionAda(w, X, Y, learning_rate, num_iterations):\n",
        "\n",
        "    \"\"\"\n",
        "    Use AdaGrad to update weights.\n",
        "    \n",
        "    Args:       \n",
        "        w: numpy array of initial weights of shape (1, p)\n",
        "           where p is the number of features\n",
        "        X: numpy array of training samples of shape (n, p)\n",
        "           where n is the number of observations\n",
        "        Y: numpy array of training labels of shape (n, 1)\n",
        "        learning_rate: float number learning rate to update w\n",
        "        num_iterations: int number of iterations to update w\n",
        "    \n",
        "    Returns:  \n",
        "        coeff: numpy array of weights after optimization of shape (1, p)\n",
        "        accuracies: a list of accuracy at each hundred's iteration. With 2000 iterations, \n",
        "                    accuracies should be a list of size 21 (starting from 0)\n",
        "    \"\"\"\n",
        "\n",
        "    acc_lst = [get_accuracy(w, X, Y)[2]]\n",
        "    for i in range(num_iterations):\n",
        "        dw = model_optimize(w, X, Y)\n",
        "        if i!=0:\n",
        "            dw_t = np.concatenate((dw_t, dw), axis=0)\n",
        "        else:\n",
        "            dw_t = dw\n",
        "        lr = learning_rate/((dw_t**2).sum(axis=0))**0.5\n",
        "        w = w + lr * dw\n",
        "        if ((i+1)%100==0):\n",
        "            acc = get_accuracy(w, X, Y)[2]\n",
        "            acc_lst.append(acc)\n",
        "    return w, acc_lst"
      ]
    },
    {
      "cell_type": "markdown",
      "metadata": {
        "id": "iLQA1SHAaRQn"
      },
      "source": [
        "Now we start to use our dataset and construct model."
      ]
    },
    {
      "cell_type": "markdown",
      "metadata": {
        "id": "845srOn1DG7j"
      },
      "source": [
        "Model construction for GD logistic regression."
      ]
    },
    {
      "cell_type": "code",
      "execution_count": 113,
      "metadata": {
        "id": "tpa3o6VMTdTc",
        "colab": {
          "base_uri": "https://localhost:8080/"
        },
        "outputId": "b46aa148-3020-459b-bf8e-c98f2d8c1e90"
      },
      "outputs": [
        {
          "output_type": "execute_result",
          "data": {
            "text/plain": [
              "(0.66625, 0.67, array([[-3.22556760e-02,  5.19295454e-02, -1.11428918e-02,\n",
              "         -3.29074939e-01, -9.76324768e-01,  3.46687457e+00,\n",
              "          1.54510258e-02, -1.55937838e-02, -6.72916022e-03,\n",
              "         -1.82143744e+00, -9.07742499e-04]]))"
            ]
          },
          "metadata": {},
          "execution_count": 113
        }
      ],
      "source": [
        "\"\"\"\n",
        "Results for gradient descent weight update\n",
        "\"\"\"\n",
        "\n",
        "# Gradient Descent\n",
        "coeff_GD, acc_GD = LogisticRegressionGD(w, X_train, y_train, learning_rate=0.0001,num_iterations=2000)\n",
        "\n",
        "# predict probability, predict label\n",
        "y_pred_proba_trn, y_pred_trn, trn_acc = get_accuracy(coeff_GD, X_train, y_train)\n",
        "y_pred_proba_test, y_pred_test, test_acc = get_accuracy(coeff_GD, X_test, y_test)\n",
        "\n",
        "trn_acc, test_acc, coeff_GD"
      ]
    },
    {
      "cell_type": "markdown",
      "metadata": {
        "id": "4cSHZdx-amhq"
      },
      "source": [
        "Model construction for AdaGrad logistic regression."
      ]
    },
    {
      "cell_type": "code",
      "execution_count": 112,
      "metadata": {
        "id": "idXxXj3zTcwp",
        "colab": {
          "base_uri": "https://localhost:8080/"
        },
        "outputId": "c957f153-3f6b-4cbe-fbb3-f07134018fa9"
      },
      "outputs": [
        {
          "output_type": "execute_result",
          "data": {
            "text/plain": [
              "(0.82375, 0.815, array([[ 8.56662093e-05,  7.32614055e-03, -4.06504586e-03,\n",
              "         -1.84267619e-04, -1.05933061e-03,  4.09573947e-03,\n",
              "          7.04325844e-03, -7.02781789e-03, -6.96851681e-03,\n",
              "         -2.22061428e-03, -2.22196570e-03]]))"
            ]
          },
          "metadata": {},
          "execution_count": 112
        }
      ],
      "source": [
        "\"\"\"\n",
        "Results for AdaGrad Descent weight update\n",
        "Please comment out these statements before converting to .py file and submitting.\n",
        "\"\"\"\n",
        "coeff_Ada, acc_Ada = LogisticRegressionAda(w, X_train, y_train, learning_rate=0.0001, num_iterations=2000)\n",
        "\n",
        "# predict probability, predict label\n",
        "y_pred_proba_trn, y_pred_trn, trn_acc = get_accuracy(coeff_Ada, X_train, y_train)\n",
        "y_pred_proba_test, y_pred_test, test_acc = get_accuracy(coeff_Ada, X_test, y_test)\n",
        "\n",
        "trn_acc, test_acc, coeff_Ada"
      ]
    },
    {
      "cell_type": "markdown",
      "metadata": {
        "id": "egjfJWHWasSQ"
      },
      "source": [
        "Plot accuracy vs iteration for GD and AdaGrad. Compare the performance difference. Briefly explain the reason."
      ]
    },
    {
      "cell_type": "code",
      "execution_count": 114,
      "metadata": {
        "id": "AFiMS7M4UEU7",
        "colab": {
          "base_uri": "https://localhost:8080/",
          "height": 638
        },
        "outputId": "55f8fac9-7cfe-45a0-b301-2f51b50055fa"
      },
      "outputs": [
        {
          "output_type": "execute_result",
          "data": {
            "text/plain": [
              "<matplotlib.legend.Legend at 0x7efeeeaaee10>"
            ]
          },
          "metadata": {},
          "execution_count": 114
        },
        {
          "output_type": "display_data",
          "data": {
            "text/plain": [
              "<Figure size 1080x720 with 1 Axes>"
            ],
            "image/png": "[encoded data removed]"
          },
          "metadata": {
            "needs_background": "light"
          }
        }
      ],
      "source": [
        "\"\"\"\n",
        "Plot accuracy vs iteration for GD and AdaGrad\n",
        "\"\"\"\n",
        "plt.figure(figsize=(15,10))\n",
        "plt.plot(range(0,2100, 100), acc_GD, label=\"GD\")\n",
        "plt.plot(range(0,2100, 100), acc_Ada, label=\"AdaGrad\")\n",
        "plt.title(\"Train accuracy Vs. Iteration\")\n",
        "plt.xlabel(\"Iteration\")\n",
        "plt.ylabel(\"Train accuracy\")\n",
        "plt.legend(loc=\"bottom right\")"
      ]
    },
    {
      "cell_type": "code",
      "source": [],
      "metadata": {
        "id": "6mcvYFYt4do6"
      },
      "execution_count": null,
      "outputs": []
    }
  ],
  "metadata": {
    "colab": {
      "collapsed_sections": [],
      "provenance": []
    },
    "kernelspec": {
      "display_name": "Python 3",
      "name": "python3"
    }
  },
  "nbformat": 4,
  "nbformat_minor": 0
}