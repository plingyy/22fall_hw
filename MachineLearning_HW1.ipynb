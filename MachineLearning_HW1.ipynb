{
  "nbformat": 4,
  "nbformat_minor": 0,
  "metadata": {
    "colab": {
      "provenance": [],
      "collapsed_sections": [],
      "toc_visible": true
    },
    "kernelspec": {
      "display_name": "Python 3",
      "language": "python",
      "name": "python3"
    },
    "language_info": {
      "codemirror_mode": {
        "name": "ipython",
        "version": 3
      },
      "file_extension": ".py",
      "mimetype": "text/x-python",
      "name": "python",
      "nbconvert_exporter": "python",
      "pygments_lexer": "ipython3",
      "version": "3.6.7"
    }
  },
  "cells": [
    {
      "cell_type": "markdown",
      "metadata": {
        "id": "uMMASUUdm4E7"
      },
      "source": [
        "# Homework 1 (Coding)\n",
        "\n",
        "**Due Tuesday 20th September, 11:59pm**\n",
        "\n",
        "If you are working in pairs make sure to add your team member’s name on Gradescope when submitting"
      ]
    },
    {
      "cell_type": "code",
      "metadata": {
        "id": "mqy1LtZCIQuG"
      },
      "source": [
        "\"\"\"\n",
        "Import libraries that you might require\n",
        "\"\"\"\n",
        "\n",
        "import numpy as np\n",
        "import math\n",
        "import matplotlib.pyplot as plt\n",
        "import operator\n",
        "import pandas as pd\n",
        "import io\n",
        "import requests\n",
        "from sklearn.metrics import accuracy_score"
      ],
      "execution_count": 1,
      "outputs": []
    },
    {
      "cell_type": "markdown",
      "metadata": {
        "id": "RAfePG6PyjNp"
      },
      "source": [
        "# Load Dataset"
      ]
    },
    {
      "cell_type": "code",
      "metadata": {
        "id": "y2lGPqwTymkU",
        "colab": {
          "base_uri": "https://localhost:8080/",
          "height": 248
        },
        "outputId": "fe08f06e-95f4-4c65-d984-e92d36120012"
      },
      "source": [
        "url=\"https://raw.githubusercontent.com/susanli2016/Machine-Learning-with-Python/master/diabetes.csv\"\n",
        "response = requests.get(url).content\n",
        "diabetes = pd.read_csv(io.StringIO(response.decode('utf-8')))\n",
        "diabetes.head()"
      ],
      "execution_count": 2,
      "outputs": [
        {
          "output_type": "execute_result",
          "data": {
            "text/plain": [
              "   Pregnancies  Glucose  BloodPressure  SkinThickness  Insulin   BMI  \\\n",
              "0            6      148             72             35        0  33.6   \n",
              "1            1       85             66             29        0  26.6   \n",
              "2            8      183             64              0        0  23.3   \n",
              "3            1       89             66             23       94  28.1   \n",
              "4            0      137             40             35      168  43.1   \n",
              "\n",
              "   DiabetesPedigreeFunction  Age  Outcome  \n",
              "0                     0.627   50        1  \n",
              "1                     0.351   31        0  \n",
              "2                     0.672   32        1  \n",
              "3                     0.167   21        0  \n",
              "4                     2.288   33        1  "
            ],
            "text/html": [
              "\n",
              "  <div id=\"df-e942b3f6-6ce1-4dd9-9acc-af7c0c329a50\">\n",
              "    <div class=\"colab-df-container\">\n",
              "      <div>\n",
              "<style scoped>\n",
              "    .dataframe tbody tr th:only-of-type {\n",
              "        vertical-align: middle;\n",
              "    }\n",
              "\n",
              "    .dataframe tbody tr th {\n",
              "        vertical-align: top;\n",
              "    }\n",
              "\n",
              "    .dataframe thead th {\n",
              "        text-align: right;\n",
              "    }\n",
              "</style>\n",
              "<table border=\"1\" class=\"dataframe\">\n",
              "  <thead>\n",
              "    <tr style=\"text-align: right;\">\n",
              "      <th></th>\n",
              "      <th>Pregnancies</th>\n",
              "      <th>Glucose</th>\n",
              "      <th>BloodPressure</th>\n",
              "      <th>SkinThickness</th>\n",
              "      <th>Insulin</th>\n",
              "      <th>BMI</th>\n",
              "      <th>DiabetesPedigreeFunction</th>\n",
              "      <th>Age</th>\n",
              "      <th>Outcome</th>\n",
              "    </tr>\n",
              "  </thead>\n",
              "  <tbody>\n",
              "    <tr>\n",
              "      <th>0</th>\n",
              "      <td>6</td>\n",
              "      <td>148</td>\n",
              "      <td>72</td>\n",
              "      <td>35</td>\n",
              "      <td>0</td>\n",
              "      <td>33.6</td>\n",
              "      <td>0.627</td>\n",
              "      <td>50</td>\n",
              "      <td>1</td>\n",
              "    </tr>\n",
              "    <tr>\n",
              "      <th>1</th>\n",
              "      <td>1</td>\n",
              "      <td>85</td>\n",
              "      <td>66</td>\n",
              "      <td>29</td>\n",
              "      <td>0</td>\n",
              "      <td>26.6</td>\n",
              "      <td>0.351</td>\n",
              "      <td>31</td>\n",
              "      <td>0</td>\n",
              "    </tr>\n",
              "    <tr>\n",
              "      <th>2</th>\n",
              "      <td>8</td>\n",
              "      <td>183</td>\n",
              "      <td>64</td>\n",
              "      <td>0</td>\n",
              "      <td>0</td>\n",
              "      <td>23.3</td>\n",
              "      <td>0.672</td>\n",
              "      <td>32</td>\n",
              "      <td>1</td>\n",
              "    </tr>\n",
              "    <tr>\n",
              "      <th>3</th>\n",
              "      <td>1</td>\n",
              "      <td>89</td>\n",
              "      <td>66</td>\n",
              "      <td>23</td>\n",
              "      <td>94</td>\n",
              "      <td>28.1</td>\n",
              "      <td>0.167</td>\n",
              "      <td>21</td>\n",
              "      <td>0</td>\n",
              "    </tr>\n",
              "    <tr>\n",
              "      <th>4</th>\n",
              "      <td>0</td>\n",
              "      <td>137</td>\n",
              "      <td>40</td>\n",
              "      <td>35</td>\n",
              "      <td>168</td>\n",
              "      <td>43.1</td>\n",
              "      <td>2.288</td>\n",
              "      <td>33</td>\n",
              "      <td>1</td>\n",
              "    </tr>\n",
              "  </tbody>\n",
              "</table>\n",
              "</div>\n",
              "      <button class=\"colab-df-convert\" onclick=\"convertToInteractive('df-e942b3f6-6ce1-4dd9-9acc-af7c0c329a50')\"\n",
              "              title=\"Convert this dataframe to an interactive table.\"\n",
              "              style=\"display:none;\">\n",
              "        \n",
              "  <svg xmlns=\"http://www.w3.org/2000/svg\" height=\"24px\"viewBox=\"0 0 24 24\"\n",
              "       width=\"24px\">\n",
              "    <path d=\"M0 0h24v24H0V0z\" fill=\"none\"/>\n",
              "    <path d=\"M18.56 5.44l.94 2.06.94-2.06 2.06-.94-2.06-.94-.94-2.06-.94 2.06-2.06.94zm-11 1L8.5 8.5l.94-2.06 2.06-.94-2.06-.94L8.5 2.5l-.94 2.06-2.06.94zm10 10l.94 2.06.94-2.06 2.06-.94-2.06-.94-.94-2.06-.94 2.06-2.06.94z\"/><path d=\"M17.41 7.96l-1.37-1.37c-.4-.4-.92-.59-1.43-.59-.52 0-1.04.2-1.43.59L10.3 9.45l-7.72 7.72c-.78.78-.78 2.05 0 2.83L4 21.41c.39.39.9.59 1.41.59.51 0 1.02-.2 1.41-.59l7.78-7.78 2.81-2.81c.8-.78.8-2.07 0-2.86zM5.41 20L4 18.59l7.72-7.72 1.47 1.35L5.41 20z\"/>\n",
              "  </svg>\n",
              "      </button>\n",
              "      \n",
              "  <style>\n",
              "    .colab-df-container {\n",
              "      display:flex;\n",
              "      flex-wrap:wrap;\n",
              "      gap: 12px;\n",
              "    }\n",
              "\n",
              "    .colab-df-convert {\n",
              "      background-color: #E8F0FE;\n",
              "      border: none;\n",
              "      border-radius: 50%;\n",
              "      cursor: pointer;\n",
              "      display: none;\n",
              "      fill: #1967D2;\n",
              "      height: 32px;\n",
              "      padding: 0 0 0 0;\n",
              "      width: 32px;\n",
              "    }\n",
              "\n",
              "    .colab-df-convert:hover {\n",
              "      background-color: #E2EBFA;\n",
              "      box-shadow: 0px 1px 2px rgba(60, 64, 67, 0.3), 0px 1px 3px 1px rgba(60, 64, 67, 0.15);\n",
              "      fill: #174EA6;\n",
              "    }\n",
              "\n",
              "    [theme=dark] .colab-df-convert {\n",
              "      background-color: #3B4455;\n",
              "      fill: #D2E3FC;\n",
              "    }\n",
              "\n",
              "    [theme=dark] .colab-df-convert:hover {\n",
              "      background-color: #434B5C;\n",
              "      box-shadow: 0px 1px 3px 1px rgba(0, 0, 0, 0.15);\n",
              "      filter: drop-shadow(0px 1px 2px rgba(0, 0, 0, 0.3));\n",
              "      fill: #FFFFFF;\n",
              "    }\n",
              "  </style>\n",
              "\n",
              "      <script>\n",
              "        const buttonEl =\n",
              "          document.querySelector('#df-e942b3f6-6ce1-4dd9-9acc-af7c0c329a50 button.colab-df-convert');\n",
              "        buttonEl.style.display =\n",
              "          google.colab.kernel.accessAllowed ? 'block' : 'none';\n",
              "\n",
              "        async function convertToInteractive(key) {\n",
              "          const element = document.querySelector('#df-e942b3f6-6ce1-4dd9-9acc-af7c0c329a50');\n",
              "          const dataTable =\n",
              "            await google.colab.kernel.invokeFunction('convertToInteractive',\n",
              "                                                     [key], {});\n",
              "          if (!dataTable) return;\n",
              "\n",
              "          const docLinkHtml = 'Like what you see? Visit the ' +\n",
              "            '<a target=\"_blank\" href=https://colab.research.google.com/notebooks/data_table.ipynb>data table notebook</a>'\n",
              "            + ' to learn more about interactive tables.';\n",
              "          element.innerHTML = '';\n",
              "          dataTable['output_type'] = 'display_data';\n",
              "          await google.colab.output.renderOutput(dataTable, element);\n",
              "          const docLink = document.createElement('div');\n",
              "          docLink.innerHTML = docLinkHtml;\n",
              "          element.appendChild(docLink);\n",
              "        }\n",
              "      </script>\n",
              "    </div>\n",
              "  </div>\n",
              "  "
            ]
          },
          "metadata": {},
          "execution_count": 2
        }
      ]
    },
    {
      "cell_type": "code",
      "metadata": {
        "id": "PGU3nr9PzMq3"
      },
      "source": [
        "# Split the data into training, validation and testing sets\n",
        "\n",
        "from sklearn.model_selection import train_test_split\n",
        "\n",
        "data = diabetes.to_numpy()\n",
        "X, y = data[:, :-1], data[:, -1]\n",
        "\n",
        "X_train, X_val_test, y_train, y_val_test = train_test_split(X, y, stratify=y, test_size = 0.25, random_state=66)\n",
        "X_val, X_test, y_val, y_test = train_test_split(X_val_test, y_val_test, test_size = 0.4, random_state=66)"
      ],
      "execution_count": 3,
      "outputs": []
    },
    {
      "cell_type": "code",
      "source": [
        "len(X_train)"
      ],
      "metadata": {
        "colab": {
          "base_uri": "https://localhost:8080/"
        },
        "id": "NCQ0Zn9WVDRJ",
        "outputId": "67a0efe4-4557-4844-b30c-98b3fb33a746"
      },
      "execution_count": 4,
      "outputs": [
        {
          "output_type": "execute_result",
          "data": {
            "text/plain": [
              "576"
            ]
          },
          "metadata": {},
          "execution_count": 4
        }
      ]
    },
    {
      "cell_type": "markdown",
      "metadata": {
        "id": "HMQDN_YzIQuK"
      },
      "source": [
        "# Question 3: KNN Classification"
      ]
    },
    {
      "cell_type": "markdown",
      "metadata": {
        "id": "WgH67-bV4AJ9"
      },
      "source": [
        "We will implement the KNN algorithm for the diabetes dataset. Refer to the pdf and the following functions for the instructions. Complete all the functions as indicated below. "
      ]
    },
    {
      "cell_type": "code",
      "metadata": {
        "id": "5qmuIim2IQuK"
      },
      "source": [
        "\"\"\"\n",
        "Task 1: Classification\n",
        "\n",
        "Please implement KNN for K: 3, 5, and 7 \n",
        "with the following norms:\n",
        "L1\n",
        "L2\n",
        "L-inf\n",
        "\n",
        "\"\"\"\n",
        "\n",
        "def distanceFunc(metric_type, vec1, vec2):\n",
        "    \"\"\"\n",
        "    Computes the distance between two d-dim vectors\n",
        "    Args:\n",
        "        metric_type: String\n",
        "        vec1 (numpy vector): Vector\n",
        "        vec2 (numpy vector): Vector\n",
        "    Returns:\n",
        "        distance (float): distance between the two vectors\n",
        "    \"\"\"\n",
        "\n",
        "    diff = vec1 - vec2\n",
        "    if metric_type == \"L1\":\n",
        "        #complete\n",
        "        distance = sum(abs(diff))\n",
        "\n",
        "    if metric_type == \"L2\":\n",
        "        #complete\n",
        "        distance = np.sqrt(sum(diff**2))\n",
        "        \n",
        "    if metric_type == \"L-inf\":\n",
        "        #complete\n",
        "        distance = np.max(abs(diff))\n",
        "        \n",
        "    return distance\n",
        "\n",
        "\n",
        "def computeDistancesNeighbors(K, metric_type, X_train, y_train, sample):\n",
        "    \"\"\"\n",
        "    Compute the distances between every datapoint in the train_data and the \n",
        "    given sample. Then, find the k-nearest neighbors.\n",
        "    Return a numpy array of the label of the k-nearest neighbors.\n",
        "    \n",
        "    Args:\n",
        "        K (int): K-value\n",
        "        metric_type (String): metric type\n",
        "        X_train (numpy array): Training data\n",
        "        y_train : Training labels\n",
        "        sample (numpy vector): Sample whose distance is to computed with every entry in the dataset\n",
        "        \n",
        "    Returns:\n",
        "        neighbors (list): K-nearest neighbors' labels\n",
        "    \"\"\"\n",
        "\n",
        "    # You will also call the function \"distanceFunc\" here\n",
        "    # Complete this function\n",
        "    output = []\n",
        "    for i in range(len(X_train)):\n",
        "      output.append(distanceFunc(metric_type, X_train[i], sample))\n",
        "    neighbors = y_train[np.where(np.argsort(np.argsort(output))<K)]\n",
        "    return neighbors\n",
        "\n",
        "\n",
        "def Majority(neighbors):\n",
        "    \"\"\"\n",
        "    Performs majority voting and returns the predicted value for the test sample\n",
        "    Args:\n",
        "        neighbors (list): K-nearest neighbors' labels\n",
        "    Returns:\n",
        "        predicted_value (int or float): predicted label for the given sample\n",
        "    \"\"\"\n",
        "    \n",
        "    # Performs majority voting\n",
        "    # Complete this function\n",
        "    dict_ans = {}\n",
        "    for i in neighbors:\n",
        "      if not dict_ans.get(i,''):\n",
        "        dict_ans[i] = 1\n",
        "      else:\n",
        "        dict_ans[i] += 1\n",
        "    predicted_value = max(dict_ans, key=dict_ans.get)\n",
        "    \n",
        "    return predicted_value\n",
        "\n",
        "\n",
        "def KNN(K, metric_type, X_train, y_train, X_val):\n",
        "    \"\"\"\n",
        "    Returns the predicted values for the entire validation or test set\n",
        "    Args:\n",
        "        K (int): K-value\n",
        "        metric_type (String): metric type\n",
        "        X_train (numpy array): Training data\n",
        "        y_train : Training labels\n",
        "        X_val or X_test (numpy array): Validation or test data\n",
        "    Returns:\n",
        "        predicted_values (list): output for every entry in validation/test dataset \n",
        "    \"\"\"\n",
        "    \n",
        "    # Complete this function\n",
        "    # Loop through the val_data or the test_data (as required)\n",
        "    # and compute the output for every entry in that dataset  \n",
        "    # You will also call the function \"Majority\" here\n",
        "    predictions = []\n",
        "    for i in range(len(X_val)):\n",
        "      neighbors = computeDistancesNeighbors(K, metric_type, X_train, y_train, X_val[i])\n",
        "      predictions.append(Majority(neighbors))\n",
        "    \n",
        "        \n",
        "    return predictions\n",
        "\n",
        "\n",
        "def evaluation(predicted_values, actual_values):\n",
        "    \"\"\"\n",
        "    Computes the accuracy of the given datapoints.\n",
        "    \n",
        "    Args:\n",
        "        predicted_values: vector\n",
        "        actual_values: numpy vector\n",
        "    \n",
        "    Returns:\n",
        "        accuracy (float): accuracy\n",
        "    \"\"\"\n",
        "    \n",
        "    return accuracy_score(predicted_values, actual_values)\n",
        "\n",
        "\n",
        "def main():\n",
        "    \"\"\"\n",
        "    Calls the above functions in order to implement the KNN algorithm.\n",
        "    \n",
        "    Test over the following range K = 3,5,7 and all three metrics. \n",
        "    In total you will have nine combinations to try.\n",
        "    \n",
        "    PRINTS out the accuracies for the nine combinations on the validation set,\n",
        "    and the accuracy on the test set for the selected K value and appropriate norm.\n",
        "    \"\"\"\n",
        "    \n",
        "    ## Complete this function\n",
        "    \n",
        "    K = [3,5,7]\n",
        "    norm = [\"L1\", \"L2\", \"L-inf\"]\n",
        "    \n",
        "    print(\"<<<<VALIDATION DATA PREDICTIONS>>>>\")\n",
        "\n",
        "    for k in K:\n",
        "        for metric_type in norm:      \n",
        "          print('K = ',k, 'Norm = ',metric_type,': ',evaluation(KNN(k, metric_type, X_train, y_train, X_val), y_val))\n",
        "\n",
        "    ## Complete\n",
        "\n",
        "    print(\"<<<<TEST DATA PREDICTIONS>>>>\")\n",
        "    for k in K:\n",
        "        for metric_type in norm:      \n",
        "          print('K = ',k, 'Norm = ',metric_type,': ',evaluation(KNN(k, metric_type, X_train, y_train, X_test), y_test))\n",
        "\n",
        "    ## Complete\n",
        "    "
      ],
      "execution_count": 5,
      "outputs": []
    },
    {
      "cell_type": "code",
      "metadata": {
        "id": "DW4D4AbBjhK5",
        "colab": {
          "base_uri": "https://localhost:8080/"
        },
        "outputId": "e99bac9a-bde0-4367-d3fa-03caed890989"
      },
      "source": [
        "# Finally, call the main function\n",
        "main()"
      ],
      "execution_count": 6,
      "outputs": [
        {
          "output_type": "stream",
          "name": "stdout",
          "text": [
            "<<<<VALIDATION DATA PREDICTIONS>>>>\n",
            "K =  3 Norm =  L1 :  0.7217391304347827\n",
            "K =  3 Norm =  L2 :  0.6956521739130435\n",
            "K =  3 Norm =  L-inf :  0.7304347826086957\n",
            "K =  5 Norm =  L1 :  0.7565217391304347\n",
            "K =  5 Norm =  L2 :  0.7652173913043478\n",
            "K =  5 Norm =  L-inf :  0.7304347826086957\n",
            "K =  7 Norm =  L1 :  0.7304347826086957\n",
            "K =  7 Norm =  L2 :  0.7739130434782608\n",
            "K =  7 Norm =  L-inf :  0.7304347826086957\n",
            "<<<<TEST DATA PREDICTIONS>>>>\n",
            "K =  3 Norm =  L1 :  0.7402597402597403\n",
            "K =  3 Norm =  L2 :  0.7012987012987013\n",
            "K =  3 Norm =  L-inf :  0.7012987012987013\n",
            "K =  5 Norm =  L1 :  0.7272727272727273\n",
            "K =  5 Norm =  L2 :  0.7012987012987013\n",
            "K =  5 Norm =  L-inf :  0.7012987012987013\n",
            "K =  7 Norm =  L1 :  0.7532467532467533\n",
            "K =  7 Norm =  L2 :  0.7142857142857143\n",
            "K =  7 Norm =  L-inf :  0.7142857142857143\n"
          ]
        }
      ]
    },
    {
      "cell_type": "code",
      "source": [
        "len(X_val[0])"
      ],
      "metadata": {
        "colab": {
          "base_uri": "https://localhost:8080/"
        },
        "id": "um6zLQktOHfr",
        "outputId": "f98ae61f-9a30-468e-dee8-4dff95468534"
      },
      "execution_count": 7,
      "outputs": [
        {
          "output_type": "execute_result",
          "data": {
            "text/plain": [
              "8"
            ]
          },
          "metadata": {},
          "execution_count": 7
        }
      ]
    },
    {
      "cell_type": "markdown",
      "metadata": {
        "id": "XmURULzoXCvq"
      },
      "source": [
        "# Question 4: Decision Tree Classification"
      ]
    },
    {
      "cell_type": "markdown",
      "metadata": {
        "id": "S-_QAM3jXCvq"
      },
      "source": [
        "### Helper functions\n",
        "The block below contains helper functions for this task."
      ]
    },
    {
      "cell_type": "code",
      "metadata": {
        "id": "9KC2aNmoXCvr"
      },
      "source": [
        "import numpy as np\n",
        "from sklearn.tree import DecisionTreeClassifier\n",
        "import matplotlib.pyplot as plt\n",
        "\n",
        "# Below are a list of helper functions to use to help you on this task\n",
        "\n",
        "def train_decision_tree(X, y, depth=None, leaf_count=None):\n",
        "  \"\"\"\n",
        "  Trains a decision tree classifier on the given X, y data with the specified \n",
        "  tree depth d and max leaf node count max_leaf_num.\n",
        "  \n",
        "  Args:\n",
        "    X ((n,p) np.ndarray): The input Xs, which are in an n (number of samples) by\n",
        "                          p (number of features) matrix\n",
        "    y ((n,) np.ndarray): The input ys, which are in an n length array\n",
        "    depth (int): The maximum depth of the tree. A value of None means no restrictions\n",
        "             on the depth of the tree.\n",
        "    leaf_count (int): The maximum leaf count of the tree's leaf nodes. A value of None means \n",
        "    no restrictions on the leaf count of the tree.\n",
        "  \n",
        "  Returns:\n",
        "    clf(DecisionTreeClassifier): the trained decision tree classifier\n",
        "  \"\"\"\n",
        "  clf = DecisionTreeClassifier(max_depth=depth, max_leaf_nodes=leaf_count, criterion=\"entropy\", random_state=1)\n",
        "  clf.fit(X,y)\n",
        "  return clf\n",
        "\n",
        "def predict(clf, X_test):\n",
        "  \"\"\"\n",
        "  Uses a trained decision tree classifier to predict on a given test set.\n",
        "  \n",
        "  Args:\n",
        "    clf (DecisionTreeClassifier): Trained Decision Tree Classifer\n",
        "    X_test ((n,p) np.ndarray): The input Xs, which are in an n (number of samples) by\n",
        "                               p (number of features) matrix\n",
        "  \n",
        "  Returns:\n",
        "    y_pred ((n,) np.ndarray): The output predictions, which are in an n length array\n",
        "  \"\"\"\n",
        "  y_pred = clf.predict(X_test)\n",
        "  return y_pred\n",
        "\n",
        "def evaluate(predicted_values, actual_values):\n",
        "    \"\"\"\n",
        "    Computes the accuracy of the given datapoints.\n",
        "    \n",
        "    Args:\n",
        "        predicted_values: numpy array\n",
        "        actual_values: numpy array\n",
        "    \n",
        "    Returns:\n",
        "        a floating point number representing the accuracy\n",
        "    \"\"\"\n",
        "    from sklearn.metrics import accuracy_score\n",
        "    return accuracy_score(predicted_values, actual_values)\n",
        "  \n",
        "def plot_line_graph(x_vals, y_vals_1, y_vals_2, y_vals_1_label, y_vals_2_label, x_axis_label, y_axis_label, title):\n",
        "  \"\"\"\n",
        "  Plots a line graph of two lines of different values with common x-values\n",
        "  \n",
        "  Args:\n",
        "    x_vals ((j,) list): Values to be displayed on horizontal axis, where j is number of values\n",
        "    y_vals_1 ((j,) list): First set of values to be graphed on a line in respect to x_vals, where j is number of values\n",
        "    y_vals_2 ((j,) list): Second set of values to be graphed on a line in respect to x_vals, where j is number of values\n",
        "    y_vals_1_label (string): Label for first set of y values\n",
        "    y_vals_2_label (string): Label for second set of y values\n",
        "    x_axis_label (string): Label for x axis\n",
        "    y_axis_label (string): Label for y axis\n",
        "    title (string): Plot title\n",
        "  \"\"\"\n",
        "  \n",
        "  plt.plot(x_vals, y_vals_1, color='g', label=y_vals_1_label)\n",
        "  plt.plot(x_vals, y_vals_2, color='orange', label=y_vals_2_label)\n",
        "  plt.xlabel(x_axis_label)\n",
        "  plt.ylabel(y_axis_label)\n",
        "  plt.title(title)\n",
        "  plt.legend(loc='upper right')\n",
        "  plt.show()"
      ],
      "execution_count": 8,
      "outputs": []
    },
    {
      "cell_type": "markdown",
      "metadata": {
        "id": "eP9j8K21XCvs"
      },
      "source": [
        "### Compare Accuracy for full classification dataset as well as smaller classification dataset\n",
        "We will be using the diabetes classification dataset. You are also given a smaller training dataset with the same data as the full dataset but with only half of the sample number. We will observe the performance changes when less data is available.\n",
        "\n",
        "To start, uncomment the code below and run to create small dataset. "
      ]
    },
    {
      "cell_type": "code",
      "metadata": {
        "id": "LRothkZeXCvt"
      },
      "source": [
        "# We will also use the same diabetes classification dataset in Task 1.\n",
        "# Let's create a smaller version of the training dataset using only half of the data available\n",
        "\n",
        "train_sample_num_small = int(X_train.shape[0] / 2)\n",
        "X_train_small, y_train_small = X_train[:train_sample_num_small], y_train[:train_sample_num_small]"
      ],
      "execution_count": 9,
      "outputs": []
    },
    {
      "cell_type": "markdown",
      "metadata": {
        "id": "PEsSQwRMXCvv"
      },
      "source": [
        "### Base Metrics on Full and Partial Data\n",
        "To start, you will be comparing the training and testing accuracies of both datasets given a vanilla decision tree.\n",
        "\n",
        "Note: Make sure to create two separate classifiers for each dataset."
      ]
    },
    {
      "cell_type": "code",
      "metadata": {
        "id": "xfRXN92DXCvv"
      },
      "source": [
        "def base_metrics(X_train, y_train, X_train_small, y_train_small, X_val, y_val, X_test, y_test):\n",
        "  \"\"\"\n",
        "  Create a decision tree classifer on the full dataset and the partial dataset (only half of n).\n",
        "    \n",
        "  Args: (Note that n is not the same among train and test sets, but merely refers to sample size)\n",
        "    X_train ((n,p) np.ndarray): Input feature matrix of full dataset for training/fitting\n",
        "    y_train ((n,) np.ndarray): Input label array of full dataset for training/fitting\n",
        "    X_train_small ((n,p) np.ndarray): Input feature matrix of partial/small dataset for training/fitting\n",
        "    y_train_small ((n,) np.ndarray): Input label array of partial/small dataset for training/fitting\n",
        "    X_val ((n,p) np.ndarray): Input feature matrix of full dataset for validation\n",
        "    y_val ((n,) np.ndarray): Input label array of full dataset for validation\n",
        "    X_test ((n,p) np.ndarray): Input feature matrix of full dataset for testing\n",
        "    y_test ((n,) np.ndarray): Input label array of full dataset for testing    \n",
        "\n",
        "  To observe:\n",
        "    train_acc_full_set (float): Training accuracy using a model trained on the full dataset\n",
        "    val_acc_full_set (float): Validation accuracy using a model trained on the full dataset\n",
        "    test_acc_full_set (float): Test accuracy using a model trained on the full dataset\n",
        "    train_acc_small_set (float): Training accuracy using a model trained on the small dataset\n",
        "    val_acc_small_set (float): Validation accuracy using a model trained on the small dataset\n",
        "    test_acc_small_set (float): Test accuracy using a model trained on the small dataset\n",
        "  \"\"\"\n",
        "  \n",
        "  # <---- Your code here ----->\n",
        "  train_acc_full_set = evaluate(predict(train_decision_tree(X_train, y_train, depth=None, leaf_count=None), X_train), y_train)\n",
        "  val_acc_full_set = evaluate(predict(train_decision_tree(X_train, y_train, depth=None, leaf_count=None), X_val), y_val)\n",
        "  test_acc_full_set = evaluate(predict(train_decision_tree(X_train, y_train, depth=None, leaf_count=None), X_test), y_test)\n",
        "  train_acc_small_set = evaluate(predict(train_decision_tree(X_train_small, y_train_small, depth=None, leaf_count=None), X_train_small), y_train_small)\n",
        "  val_acc_small_set = evaluate(predict(train_decision_tree(X_train_small, y_train_small, depth=None, leaf_count=None), X_val), y_val)\n",
        "  test_acc_small_set = evaluate(predict(train_decision_tree(X_train_small, y_train_small, depth=None, leaf_count=None), X_test), y_test)\n",
        "\n",
        "  # <---- Your code ends here ----->\n",
        "  \n",
        "  print(\"Train Accuracy on Full Dataset: \", train_acc_full_set)\n",
        "  print(\"Validation Accuracy on Full Dataset: \", val_acc_full_set)\n",
        "  print(\"Test Accuracy on Full Dataset: \", test_acc_full_set)\n",
        "  print(\"Train Accuracy on Small (Half) Dataset: \", train_acc_small_set)\n",
        "  print(\"Validation Accuracy on Small (Half) Dataset: \", val_acc_small_set)\n",
        "  print(\"Test Accuracy on Small (Half) Dataset: \", test_acc_small_set)\n",
        "  \n",
        "  return (train_acc_full_set, \n",
        "          val_acc_full_set, \n",
        "          test_acc_full_set,\n",
        "          train_acc_small_set, \n",
        "          val_acc_small_set, \n",
        "          test_acc_small_set)"
      ],
      "execution_count": 10,
      "outputs": []
    },
    {
      "cell_type": "markdown",
      "metadata": {
        "id": "QTH2bUBY3SCP"
      },
      "source": [
        "Uncomment the code below and run the code. "
      ]
    },
    {
      "cell_type": "code",
      "metadata": {
        "id": "VM9BV2i3XCvx",
        "colab": {
          "base_uri": "https://localhost:8080/"
        },
        "outputId": "b291f460-30b3-476d-afcf-83c4e4e95575"
      },
      "source": [
        "base_metrics(X_train, y_train, X_train_small, y_train_small, X_val, y_val, X_test, y_test)"
      ],
      "execution_count": 11,
      "outputs": [
        {
          "output_type": "stream",
          "name": "stdout",
          "text": [
            "Train Accuracy on Full Dataset:  1.0\n",
            "Validation Accuracy on Full Dataset:  0.7043478260869566\n",
            "Test Accuracy on Full Dataset:  0.7532467532467533\n",
            "Train Accuracy on Small (Half) Dataset:  1.0\n",
            "Validation Accuracy on Small (Half) Dataset:  0.7130434782608696\n",
            "Test Accuracy on Small (Half) Dataset:  0.6753246753246753\n"
          ]
        },
        {
          "output_type": "execute_result",
          "data": {
            "text/plain": [
              "(1.0,\n",
              " 0.7043478260869566,\n",
              " 0.7532467532467533,\n",
              " 1.0,\n",
              " 0.7130434782608696,\n",
              " 0.6753246753246753)"
            ]
          },
          "metadata": {},
          "execution_count": 11
        }
      ]
    },
    {
      "cell_type": "markdown",
      "metadata": {
        "id": "7gUUoJSO3SCR"
      },
      "source": [
        "### Question 4.1 Report on LaTeX\n",
        "Answer the following questions on LaTeX in the respective section.\n",
        "1. Report the results of the accuracies on LateX \n",
        "2. Which dataset had a higher difference between training and test accuracy? Briefly explain why."
      ]
    },
    {
      "cell_type": "markdown",
      "metadata": {
        "id": "6xiF5-LvXCvz"
      },
      "source": [
        "### Improving Decision Tree for Smaller Dataset by Tuning Hyperparameters\n",
        "Classifiers often overfit on smaller datasets, so now, we will optimize hyperparameters on tree depth and max leaf count to improve the performance of our model. \n",
        "\n",
        "Fill out the helper functions below which will take an array of hyperparameter values for tree depth and an array of hyperparameter values for max leaf count. The helper function will return a training and validation accuracy scores for each pair of hyperparameter values. This is referred to as grid search for hyperparameter tuning.\n",
        "\n",
        "At the end, the function identifies the best value of the tree depth and tree node count hyperparameters for a dataset, as well as the final training and testing scores.\n",
        "\n",
        "Note: Use the highest validation score to choose the optimal hyperparameter combination. If there is a tie, use the lower hyperparameter value."
      ]
    },
    {
      "cell_type": "code",
      "metadata": {
        "id": "k1nPIPFmXCvz"
      },
      "source": [
        "def grid_search_depth_and_leaf_count(depth_search_space, leaf_count_search_space, X_train, y_train, X_val, y_val):\n",
        "  \"\"\"\n",
        "  Perform a decision tree hyperparameter grid search on tree depth and leaf count given training and validation data.\n",
        "    \n",
        "  Args:\n",
        "    depth_search_space ((d,) list): Tree depth values to search over, i.e. [1, 3, 6, 10, 30]\n",
        "    leaf_count_search_space ((l,) list): Max leaf count values to search over, i.e. [2, 3, 4, 5, 6]\n",
        "    X_train ((n, p) np.ndarray): The input feature matrix for training\n",
        "    y_train ((n, p) np.ndarray): The input ys for training\n",
        "    X_val ((n, p) np.ndarray): The input feature matrix that will be used to validate accuracy scores\n",
        "    y_val ((n, p) np.ndarray): The input ys that will be used to validate accuracy scores\n",
        "    \n",
        "  To return:\n",
        "    best_depth (int): The depth count in the hyperparameter combination with the largest validation score\n",
        "    best_leaf_count (int): The leaf count in the hyperparameter combination with the largest validation score\n",
        "  \"\"\"\n",
        "  \n",
        "  \n",
        "  \n",
        "  # <---- Your code here ----->\n",
        "  acc = 0\n",
        "  for i in depth_search_space:\n",
        "    for j in leaf_count_search_space:\n",
        "      acc1 = evaluate(predict(train_decision_tree(X_train, y_train, depth=i, leaf_count=j), X_val), y_val)\n",
        "      if acc < acc1:\n",
        "        acc = acc1\n",
        "        best_depth = i\n",
        "        best_leaf_count = j\n",
        "\n",
        "  # <---- Your code ends here ----->\n",
        "  print(\"Chosen Depth: \", best_depth)\n",
        "  print(\"Chosen Leaf: \", best_leaf_count)\n",
        "  \n",
        "  return best_depth, best_leaf_count"
      ],
      "execution_count": 12,
      "outputs": []
    },
    {
      "cell_type": "markdown",
      "metadata": {
        "id": "RvCBkKLJ3SCV"
      },
      "source": [
        "Uncomment and run the code below to and record the best depth and best leaf count hyperparameters on LaTeX in the respective section."
      ]
    },
    {
      "cell_type": "code",
      "metadata": {
        "id": "RyZZ2CHb3SCW",
        "colab": {
          "base_uri": "https://localhost:8080/"
        },
        "outputId": "60ad2c9c-16b8-4be7-b61a-2243cc30e234"
      },
      "source": [
        "# Search spaces for grid search to tune tree depth and leaf count hyperparameters\n",
        "depth_search_space = [1, 3, 6, 10, 30]\n",
        "leaf_count_search_space = [2, 3, 4, 5, 6]\n",
        "\n",
        "print(\"FULL DATASET\")\n",
        "grid_search_depth_and_leaf_count(depth_search_space, \n",
        "                                 leaf_count_search_space, \n",
        "                                 X_train, \n",
        "                                 y_train, \n",
        "                                 X_val, \n",
        "                                 y_val)\n",
        "\n",
        "print(\"\\nSMALL DATASET\")\n",
        "grid_search_depth_and_leaf_count(depth_search_space, \n",
        "                                 leaf_count_search_space, \n",
        "                                 X_train_small, \n",
        "                                 y_train_small, \n",
        "                                 X_val,\n",
        "                                 y_val)"
      ],
      "execution_count": 13,
      "outputs": [
        {
          "output_type": "stream",
          "name": "stdout",
          "text": [
            "FULL DATASET\n",
            "Chosen Depth:  3\n",
            "Chosen Leaf:  4\n",
            "\n",
            "SMALL DATASET\n",
            "Chosen Depth:  1\n",
            "Chosen Leaf:  2\n"
          ]
        },
        {
          "output_type": "execute_result",
          "data": {
            "text/plain": [
              "(1, 2)"
            ]
          },
          "metadata": {},
          "execution_count": 13
        }
      ]
    },
    {
      "cell_type": "markdown",
      "metadata": {
        "id": "T_oY8swF3SCX"
      },
      "source": [
        "### Question 4.2 Report on LaTeX\n",
        "Answer the following questions on LaTeX in the respective section.\n",
        "1. Report the chosen hyperparameters for both the complete set and the partial set.\n",
        "2. Did the small dataset have higher or lower chosen hyperparameter values than the full dataset? Briefly explain why."
      ]
    },
    {
      "cell_type": "markdown",
      "metadata": {
        "id": "e85OLhHfXCv_"
      },
      "source": [
        "### Retrain Decision Tree and Plot Hyperparameter Search\n",
        "Now retrain your decision tree with the optimal hyperparameters. Report training, validation, and testing error for the small dataset.\n",
        "\n",
        "Also for the small dataset, create a graph plotting the training and validation scores for each leaf node hyperparameter value, holding the tree depth hyperparameter consistent at the chosen value."
      ]
    },
    {
      "cell_type": "code",
      "metadata": {
        "id": "JrWrji_iXCwA"
      },
      "source": [
        "def retrain_decision_tree(X_train, y_train, X_val, y_val, X_test, y_test):\n",
        "  \n",
        "  \"\"\"\n",
        "  Perform a decision tree hyperparameter grid search given training and validation data and search values for\n",
        "  tree depth and leaf node count.\n",
        "    \n",
        "  Args: (Note that n is not the same among train and test sets, but merely refers to sample size)\n",
        "    X_train ((n,p) np.ndarray)\n",
        "    y_train ((n,) np.ndarray)\n",
        "    X_val ((n,p) np.ndarray)\n",
        "    y_val ((n,) np.ndarray)\n",
        "    X_test ((n,p) np.ndarray)\n",
        "    y_test ((n,) np.ndarray)\n",
        "\n",
        "  To return:\n",
        "    train_acc (float): Optimal Hyperparameters Train Accuracy\n",
        "    val_acc (float): Optimal Hyperparameters Train Accuracy\n",
        "    test_acc (float): Optimal Hyperparameters Train Accuracy\n",
        "    \n",
        "    leaf_count_train_scores (list): Report training scores for max leaf count search space\n",
        "    leaf_count_val_scores (list): Report validation scores for max leaf count search space\n",
        "  \"\"\"\n",
        "  # Select best hyperparameters\n",
        "  depth_search_space = [2, 4, 6, 8, 10, 16, 20]\n",
        "  leaf_count_search_space = [2, 3, 4, 5, 6, 7, 8, 9, 10] \n",
        "\n",
        "  chosen_depth, chosen_leaf_count = grid_search_depth_and_leaf_count(depth_search_space, \n",
        "                                                                     leaf_count_search_space, \n",
        "                                                                     X_train, \n",
        "                                                                     y_train, \n",
        "                                                                     X_val, \n",
        "                                                                     y_val)\n",
        "  \n",
        "  # <---- Your code here ----->          \n",
        "  train_acc = evaluate(predict(train_decision_tree(X_train, y_train, depth=chosen_depth, leaf_count=chosen_leaf_count), X_train), y_train)\n",
        "  val_acc = evaluate(predict(train_decision_tree(X_train, y_train, depth=chosen_depth, leaf_count=chosen_leaf_count), X_val), y_val)\n",
        "  test_acc = evaluate(predict(train_decision_tree(X_train, y_train, depth=chosen_depth, leaf_count=chosen_leaf_count), X_test), y_test)\n",
        "  leaf_count_train_scores = []\n",
        "  leaf_count_val_scores = []\n",
        "  for i in leaf_count_search_space:\n",
        "    leaf_count_train_scores.append(evaluate(predict(train_decision_tree(X_train_small, y_train_small, depth=chosen_depth, leaf_count=i), X_train_small), y_train_small))\n",
        "    leaf_count_val_scores.append(evaluate(predict(train_decision_tree(X_train_small, y_train_small, depth=chosen_depth, leaf_count=i), X_val), y_val))\n",
        "\n",
        "  fig = plt.figure(figsize=(8,6))\n",
        "  ax = fig.add_subplot(111)\n",
        "  ax.plot(range(2,len(leaf_count_train_scores)+2),leaf_count_train_scores,label='Train')\n",
        "  ax.plot(range(2,len(leaf_count_val_scores)+2),leaf_count_val_scores,label='Validation')\n",
        "  ax.set_title('Training and Validation Scores For Each Leaf Node Hyperparameter Value')\n",
        "  ax.set_xlabel('leaf counts')\n",
        "  ax.set_ylabel('leaf scores')\n",
        "  plt.legend()\n",
        "  plt.show()\n",
        "\n",
        "  # <---- Your code ends here ----->\n",
        "  \n",
        "  print(\"Optimal Hyperparameters Train Accuracy: \", train_acc)\n",
        "  print(\"Optimal Hyperparameters Validation Accuracy: \", val_acc)\n",
        "  print(\"Optimal Hyperparameters Test Accuracy: \", test_acc)\n",
        "  \n",
        "  print(\"Training Scores per Max Leaf Node Count:\", leaf_count_train_scores)\n",
        "  print(\"Validation Scores per Max Leaf Node Count:\", leaf_count_val_scores)\n",
        "  \n",
        "  return (train_acc, val_acc, test_acc, leaf_count_train_scores, leaf_count_val_scores)"
      ],
      "execution_count": 18,
      "outputs": []
    },
    {
      "cell_type": "markdown",
      "metadata": {
        "id": "F0BXjFYN3SCa"
      },
      "source": [
        "Run the code above for the small dataset and by uncommenting code below. Report all necessary values and both graphs on Latex."
      ]
    },
    {
      "cell_type": "code",
      "metadata": {
        "id": "jLJCMcNWXCwD",
        "colab": {
          "base_uri": "https://localhost:8080/",
          "height": 900
        },
        "outputId": "a3e088c8-9bd8-4922-c17b-36e28d0444bd"
      },
      "source": [
        "retrain_decision_tree(X_train_small, y_train_small, X_val, y_val, X_test, y_test)"
      ],
      "execution_count": 19,
      "outputs": [
        {
          "output_type": "stream",
          "name": "stdout",
          "text": [
            "Chosen Depth:  6\n",
            "Chosen Leaf:  9\n"
          ]
        },
        {
          "output_type": "display_data",
          "data": {
            "text/plain": [
              "<Figure size 576x432 with 1 Axes>"
            ],
            "image/png": "[encoded data removed]"
          },
          "metadata": {
            "needs_background": "light"
          }
        },
        {
          "output_type": "stream",
          "name": "stdout",
          "text": [
            "Optimal Hyperparameters Train Accuracy:  0.8159722222222222\n",
            "Optimal Hyperparameters Validation Accuracy:  0.7739130434782608\n",
            "Optimal Hyperparameters Test Accuracy:  0.7142857142857143\n",
            "Training Scores per Max Leaf Node Count: [0.7743055555555556, 0.7743055555555556, 0.7743055555555556, 0.7743055555555556, 0.7743055555555556, 0.7777777777777778, 0.7951388888888888, 0.8159722222222222, 0.8159722222222222]\n",
            "Validation Scores per Max Leaf Node Count: [0.7478260869565218, 0.7478260869565218, 0.7478260869565218, 0.7478260869565218, 0.7478260869565218, 0.7478260869565218, 0.7130434782608696, 0.7739130434782608, 0.7739130434782608]\n"
          ]
        },
        {
          "output_type": "execute_result",
          "data": {
            "text/plain": [
              "(0.8159722222222222,\n",
              " 0.7739130434782608,\n",
              " 0.7142857142857143,\n",
              " [0.7743055555555556,\n",
              "  0.7743055555555556,\n",
              "  0.7743055555555556,\n",
              "  0.7743055555555556,\n",
              "  0.7743055555555556,\n",
              "  0.7777777777777778,\n",
              "  0.7951388888888888,\n",
              "  0.8159722222222222,\n",
              "  0.8159722222222222],\n",
              " [0.7478260869565218,\n",
              "  0.7478260869565218,\n",
              "  0.7478260869565218,\n",
              "  0.7478260869565218,\n",
              "  0.7478260869565218,\n",
              "  0.7478260869565218,\n",
              "  0.7130434782608696,\n",
              "  0.7739130434782608,\n",
              "  0.7739130434782608])"
            ]
          },
          "metadata": {},
          "execution_count": 19
        }
      ]
    },
    {
      "cell_type": "markdown",
      "metadata": {
        "id": "Z0-UXUer3SCd"
      },
      "source": [
        "### Question 4.3 Report on LaTeX\n",
        "Answer the following question on LaTeX in the respective section.\n",
        "1. Report the values on LaTeX.\n",
        "2. How did the training accuracy and testing accuracy change after tuning compared to before? Briefly explain why.\n",
        "3. Paste the plot and explain any trends or patterns with the plot within validation and training scores and briefly explain why."
      ]
    },
    {
      "cell_type": "markdown",
      "metadata": {
        "id": "zbNi5JkX0HnG"
      },
      "source": [
        "## Additional Exercise (Ungraded)\n",
        "\n",
        "This section is ungraded. You can try it out for fun. sklearn's [DecisionTreeClassifier](https://scikit-learn.org/stable/modules/generated/sklearn.tree.DecisionTreeClassifier.html) used in this homework has a parameter called **min_samples_split**. Try playing around with it's values to see if you can get better accuracy for the X_train_small dataset. \n",
        "\n",
        "You don't need to add results of this section in your submission. It is for you to try out. \n"
      ]
    },
    {
      "cell_type": "markdown",
      "metadata": {
        "id": "G2xmO04DXCwF"
      },
      "source": [
        "# Question 5: Feature Scaling Effects on KNNs and DTs"
      ]
    },
    {
      "cell_type": "markdown",
      "metadata": {
        "id": "NG7pZLBoXCwG"
      },
      "source": [
        "### Observing effects of standardizing features\n",
        "\n",
        "Up until now, we have not been using standardized features. Let's observe the effects of standardized features with decision trees and KNNs.\n",
        "\n",
        "Standardization, or feature scaling / data normalization, is a common preprocessing step for data within machine learning. We will see why it's important.\n",
        "\n",
        "Here is a definition taken from SK-Learn's website on Standardization:\n",
        "\n",
        "*Standardization of datasets is a common requirement for many machine learning estimators implemented in scikit-learn; they might behave badly if the individual features do not more or less look like standard normally distributed data: Gaussian with zero mean and unit variance.*\n",
        "\n",
        "*In practice we often ignore the shape of the distribution and just transform the data to center it by removing the mean value of each feature, then scale it by dividing non-constant features by their standard deviation.*\n",
        "\n",
        "Learn More: https://scikit-learn.org/stable/modules/preprocessing.html\n",
        "\n",
        "To start, uncomment the code below and run to retrieve the data. (Recomment before submission.)"
      ]
    },
    {
      "cell_type": "code",
      "metadata": {
        "id": "T5RokryGXCwH"
      },
      "source": [
        "# We will use the same data as the previous tasks\n",
        "# Normalize data\n",
        "from sklearn.preprocessing import StandardScaler\n",
        "\n",
        "scaler = StandardScaler()\n",
        "X_train_scaled = scaler.fit_transform(X_train)\n",
        "X_val_scaled = scaler.transform(X_val)\n",
        "X_test_scaled = scaler.transform(X_test)"
      ],
      "execution_count": 20,
      "outputs": []
    },
    {
      "cell_type": "markdown",
      "metadata": {
        "id": "t9COC_Pa3SCg"
      },
      "source": [
        "### Helper Functions\n",
        "  \n",
        "We implemented above the KNN algorithm. Sci-kit learn also has their own version of the KNN algorithm which we will use in this following task. Use the two helper functions below in this next task."
      ]
    },
    {
      "cell_type": "code",
      "metadata": {
        "id": "LJvoFpqh3SCg"
      },
      "source": [
        "from sklearn.metrics import accuracy_score\n",
        "from sklearn.neighbors import KNeighborsClassifier\n",
        "\n",
        "def train_KNN(X, y, norm=2, K=5):\n",
        "  \"\"\"\n",
        "  Trains a KNN classifier on the given X, y data with the specified \n",
        "  norm and K.\n",
        "  \n",
        "  Args:\n",
        "    X ((n,p) np.ndarray): The input Xs, which are in an n (number of samples) by\n",
        "                          p (number of features) matrix\n",
        "    y ((n,) np.ndarray): The input ys, which are in an n length array\n",
        "    norm (int): The number form of the norm. Note that sklearn only allows L1 and L2 norms,\n",
        "                (norm would be 1 and 2 respectively). Default is 2.\n",
        "    K (int): The value of K for the KNN algorithm. Default is 5.\n",
        "  \n",
        "  Returns:\n",
        "    clf(KNeighborsClassifier): the trained KNN model\n",
        "  \"\"\"\n",
        "  \n",
        "  clf = KNeighborsClassifier(n_neighbors=K, p=norm)\n",
        "  clf.fit(X,y)\n",
        "  return clf\n",
        "\n",
        "def train_decision_tree(X, y, depth=None, leaf_count=None):\n",
        "  \"\"\"\n",
        "  This helper function is defined again from a previous section. \n",
        "  \n",
        "  Trains a decision tree classifier on the given X, y data with the specified \n",
        "  tree depth d and max leaf node count max_leaf_num.\n",
        "  \n",
        "  Args:\n",
        "    X ((n,p) np.ndarray): The input Xs, which are in an n (number of samples) by\n",
        "                          p (number of features) matrix\n",
        "    y ((n,) np.ndarray): The input ys, which are in an n length array\n",
        "    depth (int): The maximum depth of the tree. A value of None means no restrictions\n",
        "             on the depth of the tree.\n",
        "    leaf_count (int): The maximum leaf count of the tree's leaf nodes. A value of None means \n",
        "    no restrictions on the leaf count of the tree.\n",
        "  \n",
        "  Returns:\n",
        "    clf(DecisionTreeClassifier): the trained decision tree\n",
        "  \"\"\"\n",
        "  clf = DecisionTreeClassifier(max_depth=depth, max_leaf_nodes=leaf_count, criterion=\"entropy\", random_state=1)\n",
        "  clf.fit(X,y)\n",
        "  return clf\n",
        "\n",
        "def predict(clf, X_test):\n",
        "  \"\"\"\n",
        "  This helper function is defined again from a previous section. \n",
        "  \n",
        "  Uses a trained model to predict on a given test set.\n",
        "  \n",
        "  Args:\n",
        "    clf (Classifier): Trained classifier such as KNN or Decision Tree\n",
        "    X_test ((n,p) np.ndarray): The input Xs, which are in an n (number of samples) by\n",
        "                               p (number of features) matrix\n",
        "  \n",
        "  Returns:\n",
        "    y_pred ((n,) np.ndarray): The output predictions, which are in an n length array\n",
        "  \"\"\"\n",
        "  y_pred = clf.predict(X_test)\n",
        "  return y_pred\n",
        "\n",
        "def evaluate(predicted_values, actual_values):\n",
        "    \"\"\"\n",
        "    This helper function is defined again from a previous section. \n",
        "    \n",
        "    Computes the accuracy of the given datapoints.\n",
        "    \n",
        "    Args:\n",
        "        predicted_values: numpy array\n",
        "        actual_values: numpy array\n",
        "    \n",
        "    Returns:\n",
        "        a floating point number representing the accuracy\n",
        "    \"\"\"\n",
        "    return accuracy_score(predicted_values, actual_values)"
      ],
      "execution_count": 21,
      "outputs": []
    },
    {
      "cell_type": "markdown",
      "metadata": {
        "id": "iVfyIhUiXCwK"
      },
      "source": [
        "### Retrieving Metrics for Unstandardized Data\n",
        "Fill out this function to retrieve training and test accuracies for both KNN and decision tree models. Use default hyperparameters."
      ]
    },
    {
      "cell_type": "code",
      "metadata": {
        "id": "K0XxTvHMXCwM"
      },
      "source": [
        "def get_classifier_metrics(X_train, y_train, X_test, y_test):\n",
        "  \"\"\"\n",
        "  Create a decision tree and KNN classifer on the normal dataset.\n",
        "    \n",
        "  Args: (Note that n is not the same among train and test sets, \n",
        "         but merely refers to sample size)\n",
        "    X_train ((n,p) np.ndarray)\n",
        "    y_train ((n,) np.ndarray)\n",
        "    X_test ((n,p) np.ndarray)\n",
        "    y_test ((n,) np.ndarray)\n",
        "\n",
        "  To return:\n",
        "    knn_train_accuracy (float): Accuracy of KNN for train set\n",
        "    knn_test_accuracy (float): Accuracy of KNN for test set\n",
        "    dt_train_accuracy (float): Accuracy of DT for train set\n",
        "    dt_test_accuracy (float): Accuracy of DT for test set    \n",
        "  \"\"\"\n",
        "  \n",
        "  # <---- Your code here ----->\n",
        "  knn_train_accuracy = evaluate(predict(train_KNN(X_train, y_train, norm=2, K=5), X_train), y_train)\n",
        "  knn_test_accuracy = evaluate(predict(train_KNN(X_train, y_train, norm=2, K=5), X_test), y_test)\n",
        "  dt_train_accuracy = evaluate(predict(train_decision_tree(X_train, y_train, depth=None, leaf_count=None), X_train), y_train)\n",
        "  dt_test_accuracy = evaluate(predict(train_decision_tree(X_train, y_train, depth=None, leaf_count=None), X_test), y_test)\n",
        "\n",
        "  # <---- Your code ends here ----->\n",
        "  \n",
        "  print(\"knn_train_accuracy: \", knn_train_accuracy)\n",
        "  print(\"knn_test_accuracy: \", knn_test_accuracy)\n",
        "  print(\"dt_train_accuracy: \", dt_train_accuracy)\n",
        "  print(\"dt_test_accuracy: \", dt_test_accuracy)\n",
        "  \n",
        "  return knn_train_accuracy, knn_test_accuracy, dt_train_accuracy, dt_test_accuracy"
      ],
      "execution_count": 22,
      "outputs": []
    },
    {
      "cell_type": "markdown",
      "metadata": {
        "id": "rF3Jmuy53SCk"
      },
      "source": [
        "Uncomment the code below and run the code."
      ]
    },
    {
      "cell_type": "code",
      "metadata": {
        "id": "kWS33o6OXCwO",
        "colab": {
          "base_uri": "https://localhost:8080/"
        },
        "outputId": "5b70e2bf-f0d3-4ffd-fa96-cf8e523bf367"
      },
      "source": [
        "print(\"FOR UNSTANDARDIZED DATA\")\n",
        "get_classifier_metrics(X_train, y_train, X_test, y_test)\n",
        "\n",
        "print(\"\\nFOR STANDARDIZED DATA\")\n",
        "get_classifier_metrics(X_train_scaled, y_train, X_test_scaled, y_test)"
      ],
      "execution_count": 23,
      "outputs": [
        {
          "output_type": "stream",
          "name": "stdout",
          "text": [
            "FOR UNSTANDARDIZED DATA\n",
            "knn_train_accuracy:  0.7899305555555556\n",
            "knn_test_accuracy:  0.7012987012987013\n",
            "dt_train_accuracy:  1.0\n",
            "dt_test_accuracy:  0.7532467532467533\n",
            "\n",
            "FOR STANDARDIZED DATA\n",
            "knn_train_accuracy:  0.8177083333333334\n",
            "knn_test_accuracy:  0.8181818181818182\n",
            "dt_train_accuracy:  1.0\n",
            "dt_test_accuracy:  0.7532467532467533\n"
          ]
        },
        {
          "output_type": "execute_result",
          "data": {
            "text/plain": [
              "(0.8177083333333334, 0.8181818181818182, 1.0, 0.7532467532467533)"
            ]
          },
          "metadata": {},
          "execution_count": 23
        }
      ]
    },
    {
      "cell_type": "markdown",
      "metadata": {
        "id": "-ZCmPf0G3SCn"
      },
      "source": [
        "### Question 5 Report on LaTex\n",
        "Answer the following question on LaTeX in the respective section.\n",
        "1. Report the values on LaTeX.\n",
        "2. What happens to performance when we use standardization for data with decision trees? What about KNN? Briefly explain why each happened."
      ]
    },
    {
      "cell_type": "markdown",
      "metadata": {
        "id": "G-7QVbownVl4"
      },
      "source": [
        "# Submission\n",
        "\n",
        "**Due Tuesday 20th September, 11:59pm**\n",
        "\n",
        "There are 3 deliverables you need to submit to Gradescope.\n",
        "\n",
        "1. A PDF compilation of hw1.tex with your name(s) in agreement.\n",
        "\n",
        "2. Your .ipynb file. Named, hw1.ipynb\n",
        "\n",
        "3. Your .py file. Named, hw1.py\n",
        "\n",
        "If you are working in pairs make sure to add your team member’s name on Gradescope when submitting\n"
      ]
    }
  ]
}