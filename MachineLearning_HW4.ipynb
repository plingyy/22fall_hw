{
  "cells": [
    {
      "cell_type": "markdown",
      "metadata": {
        "id": "KAqXcDzKwj4D"
      },
      "source": [
        "# Homework 4: Coding\n",
        "\n",
        "**Due Tuesday October 11th, 11:59pm.**\n",
        "\n",
        "\n",
        "**In order to avoid module version issues, please complete this assignment on Colab.**\n",
        "\n",
        "**Submit hw4.ipynb and hw4.py file to Gradescope (note there is no autograder for this assignment).**\n"
      ]
    },
    {
      "cell_type": "code",
      "execution_count": null,
      "metadata": {
        "id": "mqy1LtZCIQuG"
      },
      "outputs": [],
      "source": [
        "\"\"\"\n",
        "Import libraries that you might require\n",
        "\"\"\"\n",
        "\n",
        "import numpy as np\n",
        "import math\n",
        "import matplotlib.pyplot as plt\n",
        "import operator\n",
        "from sklearn.metrics import accuracy_score\n",
        "import sklearn.model_selection as ms\n",
        "\n",
        "\n",
        "from sklearn.ensemble import RandomForestClassifier\n",
        "from sklearn.svm import SVC\n",
        "from sklearn.neural_network import MLPClassifier\n",
        "from sklearn.tree import DecisionTreeClassifier\n",
        "from sklearn.ensemble import AdaBoostClassifier\n"
      ]
    },
    {
      "cell_type": "code",
      "execution_count": null,
      "metadata": {
        "colab": {
          "base_uri": "https://localhost:8080/"
        },
        "id": "5qmuIim2IQuK",
        "outputId": "dbcb98d0-101d-4e46-e389-48d2f2e05422"
      },
      "outputs": [
        {
          "output_type": "stream",
          "name": "stdout",
          "text": [
            "(1797, 64)\n"
          ]
        }
      ],
      "source": [
        "\"\"\"\n",
        "Load data (MNIST digits dataset).\n",
        "\n",
        "Note that we will skip the validation phase for\n",
        "this exercise as by now you are pretty familiar with the typical Machine Learning\n",
        "pipeline.\n",
        "\"\"\"\n",
        "\n",
        "from sklearn.datasets import load_digits\n",
        "digits = load_digits()\n",
        "print(digits.data.shape)\n",
        "\n",
        "X = digits['data']\n",
        "y = digits['target']\n",
        "\n",
        "np.random.seed(100)\n",
        "p = np.random.permutation(len(X))\n",
        "X, y = X[p], y[p]\n",
        "\n",
        "X_train, y_train = X[:1500], y[:1500]\n",
        "X_test, y_test = X[1500:], y[1500:]\n"
      ]
    },
    {
      "cell_type": "markdown",
      "metadata": {
        "id": "XmURULzoXCvq"
      },
      "source": [
        "# Question 2: Performance Comparisons for three ML algorithms"
      ]
    },
    {
      "cell_type": "markdown",
      "metadata": {
        "id": "BulL-miy2W1a"
      },
      "source": [
        "## 2.0 Accuracy"
      ]
    },
    {
      "cell_type": "code",
      "execution_count": null,
      "metadata": {
        "id": "En_czqit2Wip"
      },
      "outputs": [],
      "source": [
        "def train(models, X_train, y_train, X_test, y_test):\n",
        "  \"\"\"\n",
        "  Trains several models and returns the test accuracy for each of them\n",
        "  Args:\n",
        "      models: list of model objects\n",
        "  Returns:\n",
        "      score (float): list of accuracies of the different fitted models on test set\n",
        "  \"\"\"\n",
        "\n",
        "  # To complete: train and test each model in a for lop\n",
        "\n",
        "  accuracies = []\n",
        "  for model in models:\n",
        "    model.fit(X_train, y_train)\n",
        "    accuracies.append(accuracy_score(y_test, model.predict(X_test)))\n",
        "\n",
        "  return accuracies"
      ]
    },
    {
      "cell_type": "markdown",
      "metadata": {
        "id": "z_EG5SVkxrzs"
      },
      "source": [
        "## 2.1 Random Forest Classifier"
      ]
    },
    {
      "cell_type": "code",
      "execution_count": null,
      "metadata": {
        "id": "9KC2aNmoXCvr",
        "colab": {
          "base_uri": "https://localhost:8080/"
        },
        "outputId": "4ad2da9d-5b8f-4fa4-a2eb-0e5b6686907e"
      },
      "outputs": [
        {
          "output_type": "execute_result",
          "data": {
            "text/plain": [
              "[0.7373737373737373,\n",
              " 0.9259259259259259,\n",
              " 0.9528619528619529,\n",
              " 0.9663299663299664,\n",
              " 0.9764309764309764,\n",
              " 0.9764309764309764]"
            ]
          },
          "metadata": {},
          "execution_count": 4
        }
      ],
      "source": [
        "def modelRF(n_estimators):\n",
        "  \"\"\"\n",
        "  Creates model objects for the Random Forest Classifier.\n",
        "  See the documentation in sklearn here:\n",
        "  https://scikit-learn.org/stable/modules/generated/sklearn.ensemble.RandomForestClassifier.html\n",
        "  Args:\n",
        "    n_estimators: list of hyper parameters\n",
        "  return:\n",
        "    list of classifiers\n",
        "  \"\"\"\n",
        "  \n",
        "  list_n_estimators = n_estimators\n",
        "  random_state = 20 # Do not change this random_state\n",
        "\n",
        "\n",
        "  objs_RFC = []\n",
        "  \n",
        "  # To complete: Create a list of objects for the classifier for each of the above \"n_estimators\"\n",
        "  for i in n_estimators:\n",
        "    objs_RFC.append(RandomForestClassifier(n_estimators=i, random_state=random_state))\n",
        "\n",
        "  return objs_RFC\n",
        " \n",
        "\n",
        "# To complete: call the above function to train and test the Random Forest Classifier\n",
        "n_estimators=[1,5,10,50,100,500]\n",
        "objs_RFC = modelRF(n_estimators)\n",
        "train(objs_RFC, X_train, y_train, X_test, y_test)"
      ]
    },
    {
      "cell_type": "markdown",
      "metadata": {
        "id": "oJrNWsSgz6yh"
      },
      "source": [
        "## 2.2 Kernel SVM"
      ]
    },
    {
      "cell_type": "code",
      "execution_count": null,
      "metadata": {
        "id": "ZLg9s5T4pAus",
        "colab": {
          "base_uri": "https://localhost:8080/"
        },
        "outputId": "eca346cf-2fd9-4fe1-d247-77b14ee11b5e"
      },
      "outputs": [
        {
          "output_type": "execute_result",
          "data": {
            "text/plain": [
              "[0.9831649831649831, 0.9932659932659933, 0.9865319865319865]"
            ]
          },
          "metadata": {},
          "execution_count": 5
        }
      ],
      "source": [
        "def modelKSVM():\n",
        "  \"\"\"\n",
        "  Creates model objects for the Kernel SVM.\n",
        "  See the documentation in sklearn here:\n",
        "  https://scikit-learn.org/stable/modules/svm.html\n",
        "  \"\"\"\n",
        "  \n",
        "  list_kernel_type = ['linear', 'poly', 'rbf']\n",
        "  random_state = 20 # Do not change this random_state\n",
        "\n",
        "  objs_KSVM = []\n",
        "  \n",
        "  # To complete: Create a list of objects for the classifier for each of the above \"kernel\" types\n",
        "  for kernel in list_kernel_type:\n",
        "    objs_KSVM.append(SVC(kernel=kernel, random_state=random_state))\n",
        "\n",
        "  return objs_KSVM\n",
        "\n",
        "# To complete: Call the above function to train and test the Kernel SVM\n",
        "objs_KSVM = modelKSVM()\n",
        "train(objs_KSVM, X_train, y_train, X_test, y_test)"
      ]
    },
    {
      "cell_type": "markdown",
      "metadata": {
        "id": "8vSc15PpxyS2"
      },
      "source": [
        "## 2.3 Multi Layer Perceptron"
      ]
    },
    {
      "cell_type": "code",
      "execution_count": null,
      "metadata": {
        "id": "ejmbeisHpBdO",
        "colab": {
          "base_uri": "https://localhost:8080/"
        },
        "outputId": "f023af66-b9bb-40a4-8b3e-f55d6acb2268"
      },
      "outputs": [
        {
          "output_type": "execute_result",
          "data": {
            "text/plain": [
              "[0.8585858585858586,\n",
              " 0.9461279461279462,\n",
              " 0.9292929292929293,\n",
              " 0.9629629629629629]"
            ]
          },
          "metadata": {},
          "execution_count": 6
        }
      ],
      "source": [
        "def modelMLP():\n",
        "  \"\"\"\n",
        "  Creates model objects for the Multi Layered Perceptron.\n",
        "  See the documentation in sklearn here:\n",
        "  https://scikit-learn.org/stable/modules/generated/sklearn.neural_network.MLPClassifier.html\n",
        "  \"\"\"\n",
        "  \n",
        "  \n",
        "  layerSizes = [(3), (10), (10,10,10), (20,50,20)]\n",
        "  random_state = 20 # Do not change this random_state\n",
        "  max_iter = 2000 # fixed max_iter\n",
        "  \n",
        "  objs_MLP = []\n",
        "\n",
        "  # To complete: Create a list of objects for the classifier for each of the above \"layerSizes\"\n",
        "  for i in layerSizes:\n",
        "    objs_MLP.append(MLPClassifier(hidden_layer_sizes=i, max_iter=max_iter, random_state=random_state))\n",
        "\n",
        "  return objs_MLP\n",
        "\n",
        "# To complete: Call the above function to train and test the Multi Layer Perceptron\n",
        "objs_MLP = modelMLP()\n",
        "train(objs_MLP, X_train, y_train, X_test, y_test)"
      ]
    },
    {
      "cell_type": "markdown",
      "metadata": {
        "id": "82t0UEM2fYOM"
      },
      "source": [
        "## 2.4 AdaBoost"
      ]
    },
    {
      "cell_type": "code",
      "execution_count": null,
      "metadata": {
        "id": "9mceSBJ_fXU0",
        "colab": {
          "base_uri": "https://localhost:8080/"
        },
        "outputId": "149a7ddf-887a-49f8-b647-f3432daf496d"
      },
      "outputs": [
        {
          "output_type": "execute_result",
          "data": {
            "text/plain": [
              "[0.4377104377104377,\n",
              " 0.8249158249158249,\n",
              " 0.8316498316498316,\n",
              " 0.898989898989899,\n",
              " 0.9292929292929293,\n",
              " 0.9259259259259259]"
            ]
          },
          "metadata": {},
          "execution_count": 7
        }
      ],
      "source": [
        "def modelAdaBoost():\n",
        "  \"\"\"\n",
        "  Creates model objects for the AdaBoost.\n",
        "  See the documentation in sklearn here:\n",
        "  https://scikit-learn.org/stable/modules/generated/sklearn.ensemble.AdaBoostClassifier.html\n",
        "  \"\"\"\n",
        "  num_estimators = [1,5,10,50,100,150]\n",
        "  learning_rate = 0.1\n",
        "  max_depth = 3\n",
        "  random_state = 20 # Do not change this random_state\n",
        "  # To complete: Create a list of objects for the classifier for each of combination of above num_estimators and learning_rate\n",
        "  obj_boost = []\n",
        "  for i in num_estimators:\n",
        "    obj_boost.append(AdaBoostClassifier(base_estimator=DecisionTreeClassifier(max_depth=max_depth), n_estimators=i, learning_rate=learning_rate, random_state=random_state))\n",
        "\n",
        "  return obj_boost\n",
        "\n",
        "# To complete: Call the above function to train and test the AdaBoost Classifier\n",
        "objs_boost = modelAdaBoost()\n",
        "train(objs_boost, X_train, y_train, X_test, y_test)"
      ]
    },
    {
      "cell_type": "markdown",
      "metadata": {
        "id": "hnvvXuO2z-kt"
      },
      "source": [
        "# Submission\n",
        "\n",
        "**Due October 11th Tuesday, 11:59pm**\n",
        "\n",
        "**Submit the .ipynb and .py files downloaded from this notebook to gradescope.**\n",
        "\n",
        "If you are working in pairs make sure to add your team member’s name on Gradescope when submitting"
      ]
    },
    {
      "cell_type": "code",
      "source": [],
      "metadata": {
        "id": "QQxtYe-ycxKa"
      },
      "execution_count": null,
      "outputs": []
    }
  ],
  "metadata": {
    "colab": {
      "collapsed_sections": [],
      "provenance": []
    },
    "kernelspec": {
      "display_name": "Python 3.7.6 ('base')",
      "language": "python",
      "name": "python3"
    },
    "language_info": {
      "codemirror_mode": {
        "name": "ipython",
        "version": 3
      },
      "file_extension": ".py",
      "mimetype": "text/x-python",
      "name": "python",
      "nbconvert_exporter": "python",
      "pygments_lexer": "ipython3",
      "version": "3.7.6"
    },
    "vscode": {
      "interpreter": {
        "hash": "e3c088db1efafa0e4e25716687402645d533f87a5b3ea904c7b6c87e7fd1d2f5"
      }
    }
  },
  "nbformat": 4,
  "nbformat_minor": 0
}